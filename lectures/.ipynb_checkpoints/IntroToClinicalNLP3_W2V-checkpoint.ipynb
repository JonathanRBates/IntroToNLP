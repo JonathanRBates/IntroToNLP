{
 "cells": [
  {
   "cell_type": "markdown",
   "metadata": {},
   "source": [
    "# Introduction to Natural Language Processing\n",
    "\n",
    "In this notebook, we'll go over the Word2Vec skip-gram model.\n",
    "\n",
    "The skip-gram Word2Vec model predicts the context words from a given word."
   ]
  },
  {
   "cell_type": "code",
   "execution_count": 1,
   "metadata": {
    "collapsed": false
   },
   "outputs": [
    {
     "name": "stdout",
     "output_type": "stream",
     "text": [
      "3.5.2 |Anaconda 4.2.0 (64-bit)| (default, Jul  5 2016, 11:41:13) [MSC v.1900 64 bit (AMD64)]\n"
     ]
    }
   ],
   "source": [
    "import sys\n",
    "print(sys.version)   # check python version; using 3.5 for tensorflow"
   ]
  },
  {
   "cell_type": "code",
   "execution_count": 2,
   "metadata": {
    "collapsed": true
   },
   "outputs": [],
   "source": [
    "%matplotlib inline\n",
    "import collections\n",
    "import math\n",
    "import numpy as np\n",
    "import os\n",
    "import random\n",
    "import tensorflow as tf\n",
    "import zipfile\n",
    "import nltk\n",
    "from matplotlib import pylab\n",
    "from six.moves import range\n",
    "from sklearn.manifold import TSNE"
   ]
  },
  {
   "cell_type": "code",
   "execution_count": 3,
   "metadata": {
    "collapsed": false
   },
   "outputs": [],
   "source": [
    "from sklearn.datasets import fetch_20newsgroups\n",
    "news = fetch_20newsgroups(subset='train',\n",
    "                          categories=('rec.autos',\n",
    "                             'rec.motorcycles',\n",
    "                             'rec.sport.baseball',\n",
    "                             'rec.sport.hockey'),\n",
    "                          remove=('headers', 'footers', 'quotes'))\n",
    "ltokens = [nltk.word_tokenize(doc) for doc in news.data]\n",
    "# convert list of list of tokens (ltokens) into a list of tokens\n",
    "import itertools\n",
    "words = list(itertools.chain.from_iterable(ltokens))"
   ]
  },
  {
   "cell_type": "code",
   "execution_count": 4,
   "metadata": {
    "collapsed": false
   },
   "outputs": [
    {
     "data": {
      "text/plain": [
       "[(',', 15913),\n",
       " ('.', 15737),\n",
       " ('the', 14449),\n",
       " ('--', 11171),\n",
       " ('a', 6672),\n",
       " ('to', 6669),\n",
       " ('I', 5582),\n",
       " ('and', 5365),\n",
       " (')', 5337),\n",
       " ('of', 5049)]"
      ]
     },
     "execution_count": 4,
     "metadata": {},
     "output_type": "execute_result"
    }
   ],
   "source": [
    "collections.Counter(words).most_common(10)"
   ]
  },
  {
   "cell_type": "markdown",
   "metadata": {},
   "source": [
    "Build the dictionary and replace rare words with UNK token."
   ]
  },
  {
   "cell_type": "code",
   "execution_count": 5,
   "metadata": {
    "collapsed": false
   },
   "outputs": [
    {
     "name": "stdout",
     "output_type": "stream",
     "text": [
      "Most common words (+UNK) [['UNK', 27495], (',', 15913), ('.', 15737), ('the', 14449), ('--', 11171)]\n",
      "Sample data [250, 733, 1644, 5, 0, 7285, 1232, 2, 7, 63]\n"
     ]
    }
   ],
   "source": [
    "vocabulary_size = 10000\n",
    "\n",
    "def build_dataset(words):\n",
    "  count = [['UNK', -1]]\n",
    "  count.extend(collections.Counter(words).most_common(vocabulary_size - 1))\n",
    "  dictionary = dict()\n",
    "  for word, _ in count:\n",
    "    dictionary[word] = len(dictionary)\n",
    "  data = list()\n",
    "  unk_count = 0\n",
    "  for word in words:\n",
    "    if word in dictionary:\n",
    "      index = dictionary[word]\n",
    "    else:\n",
    "      index = 0  # dictionary['UNK']\n",
    "      unk_count = unk_count + 1\n",
    "    data.append(index)\n",
    "  count[0][1] = unk_count\n",
    "  reverse_dictionary = dict(zip(dictionary.values(), dictionary.keys())) \n",
    "  return data, count, dictionary, reverse_dictionary\n",
    "\n",
    "data, count, dictionary, reverse_dictionary = build_dataset(words)\n",
    "print('Most common words (+UNK)', count[:5])\n",
    "print('Sample data', data[:10])\n",
    "\n",
    "# Note\n",
    "#     words[i] = reverse_dictionary[data[i]])\n",
    "#\n",
    "\n",
    "del words  # Hint to reduce memory."
   ]
  },
  {
   "cell_type": "markdown",
   "metadata": {},
   "source": [
    "Function to generate a training batch for the skip-gram model."
   ]
  },
  {
   "cell_type": "code",
   "execution_count": 6,
   "metadata": {
    "collapsed": false
   },
   "outputs": [
    {
     "name": "stdout",
     "output_type": "stream",
     "text": [
      "data: ['My', 'friend', 'brought', 'a', 'UNK', 'SVX', 'recently', '.']\n",
      "\n",
      "with num_skips = 2 and skip_window = 1:\n",
      "    batch: ['friend', 'friend', 'brought', 'brought', 'a', 'a', 'UNK', 'UNK']\n",
      "    labels: ['brought', 'My', 'friend', 'a', 'UNK', 'brought', 'a', 'SVX']\n",
      "\n",
      "with num_skips = 4 and skip_window = 2:\n",
      "    batch: ['brought', 'brought', 'brought', 'brought', 'a', 'a', 'a', 'a']\n",
      "    labels: ['My', 'friend', 'a', 'UNK', 'friend', 'UNK', 'SVX', 'brought']\n"
     ]
    }
   ],
   "source": [
    "data_index = 0\n",
    "\n",
    "def generate_batch(batch_size, num_skips, skip_window):\n",
    "  global data_index\n",
    "  assert batch_size % num_skips == 0\n",
    "  assert num_skips <= 2 * skip_window\n",
    "  batch = np.ndarray(shape=(batch_size), dtype=np.int32)\n",
    "  labels = np.ndarray(shape=(batch_size, 1), dtype=np.int32)\n",
    "  span = 2 * skip_window + 1 # [ skip_window target skip_window ]\n",
    "  buffer = collections.deque(maxlen=span)\n",
    "  for _ in range(span):\n",
    "    buffer.append(data[data_index])\n",
    "    data_index = (data_index + 1) % len(data)\n",
    "  for i in range(batch_size // num_skips):\n",
    "    target = skip_window  # target label at the center of the buffer\n",
    "    targets_to_avoid = [ skip_window ]\n",
    "    for j in range(num_skips):\n",
    "      while target in targets_to_avoid:\n",
    "        target = random.randint(0, span - 1)\n",
    "      targets_to_avoid.append(target)\n",
    "      batch[i * num_skips + j] = buffer[skip_window]\n",
    "      labels[i * num_skips + j, 0] = buffer[target]\n",
    "    buffer.append(data[data_index])\n",
    "    data_index = (data_index + 1) % len(data)\n",
    "  return batch, labels\n",
    "\n",
    "print('data:', [reverse_dictionary[di] for di in data[:8]])\n",
    "\n",
    "for num_skips, skip_window in [(2, 1), (4, 2)]:\n",
    "    data_index = 0\n",
    "    batch, labels = generate_batch(batch_size=8, num_skips=num_skips, skip_window=skip_window)\n",
    "    print('\\nwith num_skips = %d and skip_window = %d:' % (num_skips, skip_window))\n",
    "    print('    batch:', [reverse_dictionary[bi] for bi in batch])\n",
    "    print('    labels:', [reverse_dictionary[li] for li in labels.reshape(8)])"
   ]
  },
  {
   "cell_type": "markdown",
   "metadata": {},
   "source": [
    "Train a skip-gram model."
   ]
  },
  {
   "cell_type": "code",
   "execution_count": null,
   "metadata": {
    "collapsed": true
   },
   "outputs": [],
   "source": [
    "batch_size = 128\n",
    "embedding_size = 128 # Dimension of the embedding vector.\n",
    "skip_window = 1 # How many words to consider left and right.\n",
    "num_skips = 2 # How many times to reuse an input to generate a label.\n",
    "# We pick a random validation set to sample nearest neighbors. here we limit the\n",
    "# validation samples to the words that have a low numeric ID, which by\n",
    "# construction are also the most frequent. \n",
    "valid_size = 16 # Random set of words to evaluate similarity on.\n",
    "valid_window = 100 # Only pick dev samples in the head of the distribution.\n",
    "valid_examples = np.array(random.sample(range(valid_window), valid_size))\n",
    "num_sampled = 64 # Number of negative examples to sample.\n",
    "\n",
    "graph = tf.Graph()\n",
    "\n",
    "with graph.as_default(), tf.device('/cpu:0'):\n",
    "\n",
    "  # Input data.\n",
    "  train_dataset = tf.placeholder(tf.int32, shape=[batch_size])\n",
    "  train_labels = tf.placeholder(tf.int32, shape=[batch_size, 1])\n",
    "  valid_dataset = tf.constant(valid_examples, dtype=tf.int32)\n",
    "  \n",
    "  # Variables.\n",
    "  embeddings = tf.Variable(\n",
    "    tf.random_uniform([vocabulary_size, embedding_size], -1.0, 1.0))\n",
    "  softmax_weights = tf.Variable(\n",
    "    tf.truncated_normal([vocabulary_size, embedding_size],\n",
    "                         stddev=1.0 / math.sqrt(embedding_size)))\n",
    "  softmax_biases = tf.Variable(tf.zeros([vocabulary_size]))\n",
    "  \n",
    "  # Model.\n",
    "  # Look up embeddings for inputs.\n",
    "  embed = tf.nn.embedding_lookup(embeddings, train_dataset)\n",
    "  # Compute the softmax loss, using a sample of the negative labels each time.\n",
    "  loss = tf.reduce_mean(\n",
    "    tf.nn.sampled_softmax_loss(weights=softmax_weights, biases=softmax_biases, inputs=embed,\n",
    "                               labels=train_labels, num_sampled=num_sampled, num_classes=vocabulary_size))\n",
    "\n",
    "  # Optimizer.\n",
    "  # Note: The optimizer will optimize the softmax_weights AND the embeddings.\n",
    "  # This is because the embeddings are defined as a variable quantity and the\n",
    "  # optimizer's `minimize` method will by default modify all variable quantities \n",
    "  # that contribute to the tensor it is passed.\n",
    "  # See docs on `tf.train.Optimizer.minimize()` for more details.\n",
    "  optimizer = tf.train.AdagradOptimizer(1.0).minimize(loss)\n",
    "  \n",
    "  # Compute the similarity between minibatch examples and all embeddings.\n",
    "  # We use the cosine distance:\n",
    "  norm = tf.sqrt(tf.reduce_sum(tf.square(embeddings), 1, keep_dims=True))\n",
    "  normalized_embeddings = embeddings / norm\n",
    "  valid_embeddings = tf.nn.embedding_lookup(\n",
    "    normalized_embeddings, valid_dataset)\n",
    "  similarity = tf.matmul(valid_embeddings, tf.transpose(normalized_embeddings))"
   ]
  },
  {
   "cell_type": "code",
   "execution_count": null,
   "metadata": {
    "collapsed": false
   },
   "outputs": [
    {
     "name": "stdout",
     "output_type": "stream",
     "text": [
      "Initialized\n",
      "Average loss at step 0: 7.142606\n",
      "Nearest to and: settled, carburetor, Sinden, rink, 0.111, Jiri, hurdle, 1992-93*,\n",
      "Nearest to be: bull, leather, slashing, .., Roberto, Isuzu, Horizons, 33.2,\n",
      "Nearest to if: wildly, copy, 209, ^^^^^, Until, bait, 5, shame,\n",
      "Nearest to no: 1100, mention, scoreless, updates, Killer, consideration, KBL, station,\n",
      "Nearest to to: October, Gothenburg, Czechoslovakia, per, interested, 1-1, Cubs, HP,\n",
      "Nearest to you: lives, 10.5, Streak, 1987, repaint, vibration, 58.2, Fife,\n",
      "Nearest to good: blue, 227-2431, working, discussion, rare, outcome, shifter, Roberts,\n",
      "Nearest to 's: specifications, 0.219, smithw, command, balltown.cma.com, containing, respective, scumbag,\n",
      "Nearest to 5: drastic, arrived, Panthers, sooner, salary, KotRB, ,, if,\n",
      "Nearest to as: defensively, bad, arrest, Garry, ejected, Molitor, drinking, multiple,\n",
      "Nearest to ): cold, 126, confusion, match, 0.682, nationwide, nobody, useless,\n",
      "Nearest to get: ramps, disclaimers, swingarm, welded, cc, SS, human, 20:00,\n",
      "Nearest to by: mods, Kawasaki, Central, percentages, electronically, Zubov, WAY, human,\n",
      "Nearest to 7: catchers, Chevrolet, I'd, 12:49, Announced, aware, modified, solely,\n",
      "Nearest to :: unusual, Hrbek, Celica, racking, Nords, taxi, Atlanta, deserves,\n",
      "Nearest to not: Reichel, Acadia, Special, FWIW, IVY, Hudson, humour, 2-4,\n",
      "Average loss at step 2000: 3.964998\n",
      "Average loss at step 4000: 3.602306\n",
      "Average loss at step 6000: 3.489819\n",
      "Average loss at step 8000: 3.222094\n",
      "Average loss at step 10000: 3.187906\n",
      "Nearest to and: but, or, when, except, statements, 205, fluids, S/O,\n",
      "Nearest to be: have, homers, are, Kiner, ready, get, dust, amused,\n",
      "Nearest to if: shame, whether, wildly, what, how, where, when, but,\n",
      "Nearest to no: station, mention, Tread, Inc., scoreless, NCAA, responses, Killer,\n",
      "Nearest to to: n't, 'll, into, would, will, for, 01-02, older,\n",
      "Nearest to you: they, we, I, i, he, Bielecki, pocket, someone,\n",
      "Nearest to good: bad, few, such, rare, shifter, blue, rushing, tcora,\n",
      "Nearest to 's: specifications, is, Camry, 0.219, was, fee, does, noisy,\n",
      "Nearest to 5: salary, Mustang, shortstop, drastic, Nothing, merrimack.edu, playoffs, arrived,\n",
      "Nearest to as: very, chart, importance, bad, Garry, at, TRX, drinking,\n",
      "Nearest to ): 126, expectation, ucsd, Right, (, Quarterfinals, 7-3, depending,\n",
      "Nearest to get: want, make, ramps, disclaimers, welded, sell, human, cc,\n",
      "Nearest to by: Beemer, Kawasaki, with, between, '92, cable, amused, Brent,\n",
      "Nearest to 7: carrying, I'd, brothers, Until, 1985-86,86-87, 22, tach, sysadmin,\n",
      "Nearest to :: ., ?, answered, preferably, !, reading, >, Samuel,\n",
      "Nearest to not: n't, Stanford, claim, prizes, whatever, humour, still, even,\n",
      "Average loss at step 12000: 3.199365\n",
      "Average loss at step 14000: 3.038257\n",
      "Average loss at step 16000: 3.017142\n",
      "Average loss at step 18000: 3.042087\n",
      "Average loss at step 20000: 2.926073\n",
      "Nearest to and: but, 205, unfortunately, guides, hat, .580, Rat, when,\n",
      "Nearest to be: have, get, homers, Kiner, 'm, buy, dust, are,\n",
      "Nearest to if: when, whether, unless, Duchesne, If, what, pressure, how,\n",
      "Nearest to no: Tread, Inc., scoreless, station, any, similar, property, Within,\n",
      "Nearest to to: 'll, n't, into, Fight, could, Gothenburg, would, amused,\n",
      "Nearest to you: they, we, I, i, these, someone, ya, people,\n",
      "Nearest to good: bad, rare, such, miserable, few, great, blown, rough,\n",
      "Nearest to 's: specifications, is, does, Camry, worries, 0.219, grounds, fee,\n",
      "Nearest to 5: 6, 2, 3, Nothing, 7, Mustang, reasoning, 0.616,\n",
      "Nearest to as: so, very, extreme, TRX, rock, chart, goaltender, too,\n",
      "Nearest to ): LIKE, Quarterfinals, ucsd, personally, M'Lud, seventh, 0.382, immediately,\n",
      "Nearest to get: got, sell, make, welded, ramps, disclaimers, put, replace,\n",
      "Nearest to by: Kawasaki, Beemer, WAY, Brent, cable, '92, Show, 9th,\n",
      "Nearest to 7: 6, 1st, Hardy, 5, intact, |1958, brothers, Until,\n",
      "Nearest to :: answered, 0.350, dangerous, rich, and/or, 1:23, streak, Pat,\n",
      "Nearest to not: n't, insuring, staying, seldom, missing, tone, Sunnyvale, sportscaster,\n",
      "Average loss at step 22000: 2.900807\n"
     ]
    }
   ],
   "source": [
    "num_steps = 200001\n",
    "\n",
    "with tf.Session(graph=graph) as session:\n",
    "  tf.global_variables_initializer().run()\n",
    "  print('Initialized')\n",
    "  average_loss = 0\n",
    "  for step in range(num_steps):\n",
    "    batch_data, batch_labels = generate_batch(\n",
    "      batch_size, num_skips, skip_window)\n",
    "    feed_dict = {train_dataset : batch_data, train_labels : batch_labels}\n",
    "    _, l = session.run([optimizer, loss], feed_dict=feed_dict)\n",
    "    average_loss += l\n",
    "    if step % 2000 == 0:\n",
    "      if step > 0:\n",
    "        average_loss = average_loss / 2000\n",
    "      # The average loss is an estimate of the loss over the last 2000 batches.\n",
    "      print('Average loss at step %d: %f' % (step, average_loss))\n",
    "      average_loss = 0\n",
    "    # note that this is expensive (~20% slowdown if computed every 500 steps)\n",
    "    if step % 10000 == 0:\n",
    "      sim = similarity.eval()\n",
    "      for i in range(valid_size):\n",
    "        valid_word = reverse_dictionary[valid_examples[i]]\n",
    "        top_k = 8 # number of nearest neighbors\n",
    "        nearest = (-sim[i, :]).argsort()[1:top_k+1]\n",
    "        log = 'Nearest to %s:' % valid_word\n",
    "        for k in range(top_k):\n",
    "          close_word = reverse_dictionary[nearest[k]]\n",
    "          log = '%s %s,' % (log, close_word)\n",
    "        print(log)\n",
    "  final_embeddings = normalized_embeddings.eval()"
   ]
  },
  {
   "cell_type": "code",
   "execution_count": null,
   "metadata": {
    "collapsed": true
   },
   "outputs": [],
   "source": [
    "num_points = 100\n",
    "\n",
    "tsne = TSNE(perplexity=30, n_components=2, init='pca', n_iter=5000)\n",
    "two_d_embeddings = tsne.fit_transform(final_embeddings[1:num_points+1, :])"
   ]
  },
  {
   "cell_type": "code",
   "execution_count": null,
   "metadata": {
    "collapsed": false
   },
   "outputs": [],
   "source": [
    "def plot(embeddings, labels):\n",
    "  assert embeddings.shape[0] >= len(labels), 'More labels than embeddings'\n",
    "  pylab.figure(figsize=(15,15))  # in inches\n",
    "  for i, label in enumerate(labels):\n",
    "    x, y = embeddings[i,:]\n",
    "    pylab.scatter(x, y)\n",
    "    pylab.annotate(label, xy=(x, y), xytext=(5, 2), textcoords='offset points',\n",
    "                   ha='right', va='bottom')\n",
    "  pylab.show()\n",
    "\n",
    "words = [reverse_dictionary[i] for i in range(1, num_points+1)]\n",
    "plot(two_d_embeddings, words)"
   ]
  },
  {
   "cell_type": "code",
   "execution_count": null,
   "metadata": {
    "collapsed": true
   },
   "outputs": [],
   "source": []
  }
 ],
 "metadata": {
  "anaconda-cloud": {},
  "kernelspec": {
   "display_name": "Python [conda env:py35]",
   "language": "python",
   "name": "conda-env-py35-py"
  },
  "language_info": {
   "codemirror_mode": {
    "name": "ipython",
    "version": 3
   },
   "file_extension": ".py",
   "mimetype": "text/x-python",
   "name": "python",
   "nbconvert_exporter": "python",
   "pygments_lexer": "ipython3",
   "version": "3.5.2"
  }
 },
 "nbformat": 4,
 "nbformat_minor": 1
}
