{
 "cells": [
  {
   "cell_type": "markdown",
   "metadata": {
    "nbpresent": {
     "id": "c8b3ec86-ac5d-44c9-a5c5-ea12c7ccb113"
    },
    "slideshow": {
     "slide_type": "slide"
    }
   },
   "source": [
    "# Introduction to Natural Language Processing\n"
   ]
  },
  {
   "cell_type": "markdown",
   "metadata": {
    "nbpresent": {
     "id": "0c03e049-d629-440b-85bd-ef2883ca61ad"
    },
    "slideshow": {
     "slide_type": "slide"
    }
   },
   "source": [
    "### Outline\n",
    "#### 1. Watson on Jeopardy video? Explanation of QA systems on Youtube?\n",
    "\n",
    "    1a. Pick something out:\n",
    "        https://www.youtube.com/watch?v=_Xcmh1LQB9I\n",
    "        https://www.youtube.com/watch?v=ZPXCF5e1_HI\n",
    "        \n",
    "    - https://www.washingtonpost.com/news/wonk/wp/2016/05/18/googles-new-artificial-intelligence-cant-understand-these-sentences-can-you/?utm_term=.6727ee22a48c\n",
    "    \n",
    "    - parsey mcparseface\n",
    "    https://www.youtube.com/watch?v=L3ankRN4abo\n",
    "    \n",
    "    \n",
    "#### 2. Basic NLP tasks using the Reuters Corpus\n",
    "\n",
    "    2a. Word Frequencies and Dispersion Plots       \n",
    "    2b. Word Concordances, Collocations, and Similarities\n",
    "    \n",
    "    - n-grams? (device battery died vs. patient died)\n",
    "    - regular expressions\n",
    "    \n",
    "#### 3. Transforming Raw Text/Unstructured Data into Features/Structured Data.\n",
    "\n",
    "    cf. Box 1 of [1]; Chapter 7 of the NLTK book [3]\n",
    "\n",
    "    a. Boundary Detection\n",
    "    b. Tokenization\n",
    "    c. Normalization  ??Stemming/Lemmatization??\n",
    "    d. Part-of-speech tagging\n",
    "    e. Shallow Parsing\n",
    "    f. Entity Recognition    \n",
    "    g. Explanations - What is going on under the hood?\n",
    "        i. Training/Testing\n",
    "\n",
    "#### 4. Relation Extraction\n",
    "\n",
    "??Regular Expressions??\n",
    "cf. Book, Sect. 7.6\n",
    "\n",
    "#### 5. Patient-level and Document-level classification\n",
    "    \n",
    "    \n",
    "CRFS? See http://nbviewer.jupyter.org/github/tpeng/python-crfsuite/blob/master/examples/CoNLL%202002.ipynb"
   ]
  },
  {
   "cell_type": "markdown",
   "metadata": {
    "nbpresent": {
     "id": "1fd934b5-bc66-4e5d-b1f1-b761fd7c1b3b"
    },
    "slideshow": {
     "slide_type": "slide"
    }
   },
   "source": [
    "### Outline\n",
    "\n",
    "TODO. The future\n",
    "1. IBM's Watson on Jeopardy and Question Answering Systems\n",
    "2. Spoken Dialogue Systems\n",
    "\n",
    "TODO. Challenges\n",
    "1. WSD - Word sense disambiguation for homonyms.\n",
    "    \"Serve\" has several senses: give food or drink; hold office; put ball into play\n",
    "    In clinical domain, \"pt\" may stand for patient; prothrombin time; physical therapist\n",
    "2. Pronoun/Coreference Resolution\n",
    "    \n",
    "### References\n",
    "\n",
    "[1] Nature Reviews\n",
    "\n",
    "[2] Deep Patient\n",
    "\n",
    "[3] Bird, S., Klein, E., Loper, E. ``Natural Language Processing with Python'' O'Reilly"
   ]
  },
  {
   "cell_type": "markdown",
   "metadata": {
    "nbpresent": {
     "id": "695365a2-6432-4ccb-a0f7-102a4ada25a2"
    },
    "slideshow": {
     "slide_type": "slide"
    }
   },
   "source": [
    "## 1. Section\n"
   ]
  },
  {
   "cell_type": "markdown",
   "metadata": {
    "nbpresent": {
     "id": "a3e854d4-afd1-407b-ad3b-3388adfa5c59"
    },
    "slideshow": {
     "slide_type": "slide"
    }
   },
   "source": [
    "## 2. Basic NLP tasks using the Reuters Corpus\n",
    "\n",
    "**DEF.** A *corpus* is a collection of documents that we mine or retrieve information from.\n",
    "\n",
    "The Reuters Corpus contains 10,788 news documents totaling 1.3 million words. The documents have been classified into 90 topics, and grouped into two sets, called \"training\" and \"test\".\n",
    "\n",
    "### 2a. Word Frequencies and Dispersion Plots"
   ]
  },
  {
   "cell_type": "code",
   "execution_count": 2,
   "metadata": {
    "collapsed": false,
    "nbpresent": {
     "id": "39a062c0-53d9-4836-b7f2-d863557c3842"
    },
    "slideshow": {
     "slide_type": "slide"
    }
   },
   "outputs": [
    {
     "ename": "IOError",
     "evalue": "[Errno 2] No such file or directory: 'C:\\\\Users\\\\Jonathan\\\\Desktop\\\\Projects\\\\nlp_introduction\\\\data\\\\open_fda_device_event_data.pkl'",
     "output_type": "error",
     "traceback": [
      "\u001b[0;31m---------------------------------------------------------------------------\u001b[0m",
      "\u001b[0;31mIOError\u001b[0m                                   Traceback (most recent call last)",
      "\u001b[0;32m<ipython-input-2-b5e4457dae24>\u001b[0m in \u001b[0;36m<module>\u001b[0;34m()\u001b[0m\n\u001b[1;32m      4\u001b[0m \u001b[0mDIR\u001b[0m \u001b[1;33m=\u001b[0m \u001b[1;34mr'C:\\Users\\Jonathan\\Desktop\\Projects\\nlp_introduction\\data'\u001b[0m\u001b[1;33m\u001b[0m\u001b[0m\n\u001b[1;32m      5\u001b[0m \u001b[0mfname\u001b[0m \u001b[1;33m=\u001b[0m \u001b[0mos\u001b[0m\u001b[1;33m.\u001b[0m\u001b[0mpath\u001b[0m\u001b[1;33m.\u001b[0m\u001b[0mjoin\u001b[0m\u001b[1;33m(\u001b[0m\u001b[0mDIR\u001b[0m\u001b[1;33m,\u001b[0m\u001b[1;34mr'open_fda_device_event_data.pkl'\u001b[0m\u001b[1;33m)\u001b[0m\u001b[1;33m\u001b[0m\u001b[0m\n\u001b[0;32m----> 6\u001b[0;31m \u001b[0mdata\u001b[0m \u001b[1;33m=\u001b[0m \u001b[0mpickle\u001b[0m\u001b[1;33m.\u001b[0m\u001b[0mload\u001b[0m\u001b[1;33m(\u001b[0m\u001b[0mopen\u001b[0m\u001b[1;33m(\u001b[0m\u001b[0mfname\u001b[0m\u001b[1;33m,\u001b[0m \u001b[1;34m\"rb\"\u001b[0m\u001b[1;33m)\u001b[0m\u001b[1;33m)\u001b[0m\u001b[1;33m\u001b[0m\u001b[0m\n\u001b[0m\u001b[1;32m      7\u001b[0m \u001b[1;32mprint\u001b[0m \u001b[1;34m'Imported %d device event records.'\u001b[0m \u001b[1;33m%\u001b[0m \u001b[0mlen\u001b[0m\u001b[1;33m(\u001b[0m\u001b[0mdata\u001b[0m\u001b[1;33m)\u001b[0m\u001b[1;33m\u001b[0m\u001b[0m\n",
      "\u001b[0;31mIOError\u001b[0m: [Errno 2] No such file or directory: 'C:\\\\Users\\\\Jonathan\\\\Desktop\\\\Projects\\\\nlp_introduction\\\\data\\\\open_fda_device_event_data.pkl'"
     ]
    }
   ],
   "source": [
    "# Load Device Event Data\n",
    "import os\n",
    "import pickle\n",
    "DIR = r'C:\\Users\\Jonathan\\Desktop\\Projects\\nlp_introduction\\data'\n",
    "fname = os.path.join(DIR,r'open_fda_device_event_data.pkl')\n",
    "data = pickle.load(open(fname, \"rb\"))\n",
    "print 'Imported %d device event records.' % len(data)"
   ]
  },
  {
   "cell_type": "code",
   "execution_count": 27,
   "metadata": {
    "collapsed": false,
    "slideshow": {
     "slide_type": "subslide"
    }
   },
   "outputs": [
    {
     "name": "stdout",
     "output_type": "stream",
     "text": [
      "Each record contains the following keys: device_generic_name, adverse_event_flag, event_type, narrative\n"
     ]
    }
   ],
   "source": [
    "# What is in the records?\n",
    "print 'Each record contains the following keys: %s' % ', '.join(data[0].keys())"
   ]
  },
  {
   "cell_type": "code",
   "execution_count": 59,
   "metadata": {
    "collapsed": false,
    "slideshow": {
     "slide_type": "fragment"
    }
   },
   "outputs": [
    {
     "name": "stdout",
     "output_type": "stream",
     "text": [
      "There are 1080 unique generic device names, including \n",
      "\n",
      "\tGLUCOSE MONITORING SYS/KIT 2204\n",
      "\tINSULIN INFUSION PUMP / SENSOR AUGMENTED 976\n",
      "\tMDS 613\n",
      "\tINSULIN PUMP 273\n",
      "\tVENTILATOR, CONTINUOUS, FACILITY USE 245\n",
      "\tOZO 239\n"
     ]
    }
   ],
   "source": [
    "# Generic Names?\n",
    "generic_device_names = [x['device_generic_name'] for x in data]\n",
    "unique_names = list(set(generic_device_names))\n",
    "print 'There are %d unique generic device names, including \\n' % len(unique_names)\n",
    "\n",
    "# get frequency per name\n",
    "def print_frequencies(key):\n",
    "    import collections\n",
    "    c = collections.Counter([x[key] for x in data])\n",
    "    for name, freq in c.most_common(6):\n",
    "        print '\\t',name, freq\n",
    "    \n",
    "print_frequencies('device_generic_name')"
   ]
  },
  {
   "cell_type": "code",
   "execution_count": 61,
   "metadata": {
    "collapsed": false,
    "slideshow": {
     "slide_type": "fragment"
    }
   },
   "outputs": [
    {
     "name": "stdout",
     "output_type": "stream",
     "text": [
      "The adverse event flag has values: \n",
      "\tN 6605\n",
      "\tY 3376\n",
      "\t 20\n",
      "\n",
      "event types are one of the following: \n",
      "\tMalfunction 6711\n",
      "\tInjury 3153\n",
      "\tDeath 87\n",
      "\tNo answer provided 42\n",
      "\tOther 8\n"
     ]
    }
   ],
   "source": [
    "# Adverse event flags and event types?\n",
    "print 'The adverse event flag has values: '\n",
    "print_frequencies('adverse_event_flag')\n",
    "print\n",
    "\n",
    "print 'event types are one of the following: '\n",
    "print_frequencies('event_type')"
   ]
  },
  {
   "cell_type": "code",
   "execution_count": 1,
   "metadata": {
    "collapsed": false
   },
   "outputs": [
    {
     "ename": "NameError",
     "evalue": "name 'data' is not defined",
     "output_type": "error",
     "traceback": [
      "\u001b[0;31m---------------------------------------------------------------------------\u001b[0m",
      "\u001b[0;31mNameError\u001b[0m                                 Traceback (most recent call last)",
      "\u001b[0;32m<ipython-input-1-949e24229879>\u001b[0m in \u001b[0;36m<module>\u001b[0;34m()\u001b[0m\n\u001b[1;32m      1\u001b[0m \u001b[1;31m# Example Narrative?\u001b[0m\u001b[1;33m\u001b[0m\u001b[1;33m\u001b[0m\u001b[0m\n\u001b[0;32m----> 2\u001b[0;31m \u001b[1;32mprint\u001b[0m \u001b[0mdata\u001b[0m\u001b[1;33m[\u001b[0m\u001b[1;36m10\u001b[0m\u001b[1;33m]\u001b[0m\u001b[1;33m[\u001b[0m\u001b[1;34m'narrative'\u001b[0m\u001b[1;33m]\u001b[0m\u001b[1;33m\u001b[0m\u001b[0m\n\u001b[0m",
      "\u001b[0;31mNameError\u001b[0m: name 'data' is not defined"
     ]
    }
   ],
   "source": [
    "# Example Narrative?\n",
    "print data[10]['narrative']"
   ]
  },
  {
   "cell_type": "code",
   "execution_count": null,
   "metadata": {
    "collapsed": true,
    "nbpresent": {
     "id": "b6131b1a-8f15-4a18-a761-692195911008"
    },
    "slideshow": {
     "slide_type": "fragment"
    }
   },
   "outputs": [],
   "source": [
    "import nltk\n",
    "\n",
    "# Look at tokens in the document\n",
    "w = reuters.words(docid)\n",
    "print w[:20]\n",
    "\n",
    "# \n",
    "x = nltk.Text(w)\n",
    "\n",
    "from nltk import FreqDist\n",
    "fdist = FreqDist(x)\n",
    "print 'Number of times coffee occurs = ', fdist['coffee']\n",
    "fdist.plot(30)  # Frequency plot of tokens\n",
    "\n",
    "x.dispersion_plot(['trade','coffee','oil','rubber','exchange'])"
   ]
  },
  {
   "cell_type": "code",
   "execution_count": null,
   "metadata": {
    "collapsed": false,
    "nbpresent": {
     "id": "bc0daea7-0f30-474a-8732-466be4a91c86"
    },
    "slideshow": {
     "slide_type": "fragment"
    }
   },
   "outputs": [],
   "source": [
    "# Now get large collection of documents\n",
    "x = nltk.Text(nltk.corpus.reuters.words(categories=['trade','coffee']))\n",
    "x.dispersion_plot(['trade','coffee','oil','rubber','exchange'])"
   ]
  },
  {
   "cell_type": "markdown",
   "metadata": {
    "nbpresent": {
     "id": "c4ce09e6-fc3a-48f4-bad1-ba4b0af6f4a4"
    },
    "slideshow": {
     "slide_type": "slide"
    }
   },
   "source": [
    "### 2b. Word Concordances, Collocations, and Similarities\n",
    "\n",
    "DEF. A *collocation* is a sequence of words that occur together unusually often; e.g. \"hip replacement\", \"emergency room\""
   ]
  },
  {
   "cell_type": "code",
   "execution_count": null,
   "metadata": {
    "collapsed": true,
    "nbpresent": {
     "id": "3670c0dd-2246-4644-8886-fddbbf0b33dc"
    },
    "slideshow": {
     "slide_type": "subslide"
    }
   },
   "outputs": [],
   "source": [
    "x.concordance('coffee',lines=5,width=80)\n",
    "\n",
    "# similarity test\n",
    "print '\\nTokens similar to \\'fell\\':\\n'\n",
    "x.similar('fell')\n",
    "\n",
    "print '\\nTokens similar to \\'economy\\':\\n'\n",
    "x.similar('economy')\n",
    "\n",
    "print '\\nCommon contexts for \\'oil\\' and \\'coffee\\':\\n'\n",
    "x.common_contexts(['oil','coffee'])\n",
    "\n",
    "print '\\nCollocations:\\n'\n",
    "x.collocations(num=10,window_size=3)"
   ]
  },
  {
   "cell_type": "markdown",
   "metadata": {
    "nbpresent": {
     "id": "d62a7197-05ea-4ef9-9ad5-f0e9a8c419a3"
    },
    "slideshow": {
     "slide_type": "slide"
    }
   },
   "source": [
    "## 3. Transforming Raw Text/Unstructured Data into Features/Structured Data.\n",
    "cf. Reference [1]; Chapter 7 of [3]\n",
    "\n",
    "TODO. Word sense disambiguation for homonyms.\n",
    "\"Serve\" has several senses: give food or drink; hold office; put ball into play\n",
    "In clinical domain, \"pt\" may stand for patient; prothrombin time; physical therapist\n",
    "\n",
    "\n",
    "Check Part-of-Speech Tagger\n",
    "\n",
    "Nature Reviews Article, Box 1\n",
    "1. Boundary Detection\n",
    "2. Tokenization\n",
    "3. Normalization\n",
    "4. Part-of-speech tagging\n",
    "5. Shallow Parsing\n",
    "6. Entity Recognition\n",
    "\n",
    "See NLTK book, Chapter 7"
   ]
  },
  {
   "cell_type": "markdown",
   "metadata": {
    "nbpresent": {
     "id": "c4b045f3-2bd5-402a-897c-6f31a92ca7e1"
    },
    "slideshow": {
     "slide_type": "slide"
    }
   },
   "source": [
    "### 3a. Sentence and Word Segmentation, Tokenization\n",
    "\n",
    "**DEF.** A *token* is the technical name for a sequence of characters, e.g. \"sugery\", \"hip\", \"ward\", that we want to treat as a group. "
   ]
  },
  {
   "cell_type": "code",
   "execution_count": 36,
   "metadata": {
    "collapsed": false,
    "nbpresent": {
     "id": "4f89953a-775f-40e0-80b4-67b28077c9a9"
    },
    "slideshow": {
     "slide_type": "subslide"
    }
   },
   "outputs": [
    {
     "name": "stdout",
     "output_type": "stream",
     "text": [
      "Was the tabby cat with the Ph.D. lying on the mat? [yes] no. \\r\\n\n",
      "['Was the tabby cat with the Ph.D. lying on the mat?', '[yes] no.', '\\\\r\\\\n']\n"
     ]
    }
   ],
   "source": [
    "# Make up some text\n",
    "text = r'Was the tabby cat with the Ph.D. lying on the mat? [yes] no. \\r\\n'\n",
    "print text\n",
    "\n",
    "# Segment the sentences\n",
    "sents = nltk.sent_tokenize(text)\n",
    "print sents"
   ]
  },
  {
   "cell_type": "code",
   "execution_count": 37,
   "metadata": {
    "collapsed": false,
    "nbpresent": {
     "id": "4b3ab23c-0de9-4c89-a2fa-0d1d5af4d794"
    },
    "slideshow": {
     "slide_type": "subslide"
    }
   },
   "outputs": [
    {
     "name": "stdout",
     "output_type": "stream",
     "text": [
      "['Was', 'the', 'tabby', 'cat', 'with', 'the', 'Ph.D.', 'lying', 'on', 'the', 'mat', '?']\n",
      "['Was', 'the', 'tabby', 'cat', 'with', 'the', 'Ph', '.', 'D', '.', 'lying', 'on', 'the', 'mat', '?']\n"
     ]
    }
   ],
   "source": [
    "# Segment the words in the first sentence.\n",
    "sent = sents[0]\n",
    "\n",
    "# Tokenizer 1\n",
    "tokens = nltk.word_tokenize(sent)\n",
    "print tokens\n",
    "# help(nltk.word_tokenize)\n",
    "# help(nltk.tokenize.TreebankWordTokenizer)\n",
    "\n",
    "# Tokenizer 2\n",
    "tokens2 = nltk.wordpunct_tokenize(sent)\n",
    "print tokens2"
   ]
  },
  {
   "cell_type": "markdown",
   "metadata": {
    "nbpresent": {
     "id": "e0b41e00-b29f-4b1c-bcb9-3da5677c764a"
    },
    "slideshow": {
     "slide_type": "notes"
    }
   },
   "source": [
    "**Note**: To apply the NLTK basic tasks from Section 2, just create an NLTK text object using the tokenized text: \n",
    "text = nltk.Text(tokens)"
   ]
  },
  {
   "cell_type": "markdown",
   "metadata": {
    "nbpresent": {
     "id": "f7fb5dd4-80dc-4f9d-b79e-b3b85d88ba48"
    },
    "slideshow": {
     "slide_type": "slide"
    }
   },
   "source": [
    "### 3b. Normalization and Stemming\n",
    "\n",
    "**DEF.** One usually *normalizes* text to lowercase so that the distinction\n",
    "between \"The\" and \"the\" is ignored.\n",
    "\n",
    "**DEF.** The *vocabulary* of a text is the set of (normalized) tokens that it uses."
   ]
  },
  {
   "cell_type": "code",
   "execution_count": 39,
   "metadata": {
    "collapsed": false,
    "nbpresent": {
     "id": "6fb55d7f-7914-481b-a29d-e3bd13d5bd05"
    },
    "slideshow": {
     "slide_type": "subslide"
    }
   },
   "outputs": [
    {
     "name": "stdout",
     "output_type": "stream",
     "text": [
      "\n",
      "Normalized tokens:\n",
      "['was', 'the', 'tabby', 'cat', 'with', 'the', 'ph.d.', 'lying', 'on', 'the', 'mat', '?']\n",
      "\n",
      "The vocabulary:\n",
      "['?', 'cat', 'lying', 'mat', 'on', 'ph.d.', 'tabby', 'the', 'was', 'with']\n"
     ]
    }
   ],
   "source": [
    "# Normalize the tokens\n",
    "normalized_tokens = [t.lower() for t in tokens]\n",
    "print '\\nNormalized tokens:\\n', normalized_tokens\n",
    "\n",
    "# Build the vocabulary\n",
    "vocabulary = sorted(set(normalized_tokens))\n",
    "print '\\nThe vocabulary:\\n', vocabulary"
   ]
  },
  {
   "cell_type": "markdown",
   "metadata": {
    "nbpresent": {
     "id": "69201f3a-2fb3-4ba4-aeba-cbc52dd5f7e7"
    },
    "slideshow": {
     "slide_type": "slide"
    }
   },
   "source": [
    "**DEF.** A next possible step is to *stem* the text by stripping off any affixes.\n",
    "\n",
    "**DEF.** A *lexicon* is a collection of words and/or phrases along with \n",
    "associated information, such as part-of-speech and sense definitions.\n",
    "A lexical entry consists of a *lemma* along with additional information.\n",
    "The step of mapping tokens, normalized tokens, or stemmed tokens\n",
    "to lemmas is called *lemmatization*."
   ]
  },
  {
   "cell_type": "code",
   "execution_count": 40,
   "metadata": {
    "collapsed": false,
    "nbpresent": {
     "id": "4250095f-31e1-42eb-aa38-ae055ab6b97b"
    },
    "slideshow": {
     "slide_type": "subslide"
    }
   },
   "outputs": [
    {
     "name": "stdout",
     "output_type": "stream",
     "text": [
      "[u'wa', u'the', u'tabbi', u'cat', u'with', u'the', u'ph.d.', u'lie', u'on', u'the', u'mat', u'?']\n",
      "['was', 'the', 'tabby', 'cat', 'with', 'the', 'ph.d.', 'lying', 'on', 'the', 'mat', '?']\n"
     ]
    }
   ],
   "source": [
    "# Apply two different stemmers\n",
    "print [nltk.PorterStemmer().stem(t) for t in normalized_tokens]\n",
    "print [nltk.LancasterStemmer().stem(t) for t in normalized_tokens]"
   ]
  },
  {
   "cell_type": "code",
   "execution_count": 41,
   "metadata": {
    "collapsed": false,
    "nbpresent": {
     "id": "7c569b7f-fcf5-4488-a3ae-a7e62dcf4137"
    },
    "slideshow": {
     "slide_type": "subslide"
    }
   },
   "outputs": [
    {
     "name": "stdout",
     "output_type": "stream",
     "text": [
      "[u'lie', u'lie', u'lay', u'lie', u'lie', u'fall', u'fell', u'fall', u'fall', u'fall']\n",
      "['lie', 'lied', 'lay', 'lie', 'lying', 'fal', 'fel', 'fal', 'fal', 'fal']\n"
     ]
    }
   ],
   "source": [
    "# A stemming test\n",
    "example_tokens = ['lie', 'lied', 'lay', 'lies', 'lying', 'fall', 'fell', 'falling', 'falls', 'falled']\n",
    "print [nltk.PorterStemmer().stem(t) for t in example_tokens]\n",
    "print [nltk.LancasterStemmer().stem(t) for t in example_tokens]"
   ]
  },
  {
   "cell_type": "markdown",
   "metadata": {
    "nbpresent": {
     "id": "38d4dcba-bbb0-46c8-8f70-574214bcc25a"
    },
    "slideshow": {
     "slide_type": "slide"
    }
   },
   "source": [
    "### 3c. POS Tagging\n",
    "\n",
    "Tagging each token with its part of speech is useful for other tasks in natural language processing, such as named entity recognition and relation extraction."
   ]
  },
  {
   "cell_type": "code",
   "execution_count": 46,
   "metadata": {
    "collapsed": false,
    "nbpresent": {
     "id": "b1337ff5-9c90-4da6-8d7d-6de0fb6daf24"
    },
    "slideshow": {
     "slide_type": "subslide"
    }
   },
   "outputs": [
    {
     "name": "stdout",
     "output_type": "stream",
     "text": [
      "[('Was', 'VBD'), ('the', 'DT'), ('tabby', 'JJ'), ('cat', 'NN'), ('with', 'IN'), ('the', 'DT'), ('Ph.D.', 'NNP'), ('lying', 'NN'), ('on', 'IN'), ('the', 'DT'), ('mat', 'NN'), ('?', '.')]\n"
     ]
    }
   ],
   "source": [
    "post_tokens = nltk.pos_tag(tokens)\n",
    "print post_tokens"
   ]
  },
  {
   "cell_type": "code",
   "execution_count": 44,
   "metadata": {
    "collapsed": false,
    "nbpresent": {
     "id": "647ae5d8-11df-4c4e-8036-f67ba1dc9a19"
    },
    "slideshow": {
     "slide_type": "slide"
    }
   },
   "outputs": [
    {
     "name": "stdout",
     "output_type": "stream",
     "text": [
      "JJ: adjective or numeral, ordinal\n",
      "    third ill-mannered pre-war regrettable oiled calamitous first separable\n",
      "    ectoplasmic battery-powered participatory fourth still-to-be-named\n",
      "    multilingual multi-disciplinary ...\n",
      "None\n"
     ]
    }
   ],
   "source": [
    "# What do the tags mean?\n",
    "print nltk.help.upenn_tagset('JJ')"
   ]
  },
  {
   "cell_type": "markdown",
   "metadata": {
    "nbpresent": {
     "id": "f2efe0b8-df46-4958-b7fc-50806e79ad35"
    },
    "slideshow": {
     "slide_type": "slide"
    }
   },
   "source": [
    "### 3d. Named Entity Recognition (NER)\n",
    "\n",
    "**TODO** DEF. A named entity is\n",
    "\n",
    "**TODO** Example. UMLS concepts"
   ]
  },
  {
   "cell_type": "code",
   "execution_count": 49,
   "metadata": {
    "collapsed": false,
    "nbpresent": {
     "id": "19b89053-a130-4ce8-aba2-7d16e6e00aa7"
    }
   },
   "outputs": [
    {
     "name": "stdout",
     "output_type": "stream",
     "text": [
      "(S\n",
      "  Was/VBD\n",
      "  the/DT\n",
      "  tabby/JJ\n",
      "  cat/NN\n",
      "  with/IN\n",
      "  the/DT\n",
      "  Ph.D./NNP\n",
      "  lying/NN\n",
      "  on/IN\n",
      "  the/DT\n",
      "  mat/NN\n",
      "  ?/.)\n"
     ]
    }
   ],
   "source": [
    "print nltk.ne_chunk(post_tokens)"
   ]
  },
  {
   "cell_type": "markdown",
   "metadata": {
    "nbpresent": {
     "id": "97f12162-743c-4f65-988a-1f5064eb0d55"
    }
   },
   "source": [
    "## 4. Relation Extraction\n",
    "cf. Book, Sect. 7.6\n"
   ]
  },
  {
   "cell_type": "code",
   "execution_count": 53,
   "metadata": {
    "collapsed": false,
    "nbpresent": {
     "id": "b1303fd1-5638-4cc2-8326-42a3aa2a551e"
    }
   },
   "outputs": [
    {
     "name": "stdout",
     "output_type": "stream",
     "text": [
      "[(u'ASIAN', 'NNP'), (u'EXPORTERS', 'NNP'), (u'FEAR', 'NNP'), (u'DAMAGE', 'NNP'), (u'FROM', 'NNP'), (u'U.S.-JAPAN', 'NNP'), (u'RIFT', 'NNP'), (u'Mounting', 'NNP'), (u'trade', 'NN'), (u'friction', 'NN'), (u'between', 'IN'), (u'the', 'DT'), (u'U.S.', 'NNP'), (u'And', 'CC'), (u'Japan', 'NNP'), (u'has', 'VBZ'), (u'raised', 'VBN'), (u'fears', 'NNS'), (u'among', 'IN'), (u'many', 'JJ')]\n",
      "[Tree('GPE', [(u'ASIAN', 'NNP')]), Tree('ORGANIZATION', [(u'EXPORTERS', 'NNP')]), (u'FEAR', 'NNP'), (u'DAMAGE', 'NNP'), (u'FROM', 'NNP'), (u'U.S.-JAPAN', 'NNP'), (u'RIFT', 'NNP'), (u'Mounting', 'NNP'), (u'trade', 'NN'), (u'friction', 'NN'), (u'between', 'IN'), (u'the', 'DT'), Tree('GPE', [(u'U.S.', 'NNP')]), (u'And', 'CC'), Tree('GPE', [(u'Japan', 'NNP')]), (u'has', 'VBZ'), (u'raised', 'VBN'), (u'fears', 'NNS'), (u'among', 'IN'), (u'many', 'JJ')]\n"
     ]
    }
   ],
   "source": [
    "text = nltk.corpus.reuters.raw(categories=['trade','coffee'])\n",
    "tokens = nltk.word_tokenize(text)\n",
    "post_tokens = nltk.pos_tag(tokens)\n",
    "ner_post_tokens = nltk.ne_chunk(post_tokens)"
   ]
  },
  {
   "cell_type": "code",
   "execution_count": 62,
   "metadata": {
    "collapsed": false,
    "nbpresent": {
     "id": "4d808783-3ab6-4b5c-bf0a-ec3214d70d8a"
    }
   },
   "outputs": [
    {
     "name": "stdout",
     "output_type": "stream",
     "text": [
      "(GPE ASIAN/NNP)\n",
      "(ORGANIZATION EXPORTERS/NNP)\n",
      "(u'FEAR', 'NNP')\n",
      "(u'DAMAGE', 'NNP')\n",
      "(u'FROM', 'NNP')\n",
      "(u'U.S.-JAPAN', 'NNP')\n",
      "(u'RIFT', 'NNP')\n",
      "(u'Mounting', 'NNP')\n",
      "(u'trade', 'NN')\n",
      "(u'friction', 'NN')\n",
      "(u'between', 'IN')\n",
      "(u'the', 'DT')\n",
      "(GPE U.S./NNP)\n",
      "(u'And', 'CC')\n"
     ]
    }
   ],
   "source": [
    "for i, item in enumerate(ner_post_tokens):\n",
    "    print item\n",
    "    if i > 12:\n",
    "        break    "
   ]
  },
  {
   "cell_type": "code",
   "execution_count": 58,
   "metadata": {
    "collapsed": true,
    "nbpresent": {
     "id": "5306ab8a-7bbc-4fb9-be41-f855b5e3d281"
    }
   },
   "outputs": [],
   "source": [
    "import re\n",
    "RE = re.compile(r'.*in')\n",
    "v = nltk.sem.extract_rels('ORGANIZATION', 'GPE', ner_post_tokens, pattern = RE)"
   ]
  },
  {
   "cell_type": "code",
   "execution_count": 61,
   "metadata": {
    "collapsed": false,
    "nbpresent": {
     "id": "f3381f6c-16b2-42b1-9b0f-03277454130b"
    }
   },
   "outputs": [
    {
     "name": "stdout",
     "output_type": "stream",
     "text": [
      "defaultdict(<type 'str'>, {'lcon': '', 'untagged_filler': u'FEAR DAMAGE FROM U.S.-JAPAN RIFT Mounting trade friction between the', 'filler': u'FEAR/NNP DAMAGE/NNP FROM/NNP U.S.-JAPAN/NNP RIFT/NNP Mounting/NNP trade/NN friction/NN between/IN the/DT', 'objsym': u'us', 'objclass': 'GPE', 'objtext': u'U.S./NNP', 'subjsym': u'exporters', 'subjclass': 'ORGANIZATION', 'rcon': u'And/CC', 'subjtext': u'EXPORTERS/NNP'})\n",
      "defaultdict(<type 'str'>, {'lcon': u'officials/NNS said/VBD ./. They/PRP told/VBD', 'untagged_filler': u'correspondents in', 'filler': u'correspondents/NNS in/IN', 'objsym': u'asian', 'objclass': 'GPE', 'objtext': u'Asian/JJ', 'subjsym': u'reuter', 'subjclass': 'ORGANIZATION', 'rcon': u'capitals/NNS a/DT', 'subjtext': u'Reuter/NNP'})\n",
      "defaultdict(<type 'str'>, {'lcon': u\"'s/POS ruling/VBG\", 'untagged_filler': u'yesterday outlined a package of economic measures to boost the', 'filler': u'yesterday/NN outlined/VBD a/DT package/NN of/IN economic/JJ measures/NNS to/TO boost/VB the/DT', 'objsym': u'japanese', 'objclass': 'GPE', 'objtext': u'Japanese/JJ', 'subjsym': u'liberal_democratic_party', 'subjclass': 'ORGANIZATION', 'rcon': u'economy/NN ./. The/DT measures/NNS proposed/VBN', 'subjtext': u'Liberal/NNP Democratic/NNP Party/NNP'})\n",
      "defaultdict(<type 'str'>, {'lcon': u'(/(', 'untagged_filler': u') , are due to meet in', 'filler': u')/) ,/, are/VBP due/JJ to/TO meet/VB in/IN', 'objsym': u'washington', 'objclass': 'GPE', 'objtext': u'Washington/NNP', 'subjsym': u'miti', 'subjclass': 'ORGANIZATION', 'rcon': u'this/DT week/NN in/IN an/DT effort/NN', 'subjtext': u'MITI/NNP'})\n",
      "defaultdict(<type 'str'>, {'lcon': u',/, political/JJ analysts/NNS said/VBD ./.', 'untagged_filler': u', thrust into the spotlight by trade rows with the', 'filler': u',/, thrust/NN into/IN the/DT spotlight/NN by/IN trade/NN rows/NNS with/IN the/DT', 'objsym': u'us', 'objclass': 'GPE', 'objtext': u'U.S./NNP', 'subjsym': u'mpt', 'subjclass': 'ORGANIZATION', 'rcon': u'And/CC', 'subjtext': u'MPT/NNP'})\n",
      "defaultdict(<type 'str'>, {'lcon': u'just/RB announced/VBN by/IN the/DT governing/VBG', 'untagged_filler': u'in', 'filler': u'in/IN', 'objsym': u'japan', 'objclass': 'GPE', 'objtext': u'Japan/NNP', 'subjsym': u'liberal_democratic_party', 'subjclass': 'ORGANIZATION', 'rcon': u'for/IN extraordinary/JJ and/CC urgent/JJ measures/NNS', 'subjtext': u'Liberal/NNP Democratic/NNP Party/NNP'})\n",
      "defaultdict(<type 'str'>, {'lcon': u'PROBE/NNP ON/NNP JAPANESE/NNP CHIPS/NNP The/DT', 'untagged_filler': u'Community launched an investigation into allegations of dumping by', 'filler': u'Community/NNP launched/VBD an/DT investigation/NN into/IN allegations/NNS of/IN dumping/VBG by/IN', 'objsym': u'japanese', 'objclass': 'GPE', 'objtext': u'Japanese/JJ', 'subjsym': u'european', 'subjclass': 'ORGANIZATION', 'rcon': u'semiconductor/NN makers/NNS in/IN a/DT move/NN', 'subjtext': u'European/NNP'})\n",
      "defaultdict(<type 'str'>, {'lcon': u'Executive/NNP Commission/NNP said/VBD today/NN the/DT', 'untagged_filler': u'Component Manufacturers Association complained that', 'filler': u'Component/NNP Manufacturers/NNP Association/NNP complained/VBD that/IN', 'objsym': u'japanese', 'objclass': 'GPE', 'objtext': u'Japanese/JJ', 'subjsym': u'european_electrical', 'subjclass': 'ORGANIZATION', 'rcon': u'firms/NNS were/VBD selling/VBG high/JJ capacity/NN', 'subjtext': u'European/JJ Electrical/NNP'})\n",
      "defaultdict(<type 'str'>, {'lcon': u'just/RB announced/VBN by/IN the/DT governing/VBG', 'untagged_filler': u'in', 'filler': u'in/IN', 'objsym': u'japan', 'objclass': 'GPE', 'objtext': u'Japan/NNP', 'subjsym': u'liberal_democratic_party', 'subjclass': 'ORGANIZATION', 'rcon': u'for/IN extraordinary/JJ and/CC urgent/JJ measures/NNS', 'subjtext': u'Liberal/NNP Democratic/NNP Party/NNP'})\n",
      "defaultdict(<type 'str'>, {'lcon': u'and/CC', 'untagged_filler': u', said in a statement', 'filler': u',/, said/VBD in/IN a/DT statement/NN', 'objsym': u'japan', 'objclass': 'GPE', 'objtext': u'Japan/NNP', 'subjsym': u'industry_ministry', 'subjclass': 'ORGANIZATION', 'rcon': u'would/MD consider/VB measures/NNS under/IN the/DT', 'subjtext': u'Industry/NNP Ministry/NNP'})\n",
      "defaultdict(<type 'str'>, {'lcon': u'said/VBD that/IN under/IN the/DT', 'untagged_filler': u'Act the govenment had considerable flexibility in taking sanctions against', 'filler': u'Act/NNP the/DT govenment/NN had/VBD considerable/JJ flexibility/NN in/IN taking/VBG sanctions/NNS against/IN', 'objsym': u'japanese', 'objclass': 'GPE', 'objtext': u'Japanese/JJ', 'subjsym': u'financial_services', 'subjclass': 'ORGANIZATION', 'rcon': u'companies/NNS and/CC finance/NN houses/NNS operating/VBG', 'subjtext': u'Financial/NNP Services/NNPS'})\n",
      "defaultdict(<type 'str'>, {'lcon': u'JAPAN/NNP Member/NNP states/NNS of/IN the/DT', 'untagged_filler': u'Community are starting to run out of patience with', 'filler': u'Community/NNP are/VBP starting/VBG to/TO run/VB out/RB of/IN patience/NN with/IN', 'objsym': u'japan', 'objclass': 'GPE', 'objtext': u'Japan/NNP', 'subjsym': u'european', 'subjclass': 'ORGANIZATION', 'rcon': u'which/WDT they/PRP believe/VBP has/VBZ repeatedly/RB', 'subjtext': u'European/NNP'})\n",
      "defaultdict(<type 'str'>, {'lcon': u'and/CC', 'untagged_filler': u'company lost out in competition for a', 'filler': u'company/NN lost/VBD out/RP in/IN competition/NN for/IN a/DT', 'objsym': u'japanese', 'objclass': 'GPE', 'objtext': u'Japanese/JJ', 'subjsym': u'wireless', 'subjclass': 'ORGANIZATION', 'rcon': u'telecommucations/NNS contract/NN ./. However/RB ,/,', 'subjtext': u'Wireless/NNP'})\n",
      "defaultdict(<type 'str'>, {'lcon': u',/, acting/VBG head/NN of/IN the/DT', 'untagged_filler': u'delegation in', 'filler': u'delegation/NN in/IN', 'objsym': u'tokyo', 'objclass': 'GPE', 'objtext': u'Tokyo/NNP', 'subjsym': u'ec', 'subjclass': 'ORGANIZATION', 'rcon': u'./. ``/`` What/WP I/PRP do/VBP', 'subjtext': u'EC/NNP'})\n",
      "defaultdict(<type 'str'>, {'lcon': u',/, President/NNP of/IN', 'untagged_filler': u', told a recent conference in', 'filler': u',/, told/VBD a/DT recent/JJ conference/NN in/IN', 'objsym': u'switzerland', 'objclass': 'GPE', 'objtext': u'Switzerland/NNP', 'subjsym': u'interallianz_bank_zurich', 'subjclass': 'ORGANIZATION', 'rcon': u'./. REUTER/NNP .../: ^M/JJ', 'subjtext': u'Interallianz/NNP Bank/NNP Zurich/NNP'})\n",
      "defaultdict(<type 'str'>, {'lcon': u'JAPAN/NNP Member/NNP states/NNS of/IN the/DT', 'untagged_filler': u'Community are starting to run out of patience with', 'filler': u'Community/NNP are/VBP starting/VBG to/TO run/VB out/RB of/IN patience/NN with/IN', 'objsym': u'japan', 'objclass': 'GPE', 'objtext': u'Japan/NNP', 'subjsym': u'european', 'subjclass': 'ORGANIZATION', 'rcon': u'which/WDT they/PRP believe/VBP has/VBZ repeatedly/RB', 'subjtext': u'European/NNP'})\n",
      "defaultdict(<type 'str'>, {'lcon': u'at/IN the/DT next/JJ meeting/NN of/IN', 'untagged_filler': u'foreign ministers on April 27 and 28 in', 'filler': u'foreign/JJ ministers/NNS on/IN April/NNP 27/CD and/CC 28/CD in/IN', 'objsym': u'luxembourg', 'objclass': 'GPE', 'objtext': u'Luxembourg/NNP', 'subjsym': u'ec', 'subjclass': 'ORGANIZATION', 'rcon': u'as/IN time/NN was/VBD needed/VBN to/TO', 'subjtext': u'EC/NNP'})\n",
      "defaultdict(<type 'str'>, {'lcon': u'But/CC in/IN an/DT interview/NN with/IN', 'untagged_filler': u'during the flight to', 'filler': u'during/IN the/DT flight/NN to/TO', 'objsym': u'tokyo', 'objclass': 'GPE', 'objtext': u'Tokyo/NNP', 'subjsym': u'reuters', 'subjclass': 'ORGANIZATION', 'rcon': u'yesterday/NN ,/,', 'subjtext': u'Reuters/NNP'})\n",
      "defaultdict(<type 'str'>, {'lcon': u'on/IN the/DT negotiating/NN table/NN during/IN', 'untagged_filler': u'talks in', 'filler': u'talks/NNS in/IN', 'objsym': u'geneva', 'objclass': 'GPE', 'objtext': u'Geneva/NNP', 'subjsym': u'gatt', 'subjclass': 'ORGANIZATION', 'rcon': u'./. He/PRP said/VBD', 'subjtext': u'GATT/NNP'})\n",
      "defaultdict(<type 'str'>, {'lcon': u'purchase/NN of/IN super/JJ computers/NNS ,/,', 'untagged_filler': u'officials said . According to the plan ,', 'filler': u'officials/NNS said/VBD ./. According/VBG to/TO the/DT plan/NN ,/,', 'objsym': u'japan', 'objclass': 'GPE', 'objtext': u'Japan/NNP', 'subjsym': u'ldp', 'subjclass': 'ORGANIZATION', 'rcon': u'will/MD also/RB strive/VB to/TO solve/VB', 'subjtext': u'LDP/NNP'})\n",
      "defaultdict(<type 'str'>, {'lcon': u')/) ./. It/PRP said/VBD hoped/VBN', 'untagged_filler': u'would find the', 'filler': u'would/MD find/VB the/DT', 'objsym': u'us', 'objclass': 'GPE', 'objtext': u'U.S./NNP', 'subjsym': u'gatt', 'subjclass': 'ORGANIZATION', 'rcon': u'retaliation/NN had/VBD violated/VBN the/DT regulations/NNS', 'subjtext': u'GATT/NNP'})\n",
      "defaultdict(<type 'str'>, {'lcon': u'(/(', 'untagged_filler': u') in', 'filler': u')/) in/IN', 'objsym': u'washington', 'objclass': 'GPE', 'objtext': u'Washington/NNP', 'subjsym': u'gatt', 'subjclass': 'ORGANIZATION', 'rcon': u'yesterday/NN ./.', 'subjtext': u'GATT/NNP'})\n",
      "defaultdict(<type 'str'>, {'lcon': u',/, executive/JJ director/NN of/IN the/DT', 'untagged_filler': u'coffee institute , said delegates from', 'filler': u'coffee/NN institute/NN ,/, said/VBD delegates/NNS from/IN', 'objsym': u'mexico', 'objclass': 'GPE', 'objtext': u'Mexico/NNP', 'subjsym': u'costa_rican', 'subjclass': 'ORGANIZATION', 'rcon': u',/, the/DT', 'subjtext': u'Costa/JJ Rican/JJ'})\n",
      "defaultdict(<type 'str'>, {'lcon': u'of/IN', 'untagged_filler': u'in', 'filler': u'in/IN', 'objsym': u'new_york', 'objclass': 'GPE', 'objtext': u'New/NNP York/NNP', 'subjsym': u'sumitomo_bank', 'subjclass': 'ORGANIZATION', 'rcon': u'warned/VBD ,/, ``/`` I/PRP do/VBP', 'subjtext': u'Sumitomo/NNP Bank/NNP'})\n",
      "defaultdict(<type 'str'>, {'lcon': u'am/VBP deeply/RB concerned/JJ that/IN the/DT', 'untagged_filler': u'has moved to take a harsher line toward', 'filler': u'has/VBZ moved/VBN to/TO take/VB a/DT harsher/JJR line/NN toward/IN', 'objsym': u'japan', 'objclass': 'GPE', 'objtext': u'Japan/NNP', 'subjsym': u'ec', 'subjclass': 'ORGANIZATION', 'rcon': u'despite/IN this/DT tangible/JJ improvement/NN ,/,', 'subjtext': u'EC/NNP'})\n",
      "defaultdict(<type 'str'>, {'lcon': u'criticism/NN that/IN the/DT', 'untagged_filler': u'was not taking tough actions to reduce he', 'filler': u'was/VBD not/RB taking/VBG tough/JJ actions/NNS to/TO reduce/VB he/PRP', 'objsym': u'us', 'objclass': 'GPE', 'objtext': u'U.S./NNP', 'subjsym': u'reagan_administrtation', 'subjclass': 'ORGANIZATION', 'rcon': u'trade/NN deficit/NN ./.', 'subjtext': u'Reagan/NNP Administrtation/NNP'})\n",
      "defaultdict(<type 'str'>, {'lcon': u'(/(', 'untagged_filler': u') , in the event of', 'filler': u')/) ,/, in/IN the/DT event/NN of/IN', 'objsym': u'brazil', 'objclass': 'GPE', 'objtext': u'Brazil/NNP', 'subjsym': u'ico', 'subjclass': 'ORGANIZATION', 'rcon': u'withdrawing/VBG from/IN the/DT group/NN ,/,', 'subjtext': u'ICO/NNP'})\n",
      "defaultdict(<type 'str'>, {'lcon': u'Agreement/NNP (/(', 'untagged_filler': u') in', 'filler': u')/) in/IN', 'objsym': u'july', 'objclass': 'GPE', 'objtext': u'July/NNP', 'subjsym': u'ica', 'subjclass': 'ORGANIZATION', 'rcon': u\",/, ''/'' one/CD trader/NN said/VBD\", 'subjtext': u'ICA/NNP'})\n",
      "defaultdict(<type 'str'>, {'lcon': u'also/RB said/VBD the/DT', 'untagged_filler': u'was joined by the', 'filler': u'was/VBD joined/VBN by/IN the/DT', 'objsym': u'united_states', 'objclass': 'GPE', 'objtext': u'United/NNP States/NNPS', 'subjsym': u'ec', 'subjclass': 'ORGANIZATION', 'rcon': u'in/IN criticising/VBG', 'subjtext': u'EC/NNP'})\n",
      "defaultdict(<type 'str'>, {'lcon': u',/, they/PRP set/VBP up/RP the/DT', 'untagged_filler': u'surveillance body to monitor this commitment , known in', 'filler': u'surveillance/NN body/NN to/TO monitor/VB this/DT commitment/NN ,/, known/VBN in/IN', 'objsym': u'gatt', 'objclass': 'GPE', 'objtext': u'GATT/NNP', 'subjsym': u'gatt', 'subjclass': 'ORGANIZATION', 'rcon': u'jargon/NN as/IN ``/`` standstill/JJ and/CC', 'subjtext': u'GATT/NNP'})\n",
      "defaultdict(<type 'str'>, {'lcon': u'STATES/NNPS AGREE/NNP TO/NNP REGIONAL/NNP', 'untagged_filler': u'CUTS Fifteen countries in', 'filler': u'CUTS/NNP Fifteen/NNP countries/NNS in/IN', 'objsym': u'eastern', 'objclass': 'GPE', 'objtext': u'Eastern/NNP', 'subjsym': u'tariff', 'subjclass': 'ORGANIZATION', 'rcon': u'and/CC', 'subjtext': u'TARIFF/NNP'})\n",
      "defaultdict(<type 'str'>, {'lcon': u'the/DT year/NN 2000/CD ./. The/DT', 'untagged_filler': u', set up in 1982 , groups', 'filler': u',/, set/VBD up/RP in/IN 1982/CD ,/, groups/NNS', 'objsym': u'burnudi', 'objclass': 'GPE', 'objtext': u'Burnudi/NNP', 'subjsym': u'pta', 'subjclass': 'ORGANIZATION', 'rcon': u',/, the/DT', 'subjtext': u'PTA/NNP'})\n",
      "defaultdict(<type 'str'>, {'lcon': u'response/NN to/TO tightening/VBG up/RP by/IN', 'untagged_filler': u'veterinary inspectors on', 'filler': u'veterinary/JJ inspectors/NNS on/IN', 'objsym': u'canadian', 'objclass': 'GPE', 'objtext': u'Canadian/JJ', 'subjsym': u'ec', 'subjclass': 'ORGANIZATION', 'rcon': u'food/NN exports/NNS to/TO the/DT', 'subjtext': u'EC/NNP'})\n",
      "defaultdict(<type 'str'>, {'lcon': u\"'s/POS role/NN when/WRB the/DT\", 'untagged_filler': u'meets in', 'filler': u'meets/NNS in/IN', 'objsym': u'london', 'objclass': 'GPE', 'objtext': u'London/NNP', 'subjsym': u'ico', 'subjclass': 'ORGANIZATION', 'rcon': u'in/IN September/NNP will/MD be/VB to/TO', 'subjtext': u'ICO/NNP'})\n",
      "defaultdict(<type 'str'>, {'lcon': '', 'untagged_filler': u'IMPORT REPORTING SYSTEM QUESTIONED A voluntary compliance system for monitoring', 'filler': u'IMPORT/NNP REPORTING/NNP SYSTEM/NNP QUESTIONED/NNP A/NNP voluntary/JJ compliance/NN system/NN for/IN monitoring/VBG', 'objsym': u'us', 'objclass': 'GPE', 'objtext': u'U.S./NNP', 'subjsym': u'coffee', 'subjclass': 'ORGANIZATION', 'rcon': u'coffee/NN imports/NNS under/IN quotas/NNS is/VBZ', 'subjtext': u'COFFEE/NNP'})\n",
      "defaultdict(<type 'str'>, {'lcon': u\"'s/POS comment/NN came/VBD after/IN\", 'untagged_filler': u'ministers in', 'filler': u'ministers/NNS in/IN', 'objsym': u'luxembourg', 'objclass': 'GPE', 'objtext': u'Luxembourg/NNP', 'subjsym': u'ec', 'subjclass': 'ORGANIZATION', 'rcon': u'endorsed/VBD a/DT farm/NN reform/NN package/NN', 'subjtext': u'EC/NNP'})\n",
      "defaultdict(<type 'str'>, {'lcon': u'./. The/DT', 'untagged_filler': u'plan will be presented at the next meeting of', 'filler': u'plan/NN will/MD be/VB presented/VBN at/IN the/DT next/JJ meeting/NN of/IN', 'objsym': u'uruguay', 'objclass': 'GPE', 'objtext': u'Uruguay/NNP', 'subjsym': u'ec', 'subjclass': 'ORGANIZATION', 'rcon': u'round/NN agriculture/NN negotiators/NNS in/IN', 'subjtext': u'EC/NNP'})\n",
      "defaultdict(<type 'str'>, {'lcon': u'he/PRP said/VBD ./. At/IN the/DT', 'untagged_filler': u'negotiators meeting next week', 'filler': u'negotiators/NNS meeting/VBG next/JJ week/NN', 'objsym': u'canada', 'objclass': 'GPE', 'objtext': u'Canada/NNP', 'subjsym': u'gatt', 'subjclass': 'ORGANIZATION', 'rcon': u'is/VBZ expected/VBN to/TO offer/VB a/DT', 'subjtext': u'GATT/NNP'})\n",
      "defaultdict(<type 'str'>, {'lcon': u'told/VBD', 'untagged_filler': u'in an interview . He repeated the', 'filler': u'in/IN an/DT interview/NN ./. He/PRP repeated/VBD the/DT', 'objsym': u'us', 'objclass': 'GPE', 'objtext': u'U.S./NNP', 'subjsym': u'reuters', 'subjclass': 'ORGANIZATION', 'rcon': u'demand/NN that/IN', 'subjtext': u'Reuters/NNP'})\n",
      "defaultdict(<type 'str'>, {'lcon': u'year/NN 2000/CD ,/, proposed/VBN at/IN', 'untagged_filler': u'in', 'filler': u'in/IN', 'objsym': u'july', 'objclass': 'GPE', 'objtext': u'July/NNP', 'subjsym': u'gatt', 'subjclass': 'ORGANIZATION', 'rcon': u\",/, ``/`` visionary/JJ ''/'' and/CC\", 'subjtext': u'GATT/NNP'})\n",
      "defaultdict(<type 'str'>, {'lcon': u'the/DT export/NN enhancement/JJ program/NN (/(', 'untagged_filler': u') could prove so indispensable to boosting', 'filler': u')/) could/MD prove/VB so/RB indispensable/JJ to/TO boosting/VBG', 'objsym': u'us', 'objclass': 'GPE', 'objtext': u'U.S./NNP', 'subjsym': u'eep', 'subjclass': 'ORGANIZATION', 'rcon': u'exports/NNS that/IN the/DT', 'subjtext': u'EEP/NNP'})\n",
      "defaultdict(<type 'str'>, {'lcon': u'Under/IN the/DT deal/NN agreed/VBN by/IN', 'untagged_filler': u'foreign ministers ,', 'filler': u'foreign/JJ ministers/NNS ,/,', 'objsym': u'argentina', 'objclass': 'GPE', 'objtext': u'Argentina/NNP', 'subjsym': u'ec', 'subjclass': 'ORGANIZATION', 'rcon': u'will/MD gain/VB additional/JJ trading/NN rights/NNS', 'subjtext': u'EC/NNP'})\n",
      "defaultdict(<type 'str'>, {'lcon': u'speaking/NN at/IN a/DT meeting/NN of/IN', 'untagged_filler': u'farm ministers , called for action to help the', 'filler': u'farm/NN ministers/NNS ,/, called/VBN for/IN action/NN to/TO help/VB the/DT', 'objsym': u'spanish', 'objclass': 'GPE', 'objtext': u'Spanish/JJ', 'subjsym': u'ec', 'subjclass': 'ORGANIZATION', 'rcon': u'maize/NN market/NN ,/,', 'subjtext': u'EC/NNP'})\n",
      "defaultdict(<type 'str'>, {'lcon': u'but/CC help/VB them/PRP ./. The/DT', 'untagged_filler': u'talks began a year ago in', 'filler': u'talks/NNS began/VBD a/DT year/NN ago/RB in/IN', 'objsym': u'punta', 'objclass': 'GPE', 'objtext': u'Punta/NNP', 'subjsym': u'gatt', 'subjclass': 'ORGANIZATION', 'rcon': u'del/FW', 'subjtext': u'GATT/NNP'})\n",
      "defaultdict(<type 'str'>, {'lcon': u'PLAN/NNP HIGH-LEVEL/NNP TRADE/NNP TALKS/NNP The/DT', 'untagged_filler': u'Community is willing to offer limited concessions to the', 'filler': u'Community/NNP is/VBZ willing/JJ to/TO offer/VB limited/JJ concessions/NNS to/TO the/DT', 'objsym': u'united_states', 'objclass': 'GPE', 'objtext': u'United/NNP States/NNPS', 'subjsym': u'european', 'subjclass': 'ORGANIZATION', 'rcon': u'on/IN one/CD of/IN two/CD major/JJ', 'subjtext': u'European/NNP'})\n",
      "defaultdict(<type 'str'>, {'lcon': u\"d'Afrique/NN\", 'untagged_filler': u'in', 'filler': u'in/IN', 'objsym': u'paris', 'objclass': 'GPE', 'objtext': u'Paris/NNP', 'subjsym': u'oriental', 'subjclass': 'ORGANIZATION', 'rcon': u'./.', 'subjtext': u'Oriental/NNP'})\n",
      "defaultdict(<type 'str'>, {'lcon': u\"do/VBP ./. ''/'' Cable/JJ and/CC\", 'untagged_filler': u'is seeking a stake in the proposed', 'filler': u'is/VBZ seeking/VBG a/DT stake/NN in/IN the/DT proposed/VBN', 'objsym': u'japanese', 'objclass': 'GPE', 'objtext': u'Japanese/JJ', 'subjsym': u'wireless', 'subjclass': 'ORGANIZATION', 'rcon': u'telecommunications/NNS rival/VBP to/TO', 'subjtext': u'Wireless/NNP'})\n",
      "defaultdict(<type 'str'>, {'lcon': u')/) ./. The/DT', 'untagged_filler': u'executive board is set to meet in', 'filler': u'executive/NN board/NN is/VBZ set/VBN to/TO meet/VB in/IN', 'objsym': u'london', 'objclass': 'GPE', 'objtext': u'London/NNP', 'subjsym': u'ico', 'subjclass': 'ORGANIZATION', 'rcon': u'from/IN March/NNP 31/CD and/CC could/MD', 'subjtext': u'ICO/NNP'})\n",
      "defaultdict(<type 'str'>, {'lcon': u'the/DT end/NN of/IN the/DT weekly/JJ', 'untagged_filler': u'meeting , said the positions of', 'filler': u'meeting/NN ,/, said/VBD the/DT positions/NNS of/IN', 'objsym': u'brazil', 'objclass': 'GPE', 'objtext': u'Brazil/NNP', 'subjsym': u'national_coffee_committee', 'subjclass': 'ORGANIZATION', 'rcon': u'and/CC of/IN the/DT', 'subjtext': u'National/NNP Coffee/NNP Committee/NNP'})\n",
      "defaultdict(<type 'str'>, {'lcon': u'(/(', 'untagged_filler': u') . `` Despite easing of curbs on', 'filler': u')/) ./. ``/`` Despite/IN easing/NN of/IN curbs/NNS on/IN', 'objsym': u'us', 'objclass': 'GPE', 'objtext': u'U.S./NNP', 'subjsym': u'gsp', 'subjclass': 'ORGANIZATION', 'rcon': u'Technology/NNP exports/NNS in/IN recent/JJ years/NNS', 'subjtext': u'GSP/NNP'})\n",
      "defaultdict(<type 'str'>, {'lcon': u'Economic/JJ', 'untagged_filler': u'decided to recommend trade sanctions against', 'filler': u'decided/VBD to/TO recommend/VB trade/NN sanctions/NNS against/IN', 'objsym': u'japan', 'objclass': 'GPE', 'objtext': u'Japan/NNP', 'subjsym': u'policy_council', 'subjclass': 'ORGANIZATION', 'rcon': u'for/IN violations/NNS of/IN the/DT', 'subjtext': u'Policy/NNP Council/NNP'})\n",
      "defaultdict(<type 'str'>, {'lcon': u'Economic/JJ', 'untagged_filler': u'was recommending trade sanctions against', 'filler': u'was/VBD recommending/VBG trade/NN sanctions/NNS against/IN', 'objsym': u'japan', 'objclass': 'GPE', 'objtext': u'Japan/NNP', 'subjsym': u'policy_council', 'subjclass': 'ORGANIZATION', 'rcon': u'for/IN violating/VBG the/DT two/CD countries/NNS', 'subjtext': u'Policy/NNP Council/NNP'})\n",
      "defaultdict(<type 'str'>, {'lcon': u'officially/RB support/VB bartering/NN ./. The/DT', 'untagged_filler': u\"'s recent countertrade deals include iron ore exports to\", 'filler': u\"'s/POS recent/JJ countertrade/JJ deals/NNS include/VBP iron/NN ore/RB exports/NNS to/TO\", 'objsym': u'yugoslavia', 'objclass': 'GPE', 'objtext': u'Yugoslavia/VB', 'subjsym': u'mmtc', 'subjclass': 'ORGANIZATION', 'rcon': u'for/IN steel/NN structures/NNS and/CC rails/NNS', 'subjtext': u'MMTC/NNP'})\n",
      "defaultdict(<type 'str'>, {'lcon': u'Economic/JJ', 'untagged_filler': u'was recommending trade sanctions against', 'filler': u'was/VBD recommending/VBG trade/NN sanctions/NNS against/IN', 'objsym': u'japan', 'objclass': 'GPE', 'objtext': u'Japan/NNP', 'subjsym': u'policy_council', 'subjclass': 'ORGANIZATION', 'rcon': u'for/IN violating/VBG the/DT two/CD countries/NNS', 'subjtext': u'Policy/NNP Council/NNP'})\n",
      "defaultdict(<type 'str'>, {'lcon': u'came/VBD one/CD day/NN after/IN the/DT', 'untagged_filler': u\"Administration's Economic Policy Council decided to take retaliatory action against\", 'filler': u\"Administration's/NNP Economic/NNP Policy/NNP Council/NNP decided/VBD to/TO take/VB retaliatory/JJ action/NN against/IN\", 'objsym': u'japan', 'objclass': 'GPE', 'objtext': u'Japan/NNP', 'subjsym': u'reagan', 'subjclass': 'ORGANIZATION', 'rcon': u'for/IN its/PRP$ alleged/JJ failure/NN to/TO', 'subjtext': u'Reagan/NNP'})\n",
      "defaultdict(<type 'str'>, {'lcon': u'officially/RB support/VB bartering/NN ./. The/DT', 'untagged_filler': u\"'s recent countertrade deals include iron ore exports to\", 'filler': u\"'s/POS recent/JJ countertrade/JJ deals/NNS include/VBP iron/NN ore/RB exports/NNS to/TO\", 'objsym': u'yugoslavia', 'objclass': 'GPE', 'objtext': u'Yugoslavia/VB', 'subjsym': u'mmtc', 'subjclass': 'ORGANIZATION', 'rcon': u'for/IN steel/NN structures/NNS and/CC rails/NNS', 'subjtext': u'MMTC/NNP'})\n",
      "defaultdict(<type 'str'>, {'lcon': u'by/IN a/DT cross-section/NN of/IN influential/JJ', 'untagged_filler': u'to take joint retaliatory action with the', 'filler': u'to/TO take/VB joint/JJ retaliatory/JJ action/NN with/IN the/DT', 'objsym': u'united_states', 'objclass': 'GPE', 'objtext': u'United/NNP States/NNPS', 'subjsym': u'mps', 'subjclass': 'ORGANIZATION', 'rcon': u'against/IN', 'subjtext': u'MPs/NNP'})\n",
      "defaultdict(<type 'str'>, {'lcon': u'together/RB to/TO urge/VB that/IN the/DT', 'untagged_filler': u'Community take collective action against', 'filler': u'Community/NNP take/VBP collective/JJ action/NN against/IN', 'objsym': u'japan', 'objclass': 'GPE', 'objtext': u'Japan/NNP', 'subjsym': u'european', 'subjclass': 'ORGANIZATION', 'rcon': u',/, but/CC by/IN working/VBG within/IN', 'subjtext': u'European/NNP'})\n",
      "defaultdict(<type 'str'>, {'lcon': u'a/DT radio/NN interview/NN that/IN the/DT', 'untagged_filler': u'Community should build barriers against', 'filler': u'Community/NNP should/MD build/VB barriers/NNS against/IN', 'objsym': u'japanese', 'objclass': 'GPE', 'objtext': u'Japanese/JJ', 'subjsym': u'european', 'subjclass': 'ORGANIZATION', 'rcon': u'imports/NNS through/IN certification/NN procedures/NNS similar/JJ', 'subjtext': u'European/NNP'})\n",
      "defaultdict(<type 'str'>, {'lcon': u\"''/'' he/PRP was/VBD quoted/VBN by/IN\", 'untagged_filler': u'as saying . While expressing regret over', 'filler': u'as/IN saying/VBG ./. While/IN expressing/VBG regret/NN over/IN', 'objsym': u'america', 'objclass': 'GPE', 'objtext': u'America/NNP', 'subjsym': u'kyodo_news_service', 'subjclass': 'ORGANIZATION', 'rcon': u\"'s/POS decision/NN to/TO impose/VB tariffs/NNS\", 'subjtext': u'Kyodo/NNP News/NNP Service/NNP'})\n",
      "defaultdict(<type 'str'>, {'lcon': u'said/VBD the/DT', 'untagged_filler': u'administration hoped the strong', 'filler': u'administration/NN hoped/VBD the/DT strong/JJ', 'objsym': u'us', 'objclass': 'GPE', 'objtext': u'U.S./NNP', 'subjsym': u'reagan', 'subjclass': 'ORGANIZATION', 'rcon': u'Action/NNP against/IN', 'subjtext': u'Reagan/NNP'})\n",
      "defaultdict(<type 'str'>, {'lcon': '', 'untagged_filler': u'and refusing to open', 'filler': u'and/CC refusing/VBG to/TO open/VB', 'objsym': u'japan', 'objclass': 'GPE', 'objtext': u'Japan/NNP', 'subjsym': u'markets', 'subjclass': 'ORGANIZATION', 'rcon': u'further/RB to/TO', 'subjtext': u'Markets/NNS'})\n",
      "defaultdict(<type 'str'>, {'lcon': u\"''/'' he/PRP was/VBD quoted/VBN by/IN\", 'untagged_filler': u'as saying . While expressing regret over', 'filler': u'as/IN saying/VBG ./. While/IN expressing/VBG regret/NN over/IN', 'objsym': u'america', 'objclass': 'GPE', 'objtext': u'America/NNP', 'subjsym': u'kyodo_news_service', 'subjclass': 'ORGANIZATION', 'rcon': u\"'s/POS decision/NN to/TO impose/VB tariffs/NNS\", 'subjtext': u'Kyodo/NNP News/NNP Service/NNP'})\n",
      "defaultdict(<type 'str'>, {'lcon': u'one/CD ./. It/PRP is/VBZ the/DT', 'untagged_filler': u'report which has attracted the most attention in', 'filler': u'report/NN which/WDT has/VBZ attracted/VBN the/DT most/RBS attention/NN in/IN', 'objsym': u'europe', 'objclass': 'GPE', 'objtext': u'Europe/NNP', 'subjsym': u'maekawa', 'subjclass': 'ORGANIZATION', 'rcon': u\"./. ''/'' And/CC\", 'subjtext': u'Maekawa/NNP'})\n",
      "defaultdict(<type 'str'>, {'lcon': u'And/CC', 'untagged_filler': u'business leaders met their', 'filler': u'business/NN leaders/NNS met/VBD their/PRP$', 'objsym': u'japanese', 'objclass': 'GPE', 'objtext': u'Japanese/JJ', 'subjsym': u'ec', 'subjclass': 'ORGANIZATION', 'rcon': u'colleagues/NNS to/TO discuss/VB the/DT trade/NN', 'subjtext': u'EC/NNP'})\n",
      "defaultdict(<type 'str'>, {'lcon': u'The/DT important/JJ implication/NN of/IN the/DT', 'untagged_filler': u'report is that it is finally looking to let', 'filler': u'report/NN is/VBZ that/IN it/PRP is/VBZ finally/RB looking/VBG to/TO let/VB', 'objsym': u'japanese', 'objclass': 'GPE', 'objtext': u'Japanese/JJ', 'subjsym': u'maekawa', 'subjclass': 'ORGANIZATION', 'rcon': u'enjoy/VB the/DT fruits/NNS of/IN their/PRP$', 'subjtext': u'Maekawa/NNP'})\n",
      "defaultdict(<type 'str'>, {'lcon': u'said/VBD the/DT', 'untagged_filler': u'administration hoped the strong', 'filler': u'administration/NN hoped/VBD the/DT strong/JJ', 'objsym': u'us', 'objclass': 'GPE', 'objtext': u'U.S./NNP', 'subjsym': u'reagan', 'subjclass': 'ORGANIZATION', 'rcon': u'Action/NNP against/IN', 'subjtext': u'Reagan/NNP'})\n",
      "defaultdict(<type 'str'>, {'lcon': u',/, the/DT failure/NN of/IN the/DT', 'untagged_filler': u'talks in', 'filler': u'talks/NNS in/IN', 'objsym': u'london', 'objclass': 'GPE', 'objtext': u'London/NNP', 'subjsym': u'ico', 'subjclass': 'ORGANIZATION', 'rcon': u'to/TO reach/VB agreement/NN on/IN export/NN', 'subjtext': u'ICO/NNP'})\n",
      "defaultdict(<type 'str'>, {'lcon': u'the/DT official/NN said/VBD ./. The/DT', 'untagged_filler': u'executive board meets tomorrow in', 'filler': u'executive/NN board/NN meets/VBZ tomorrow/NN in/IN', 'objsym': u'london', 'objclass': 'GPE', 'objtext': u'London/NNP', 'subjsym': u'ico', 'subjclass': 'ORGANIZATION', 'rcon': u'./.', 'subjtext': u'ICO/NNP'})\n",
      "defaultdict(<type 'str'>, {'lcon': '', 'untagged_filler': u'is making', 'filler': u'is/VBZ making/VBG', 'objsym': u'japan', 'objclass': 'GPE', 'objtext': u'Japan/NNP', 'subjsym': u'congress', 'subjclass': 'ORGANIZATION', 'rcon': u',/, with/IN its/PRP$ enormous/JJ worldwide/NN', 'subjtext': u'Congress/NNP'})\n",
      "defaultdict(<type 'str'>, {'lcon': u'billion/CD dlrs/NN in/IN January/NNP ./.', 'untagged_filler': u'points to the record 169 billion dlrs', 'filler': u'points/NNS to/TO the/DT record/NN 169/CD billion/CD dlrs/NNS', 'objsym': u'us', 'objclass': 'GPE', 'objtext': u'U.S./NNP', 'subjsym': u'congress', 'subjclass': 'ORGANIZATION', 'rcon': u'trade/NN deficit/NN in/IN 1986/CD and/CC', 'subjtext': u'Congress/NNP'})\n",
      "defaultdict(<type 'str'>, {'lcon': u',/,', 'untagged_filler': u', executive board in', 'filler': u',/, executive/NN board/NN in/IN', 'objsym': u'london', 'objclass': 'GPE', 'objtext': u'London/NNP', 'subjsym': u'ico', 'subjclass': 'ORGANIZATION', 'rcon': u'decides/VBZ to/TO call/VB a/DT full/JJ', 'subjtext': u'ICO/NNP'})\n",
      "defaultdict(<type 'str'>, {'lcon': u'testified/VBD before/IN a/DT', 'untagged_filler': u\"Committee hearing that last Friday 's\", 'filler': u\"Committee/NNP hearing/VBG that/IN last/JJ Friday/NNP 's/POS\", 'objsym': u'us', 'objclass': 'GPE', 'objtext': u'U.S./NNP', 'subjsym': u'senate_labor', 'subjclass': 'ORGANIZATION', 'rcon': u'trade/NN action/NN would/MD help/VB', 'subjtext': u'Senate/NNP Labor/NNP'})\n",
      "defaultdict(<type 'str'>, {'lcon': u'./. The/DT', 'untagged_filler': u\"'s affairs in\", 'filler': u\"'s/POS affairs/NNS in/IN\", 'objsym': u'china', 'objclass': 'GPE', 'objtext': u'China/NNP', 'subjsym': u'ec', 'subjclass': 'ORGANIZATION', 'rcon': u'are/VBP currently/RB looked/VBN after/IN by/IN', 'subjtext': u'EC/NNP'})\n",
      "defaultdict(<type 'str'>, {'lcon': u'``/`` Many/JJ factions/NNS within/IN the/DT', 'untagged_filler': u'are distancing themselves from', 'filler': u'are/VBP distancing/VBG themselves/PRP from/IN', 'objsym': u'nakasone', 'objclass': 'GPE', 'objtext': u'Nakasone/NNP', 'subjsym': u'ldp', 'subjclass': 'ORGANIZATION', 'rcon': u\",/, ''/''\", 'subjtext': u'LDP/NNP'})\n",
      "defaultdict(<type 'str'>, {'lcon': u'for/IN', 'untagged_filler': u'in', 'filler': u'in/IN', 'objsym': u'japan', 'objclass': 'GPE', 'objtext': u'Japan/NNP', 'subjsym': u'political_studies', 'subjclass': 'ORGANIZATION', 'rcon': u',/, said/VBD ./. This/DT is/VBZ', 'subjtext': u'Political/NNP Studies/NNPS'})\n",
      "defaultdict(<type 'str'>, {'lcon': u'director/NN of/IN studies/NNS at/IN the/DT', 'untagged_filler': u'Research Centre in', 'filler': u'Research/NNP Centre/NNP in/IN', 'objsym': u'london', 'objclass': 'GPE', 'objtext': u'London/NNP', 'subjsym': u'trade_policy', 'subjclass': 'ORGANIZATION', 'rcon': u'./. ``/`` Basically/RB ,/, their/PRP$', 'subjtext': u'Trade/NNP Policy/NNP'})\n",
      "defaultdict(<type 'str'>, {'lcon': u'correspondents/NNS they/PRP would/MD let/VB the/DT', 'untagged_filler': u'take the lead in any response to the', 'filler': u'take/VB the/DT lead/NN in/IN any/DT response/NN to/TO the/DT', 'objsym': u'us-japan', 'objclass': 'GPE', 'objtext': u'U.S.-Japan/NNP', 'subjsym': u'ec', 'subjclass': 'ORGANIZATION', 'rcon': u'trade/NN row/NN ./. A/DT spokeswoman/NN', 'subjtext': u'EC/NNP'})\n",
      "defaultdict(<type 'str'>, {'lcon': u'./. A/DT spokeswoman/NN for/IN the/DT', 'untagged_filler': u'in', 'filler': u'in/IN', 'objsym': u'brussels', 'objclass': 'GPE', 'objtext': u'Brussels/NNP', 'subjsym': u'ec_commission', 'subjclass': 'ORGANIZATION', 'rcon': u'told/VBD', 'subjtext': u'EC/NNP Commission/NNP'})\n",
      "defaultdict(<type 'str'>, {'lcon': u'issued/VBN after/IN that/DT meeting/NN ,/,', 'untagged_filler': u'foreign ministers deplored', 'filler': u'foreign/JJ ministers/NNS deplored/VBD', 'objsym': u'japan', 'objclass': 'GPE', 'objtext': u'Japan/NNP', 'subjsym': u'ec', 'subjclass': 'ORGANIZATION', 'rcon': u\"'s/POS continued/JJ trade/NN imbalance/NN and/CC\", 'subjtext': u'EC/NNP'})\n",
      "defaultdict(<type 'str'>, {'lcon': u'said/VBD ./. Instead/RB ,/, the/DT', 'untagged_filler': u'is trying to target problem areas in', 'filler': u'is/VBZ trying/VBG to/TO target/VB problem/NN areas/NNS in/IN', 'objsym': u'european', 'objclass': 'GPE', 'objtext': u'European/JJ', 'subjsym': u'community', 'subjclass': 'ORGANIZATION', 'rcon': u'trade/NN with/IN', 'subjtext': u'Community/NNP'})\n",
      "defaultdict(<type 'str'>, {'lcon': u'and/CC', 'untagged_filler': u'has faced in its bid to crack the', 'filler': u'has/VBZ faced/VBN in/IN its/PRP$ bid/NN to/TO crack/VB the/DT', 'objsym': u'japanese', 'objclass': 'GPE', 'objtext': u'Japanese/JJ', 'subjsym': u'wireless', 'subjclass': 'ORGANIZATION', 'rcon': u'market/NN ,/, officials/NNS said/VBD last/JJ', 'subjtext': u'Wireless/NNP'})\n",
      "defaultdict(<type 'str'>, {'lcon': u')/)', 'untagged_filler': u'meeting and for talks with', 'filler': u'meeting/NN and/CC for/IN talks/NNS with/IN', 'objsym': u'us', 'objclass': 'GPE', 'objtext': u'U.S./NNP', 'subjsym': u'interim_committee', 'subjclass': 'ORGANIZATION', 'rcon': u'Officials/NNP on/IN ways/NNS of/IN reducing/VBG', 'subjtext': u'Interim/NNP Committee/NNP'})\n",
      "defaultdict(<type 'str'>, {'lcon': u'Chamber/NNP of/IN', 'untagged_filler': u'earlier this month a sudden won revaluation could result in', 'filler': u'earlier/RBR this/DT month/NN a/DT sudden/JJ won/NN revaluation/NN could/MD result/VB in/IN', 'objsym': u'south_korea', 'objclass': 'GPE', 'objtext': u'South/NNP Korea/NNP', 'subjsym': u'commerce', 'subjclass': 'ORGANIZATION', 'rcon': u'running/VBG a/DT large/JJ trade/NN deficit/NN', 'subjtext': u'Commerce/NNP'})\n",
      "defaultdict(<type 'str'>, {'lcon': u'Rubber/NNP Agreement/NNP (/(', 'untagged_filler': u') was adopted earlier this month in', 'filler': u')/) was/VBD adopted/VBN earlier/RBR this/DT month/NN in/IN', 'objsym': u'geneva', 'objclass': 'GPE', 'objtext': u'Geneva/NNP', 'subjsym': u'inra', 'subjclass': 'ORGANIZATION', 'rcon': u'./. Importing/NNP and/CC exporting/VBG countries/NNS', 'subjtext': u'INRA/NNP'})\n",
      "defaultdict(<type 'str'>, {'lcon': u'(/(', 'untagged_filler': u') negotiations in', 'filler': u')/) negotiations/NNS in/IN', 'objsym': u'london', 'objclass': 'GPE', 'objtext': u'London/NNP', 'subjsym': u'ico', 'subjclass': 'ORGANIZATION', 'rcon': u'exemplified/VBD the/DT degree/NN to/TO which/WDT', 'subjtext': u'ICO/NNP'})\n",
      "defaultdict(<type 'str'>, {'lcon': u'down/RB and/CC ,/, although/IN an/DT', 'untagged_filler': u'executive board meeting starts in', 'filler': u'executive/NN board/NN meeting/NN starts/VBZ in/IN', 'objsym': u'london', 'objclass': 'GPE', 'objtext': u'London/NNP', 'subjsym': u'ico', 'subjclass': 'ORGANIZATION', 'rcon': u'today/NN ,/, delegates/NNS and/CC trade/NN', 'subjtext': u'ICO/NNP'})\n",
      "defaultdict(<type 'str'>, {'lcon': u'told/VBD', 'untagged_filler': u'in', 'filler': u'in/IN', 'objsym': u'kuala', 'objclass': 'GPE', 'objtext': u'Kuala/NNP', 'subjsym': u'reuters', 'subjclass': 'ORGANIZATION', 'rcon': u'Lumpur/NNP his/PRP$ country/NN ,/, the/DT', 'subjtext': u'Reuters/NNP'})\n",
      "defaultdict(<type 'str'>, {'lcon': u'is/VBZ a/DT member/NN of/IN the/DT', 'untagged_filler': u'of Tin Producing', 'filler': u'of/IN Tin/NNP Producing/VBG', 'objsym': u'countries', 'objclass': 'GPE', 'objtext': u'Countries/NNP', 'subjsym': u'association', 'subjclass': 'ORGANIZATION', 'rcon': u'(/(', 'subjtext': u'Association/NNP'})\n",
      "defaultdict(<type 'str'>, {'lcon': u'told/VBD', 'untagged_filler': u'in', 'filler': u'in/IN', 'objsym': u'london', 'objclass': 'GPE', 'objtext': u'London/NNP', 'subjsym': u'reuters', 'subjclass': 'ORGANIZATION', 'rcon': u',/, ``/`` Agreements/NNS with/IN economic/JJ', 'subjtext': u'Reuters/NNPS'})\n",
      "defaultdict(<type 'str'>, {'lcon': u'prices/NNS should/MD be/VB ./. A/DT', 'untagged_filler': u'official in', 'filler': u'official/NN in/IN', 'objsym': u'tokyo', 'objclass': 'GPE', 'objtext': u'Tokyo/NNP', 'subjsym': u'foreign_ministry', 'subjclass': 'ORGANIZATION', 'rcon': u'said/VBD', 'subjtext': u'Foreign/NNP Ministry/NNP'})\n",
      "defaultdict(<type 'str'>, {'lcon': u'told/VBD', 'untagged_filler': u'in', 'filler': u'in/IN', 'objsym': u'jakarta', 'objclass': 'GPE', 'objtext': u'Jakarta/NNP', 'subjsym': u'reuters', 'subjclass': 'ORGANIZATION', 'rcon': u':/: ``/`` These/DT agreements/NNS can/MD', 'subjtext': u'Reuters/NNP'})\n",
      "defaultdict(<type 'str'>, {'lcon': u',/, senior/JJ analyst/NN at/IN', 'untagged_filler': u'de Zoete Wedd Ltd in', 'filler': u'de/NNP Zoete/NNP Wedd/NNP Ltd/NNP in/IN', 'objsym': u'tokyo', 'objclass': 'GPE', 'objtext': u'Tokyo/NNP', 'subjsym': u'barclays', 'subjclass': 'ORGANIZATION', 'rcon': u'./. The/DT U.S/NNP ./. Leads/VBZ', 'subjtext': u'Barclays/NNP'})\n",
      "defaultdict(<type 'str'>, {'lcon': '', 'untagged_filler': u'FINANCIAL PACKAGES EC ministers have approved financial packages for several', 'filler': u'FINANCIAL/NNP PACKAGES/NNP EC/NNP ministers/NNS have/VBP approved/VBN financial/JJ packages/NNS for/IN several/JJ', 'objsym': u'mediterranean', 'objclass': 'GPE', 'objtext': u'Mediterranean/NNP', 'subjsym': u'mediterranean', 'subjclass': 'ORGANIZATION', 'rcon': u'states/NNS totalling/VBG 1.6/CD billion/CD', 'subjtext': u'MEDITERRANEAN/NNP'})\n",
      "defaultdict(<type 'str'>, {'lcon': u'an/DT agreement/NN to/TO open/VB a/DT', 'untagged_filler': u'Community Commission office in', 'filler': u'Community/NNP Commission/NNP office/NN in/IN', 'objsym': u'peking', 'objclass': 'GPE', 'objtext': u'Peking/NNP', 'subjsym': u'european', 'subjclass': 'ORGANIZATION', 'rcon': u'./.', 'subjtext': u'European/NNP'})\n",
      "defaultdict(<type 'str'>, {'lcon': u'said/VBD the/DT', 'untagged_filler': u'in', 'filler': u'in/IN', 'objsym': u'paris', 'objclass': 'GPE', 'objtext': u'Paris/NNP', 'subjsym': u'pasteur_institute', 'subjclass': 'ORGANIZATION', 'rcon': u'and/CC the/DT', 'subjtext': u'Pasteur/NNP Institute/NNP'})\n",
      "defaultdict(<type 'str'>, {'lcon': u'(/(', 'untagged_filler': u') . `` This agreement opens a new era in', 'filler': u')/) ./. ``/`` This/DT agreement/NN opens/VBZ a/DT new/JJ era/NN in/IN', 'objsym': u'franco-american', 'objclass': 'GPE', 'objtext': u'Franco-American/JJ', 'subjsym': u'acquired_immune_deficiency_syndrome', 'subjclass': 'ORGANIZATION', 'rcon': u'cooperation/NN ,/, allowing/VBG', 'subjtext': u'Acquired/NNP Immune/NNP Deficiency/NNP Syndrome/NNP'})\n",
      "defaultdict(<type 'str'>, {'lcon': u',/, economist/NN at/IN', 'untagged_filler': u'in', 'filler': u'in/IN', 'objsym': u'london', 'objclass': 'GPE', 'objtext': u'London/NNP', 'subjsym': u'american_express_international_bank', 'subjclass': 'ORGANIZATION', 'rcon': u'./.', 'subjtext': u'American/NNP Express/NNP International/NNP Bank/NNP'})\n",
      "defaultdict(<type 'str'>, {'lcon': u',/, at/IN', 'untagged_filler': u'and Co in', 'filler': u'and/CC Co/NNP in/IN', 'objsym': u'london', 'objclass': 'GPE', 'objtext': u'London/NNP', 'subjsym': u'morgan_grenfell', 'subjclass': 'ORGANIZATION', 'rcon': u',/, said/VBD the/DT huge/JJ sums/NNS', 'subjtext': u'Morgan/NNP Grenfell/NNP'})\n",
      "defaultdict(<type 'str'>, {'lcon': u',/, a/DT senior/JJ executive/NN at/IN', 'untagged_filler': u\"'s bond operation in\", 'filler': u\"'s/POS bond/NN operation/NN in/IN\", 'objsym': u'london', 'objclass': 'GPE', 'objtext': u'London/NNP', 'subjsym': u'yamaichi_securities_co_ltd', 'subjclass': 'ORGANIZATION', 'rcon': u'./. He/PRP said/VBD the/DT Japanese/NNS', 'subjtext': u'Yamaichi/NNP Securities/NNPS Co/NNP Ltd/NNP'})\n",
      "defaultdict(<type 'str'>, {'lcon': u'to/TO defend/VB prices/NNS ./. An/DT', 'untagged_filler': u'special meeting ended last night in', 'filler': u'special/JJ meeting/NN ended/VBN last/JJ night/NN in/IN', 'objsym': u'london', 'objclass': 'GPE', 'objtext': u'London/NNP', 'subjsym': u'ico', 'subjclass': 'ORGANIZATION', 'rcon': u'with/IN exporting/VBG and/CC consuming/VBG nations/NNS', 'subjtext': u'ICO/NNP'})\n",
      "defaultdict(<type 'str'>, {'lcon': u'silver/NN prices/NNS rallied/VBD on/IN the/DT', 'untagged_filler': u'in', 'filler': u'in/IN', 'objsym': u'new_york', 'objclass': 'GPE', 'objtext': u'New/NNP York/NNP', 'subjsym': u'commodity_exchange', 'subjclass': 'ORGANIZATION', 'rcon': u'./. The/DT increase/NN in/IN', 'subjtext': u'Commodity/NNP Exchange/NNP'})\n",
      "defaultdict(<type 'str'>, {'lcon': u'silver/NN prices/NNS rallied/VBD on/IN the/DT', 'untagged_filler': u'in', 'filler': u'in/IN', 'objsym': u'new_york', 'objclass': 'GPE', 'objtext': u'New/NNP York/NNP', 'subjsym': u'commodity_exchange', 'subjclass': 'ORGANIZATION', 'rcon': u'./. The/DT increase/NN in/IN', 'subjtext': u'Commodity/NNP Exchange/NNP'})\n",
      "defaultdict(<type 'str'>, {'lcon': u'silver/NN prices/NNS rallied/VBD on/IN the/DT', 'untagged_filler': u'in', 'filler': u'in/IN', 'objsym': u'new_york', 'objclass': 'GPE', 'objtext': u'New/NNP York/NNP', 'subjsym': u'commodity_exchange', 'subjclass': 'ORGANIZATION', 'rcon': u'./. The/DT increase/NN in/IN', 'subjtext': u'Commodity/NNP Exchange/NNP'})\n",
      "defaultdict(<type 'str'>, {'lcon': u'a/DT reorganization/NN plan/NN for/IN the/DT', 'untagged_filler': u', now being prepared .', 'filler': u',/, now/RB being/VBG prepared/VBN ./.', 'objsym': u'us', 'objclass': 'GPE', 'objtext': u'U.S./NNP', 'subjsym': u'bank', 'subjclass': 'ORGANIZATION', 'rcon': u',/,', 'subjtext': u'Bank/NNP'})\n",
      "defaultdict(<type 'str'>, {'lcon': u'the/DT U.K./NNP Firm/NNP Cable/NNP and/CC', 'untagged_filler': u\"'s & lt ; CAWL.L > shareholding in a new\", 'filler': u\"'s/POS &/CC lt/NN ;/: CAWL.L/NNP >/NNP shareholding/VBG in/IN a/DT new/JJ\", 'objsym': u'japanese', 'objclass': 'GPE', 'objtext': u'Japanese/JJ', 'subjsym': u'wireless_plc', 'subjclass': 'ORGANIZATION', 'rcon': u'telecommunications/NNS company/NN or/CC face/NN an/DT', 'subjtext': u'Wireless/NNP Plc/NNP'})\n",
      "defaultdict(<type 'str'>, {'lcon': u'charges/VBZ the/DT accord/NN breached/VBD', 'untagged_filler': u'trade rules by allowing', 'filler': u'trade/NN rules/NNS by/IN allowing/VBG', 'objsym': u'tokyo', 'objclass': 'GPE', 'objtext': u'Tokyo/NNP', 'subjsym': u'gatt', 'subjclass': 'ORGANIZATION', 'rcon': u'to/TO set/VB minimum/JJ prices/NNS for/IN', 'subjtext': u'GATT/NNP'})\n",
      "defaultdict(<type 'str'>, {'lcon': u'with/IN the/DT U.S/NNP ./. The/DT', 'untagged_filler': u'adminsitration recently proposed tariffs on', 'filler': u'adminsitration/NN recently/RB proposed/VBD tariffs/NNS on/IN', 'objsym': u'japanese', 'objclass': 'GPE', 'objtext': u'Japanese/JJ', 'subjsym': u'reagan', 'subjclass': 'ORGANIZATION', 'rcon': u'electronic/JJ goods/NNS ,/, alleging/VBG that/IN', 'subjtext': u'Reagan/NNP'})\n",
      "defaultdict(<type 'str'>, {'lcon': u'NATIONS/NNP TO/NNP', 'untagged_filler': u'GROWTH Leading industrial nations will be reviewing the', 'filler': u'GROWTH/NNP Leading/NNP industrial/JJ nations/NNS will/MD be/VB reviewing/VBG the/DT', 'objsym': u'paris', 'objclass': 'GPE', 'objtext': u'Paris/NNP', 'subjsym': u'boost', 'subjclass': 'ORGANIZATION', 'rcon': u'agreement/NN to/TO stabilize/VB exchange/NN rates/NNS', 'subjtext': u'BOOST/NNP'})\n",
      "defaultdict(<type 'str'>, {'lcon': u'and/CC', 'untagged_filler': u'meetings , he also said the', 'filler': u'meetings/NNS ,/, he/PRP also/RB said/VBD the/DT', 'objsym': u'us', 'objclass': 'GPE', 'objtext': u'U.S./NNP', 'subjsym': u'world_bank', 'subjclass': 'ORGANIZATION', 'rcon': u'was/VBD looking/VBG to/TO', 'subjtext': u'World/NNP Bank/NNP'})\n",
      "defaultdict(<type 'str'>, {'lcon': u'would/MD be/VB reported/VBN to/TO the/DT', 'untagged_filler': u'in June . Monetary sources said the', 'filler': u'in/IN June/NNP ./. Monetary/NNP sources/NNS said/VBD the/DT', 'objsym': u'us', 'objclass': 'GPE', 'objtext': u'U.S./NNP', 'subjsym': u'venice_summit', 'subjclass': 'ORGANIZATION', 'rcon': u'proposal/NN envisages/VBZ using/VBG the/DT indicators/NNS', 'subjtext': u'Venice/NNP Summit/NNP'})\n",
      "defaultdict(<type 'str'>, {'lcon': u'coordination/NN agreements/NNS ,/, like/IN the/DT', 'untagged_filler': u', more binding .', 'filler': u',/, more/RBR binding/NN ./.', 'objsym': u'us', 'objclass': 'GPE', 'objtext': u'U.S./NNP', 'subjsym': u'paris_accord', 'subjclass': 'ORGANIZATION', 'rcon': u'CERTIFIED/NNP COFFEE/NNP STOCKS/NNP DOWN/NNP IN/NNP', 'subjtext': u'Paris/NNP Accord/NNP'})\n",
      "defaultdict(<type 'str'>, {'lcon': u'ABOUT/NNP KOREAN/TAIWAN/NNP DEFICITS/NNP Secretary/NNP of/IN', 'untagged_filler': u'expressed concern about the continuing', 'filler': u'expressed/VBD concern/NN about/IN the/DT continuing/VBG', 'objsym': u'us', 'objclass': 'GPE', 'objtext': u'U.S./NNP', 'subjsym': u'commerce_malcolm_baldrige', 'subjclass': 'ORGANIZATION', 'rcon': u'trade/NN deficits/NNS with/IN', 'subjtext': u'Commerce/NNP Malcolm/NNP Baldrige/NNP'})\n",
      "defaultdict(<type 'str'>, {'lcon': u'setting/VBG quotas/NNS ./. At/IN the/DT', 'untagged_filler': u'talks major consuming nations , led by the', 'filler': u'talks/NNS major/JJ consuming/VBG nations/NNS ,/, led/VBN by/IN the/DT', 'objsym': u'us', 'objclass': 'GPE', 'objtext': u'U.S./NNP', 'subjsym': u'ico', 'subjclass': 'ORGANIZATION', 'rcon': u',/, proposed/VBD that/IN future/JJ coffee/NN', 'subjtext': u'ICO/NNP'})\n",
      "defaultdict(<type 'str'>, {'lcon': u'officials/NNS said/VBD ./. The/DT', 'untagged_filler': u'department , a major player in setting', 'filler': u'department/NN ,/, a/DT major/JJ player/NN in/IN setting/VBG', 'objsym': u'us', 'objclass': 'GPE', 'objtext': u'U.S./NNP', 'subjsym': u'state', 'subjclass': 'ORGANIZATION', 'rcon': u'coffee/NN policy/NN ,/, may/MD then/RB', 'subjtext': u'State/NNP'})\n",
      "defaultdict(<type 'str'>, {'lcon': u'on/IN the/DT basis/NN of/IN a/DT', 'untagged_filler': u'Community complaint against the U.S.-', 'filler': u'Community/NNP complaint/NN against/IN the/DT U.S.-/JJ', 'objsym': u'japanese', 'objclass': 'GPE', 'objtext': u'Japanese/JJ', 'subjsym': u'european', 'subjclass': 'ORGANIZATION', 'rcon': u'agreement/NN on/IN exports/NNS of/IN computer/NN', 'subjtext': u'European/NNP'})\n",
      "defaultdict(<type 'str'>, {'lcon': u'./. Complained/VBD the/DT accord/NN breached/VBD', 'untagged_filler': u'trade rules by allowing', 'filler': u'trade/NN rules/NNS by/IN allowing/VBG', 'objsym': u'tokyo', 'objclass': 'GPE', 'objtext': u'Tokyo/NNP', 'subjsym': u'gatt', 'subjclass': 'ORGANIZATION', 'rcon': u'to/TO monitor/VB prices/NNS ,/, allowing/VBG', 'subjtext': u'GATT/NNP'})\n",
      "defaultdict(<type 'str'>, {'lcon': u'--/: had/VBD supported/VBN the/DT', 'untagged_filler': u'complaint during the heated Council debate .', 'filler': u'complaint/NN during/IN the/DT heated/JJ Council/NNP debate/NN ./.', 'objsym': u'japan', 'objclass': 'GPE', 'objtext': u'Japan/NNP', 'subjsym': u'ec', 'subjclass': 'ORGANIZATION', 'rcon': u\"'s/POS delegate/NN ,/,\", 'subjtext': u'EC/NNP'})\n",
      "defaultdict(<type 'str'>, {'lcon': u'ON/NNP CANADIAN/NNP HERRING/NNP The/DT ruling/NN', 'untagged_filler': u'set up a formal dispute panel to examine a', 'filler': u'set/VBD up/RP a/DT formal/JJ dispute/NN panel/NN to/TO examine/VB a/DT', 'objsym': u'us', 'objclass': 'GPE', 'objtext': u'U.S./NNP', 'subjsym': u'gatt_council', 'subjclass': 'ORGANIZATION', 'rcon': u'Complaint/NNP that/IN a/DT', 'subjtext': u'GATT/NNP Council/NNP'})\n",
      "defaultdict(<type 'str'>, {'lcon': u'told/VBD', 'untagged_filler': u'in an interview . The', 'filler': u'in/IN an/DT interview/NN ./. The/DT', 'objsym': u'us', 'objclass': 'GPE', 'objtext': u'U.S./NNP', 'subjsym': u'reuters', 'subjclass': 'ORGANIZATION', 'rcon': u'and/CC', 'subjtext': u'Reuters/NNP'})\n",
      "defaultdict(<type 'str'>, {'lcon': u'ASIA/NNP TO/NNP TAKE/NNP U.S/NNP ./.', 'untagged_filler': u'Congressmen from beef producing states and representatives of the', 'filler': u'Congressmen/NNP from/IN beef/NN producing/VBG states/NNS and/CC representatives/NNS of/IN the/DT', 'objsym': u'us', 'objclass': 'GPE', 'objtext': u'U.S./NNP', 'subjsym': u'beef', 'subjclass': 'ORGANIZATION', 'rcon': u'livestock/NN industry/NN urged/VBD the/DT', 'subjtext': u'BEEF/NNP'})\n",
      "defaultdict(<type 'str'>, {'lcon': u'livestock/NN industry/NN urged/VBD the/DT', 'untagged_filler': u'administration to press', 'filler': u'administration/NN to/TO press/VB', 'objsym': u'japan', 'objclass': 'GPE', 'objtext': u'Japan/NNP', 'subjsym': u'reagan', 'subjclass': 'ORGANIZATION', 'rcon': u'and/CC', 'subjtext': u'Reagan/NNP'})\n",
      "defaultdict(<type 'str'>, {'lcon': u'and/CC the/DT', 'untagged_filler': u'tried to find ways to reduce the', 'filler': u'tried/VBD to/TO find/VB ways/NNS to/TO reduce/VB the/DT', 'objsym': u'us', 'objclass': 'GPE', 'objtext': u'U.S./NNP', 'subjsym': u'administration', 'subjclass': 'ORGANIZATION', 'rcon': u'trade/NN deficit/NN ,/, which/WDT last/JJ', 'subjtext': u'Administration/NNP'})\n",
      "defaultdict(<type 'str'>, {'lcon': u'(/(', 'untagged_filler': u') meeting in', 'filler': u')/) meeting/NN in/IN', 'objsym': u'london', 'objclass': 'GPE', 'objtext': u'London/NNP', 'subjsym': u'ico', 'subjclass': 'ORGANIZATION', 'rcon': u'would/MD not/RB last/JJ long/RB ./.', 'subjtext': u'ICO/NNP'})\n",
      "defaultdict(<type 'str'>, {'lcon': u'BANKS/NNP MAY/NNP BUY/NNP', 'untagged_filler': u'SINGAPORE COFFEE FIRM The nine creditor banks of the', 'filler': u'SINGAPORE/NNP COFFEE/NNP FIRM/NNP The/DT nine/CD creditor/NN banks/NNS of/IN the/DT', 'objsym': u'singapore', 'objclass': 'GPE', 'objtext': u'Singapore/NNP', 'subjsym': u'into', 'subjclass': 'ORGANIZATION', 'rcon': u'coffee/NN trader/NN &/CC lt/NN ;/:', 'subjtext': u'INTO/NNP'})\n",
      "defaultdict(<type 'str'>, {'lcon': u'withdrew/VBD Most/JJS Favoured/JJ Nation/NN (/(', 'untagged_filler': u') trading status from', 'filler': u')/) trading/NN status/NN from/IN', 'objsym': u'poland', 'objclass': 'GPE', 'objtext': u'Poland/NNP', 'subjsym': u'mfn', 'subjclass': 'ORGANIZATION', 'rcon': u'in/IN 1982/CD in/IN retaliation/NN for/IN', 'subjtext': u'MFN/NNP'})\n",
      "defaultdict(<type 'str'>, {'lcon': u'modernise/VB its/PRP$ industry/NN ./. ``/``', 'untagged_filler': u\"does n't really mean anything , only that\", 'filler': u\"does/VBZ n't/RB really/RB mean/VB anything/NN ,/, only/RB that/IN\", 'objsym': u'poland', 'objclass': 'GPE', 'objtext': u'Poland/NNP', 'subjsym': u'mfn', 'subjclass': 'ORGANIZATION', 'rcon': u'will/MD not/RB be/VB treated/VBN worse/JJR', 'subjtext': u'MFN/NNP'})\n",
      "defaultdict(<type 'str'>, {'lcon': u'./. He/PRP was/VBD quoted/VBN by/IN', 'untagged_filler': u'as saying that', 'filler': u'as/IN saying/VBG that/IN', 'objsym': u'poland', 'objclass': 'GPE', 'objtext': u'Poland/NNP', 'subjsym': u'pap', 'subjclass': 'ORGANIZATION', 'rcon': u'would/MD meet/VB its/PRP$ financial/JJ obligations/NNS', 'subjtext': u'PAP/NNP'})\n",
      "defaultdict(<type 'str'>, {'lcon': u'STILL/NNP OPPOSED/NNP The/DT', 'untagged_filler': u'administration wants to encourage expanded trade with the', 'filler': u'administration/NN wants/VBZ to/TO encourage/VB expanded/JJ trade/NN with/IN the/DT', 'objsym': u'soviet', 'objclass': 'GPE', 'objtext': u'Soviet/NNP', 'subjsym': u'reagan', 'subjclass': 'ORGANIZATION', 'rcon': u'Union/NNP but/CC does/VBZ not/RB believe/VB', 'subjtext': u'Reagan/NNP'})\n",
      "defaultdict(<type 'str'>, {'lcon': u'of/IN', 'untagged_filler': u'. This compares to a 0.4 pct gain in January', 'filler': u'./. This/DT compares/VBZ to/TO a/DT 0.4/CD pct/NN gain/NN in/IN January/NNP', 'objsym': u'us', 'objclass': 'GPE', 'objtext': u'U.S./NNP', 'subjsym': u'chemical_bank', 'subjclass': 'ORGANIZATION', 'rcon': u'industrial/JJ production/NN ./.', 'subjtext': u'Chemical/NNP Bank/NNP'})\n",
      "defaultdict(<type 'str'>, {'lcon': u'year/NN ./. He/PRP told/VBD the/DT', 'untagged_filler': u\"`` You 're going to see a reduction in the\", 'filler': u\"``/`` You/PRP 're/VBP going/VBG to/TO see/VB a/DT reduction/NN in/IN the/DT\", 'objsym': u'japanese', 'objclass': 'GPE', 'objtext': u'Japanese/JJ', 'subjsym': u'national_newspaper_association', 'subjclass': 'ORGANIZATION', 'rcon': u'trade/NN surplus/NN --/: some/DT of/IN', 'subjtext': u'National/NNP Newspaper/NNP Association/NNP'})\n",
      "defaultdict(<type 'str'>, {'lcon': u'of/IN at/IN least/JJS eight/CD new/JJ', 'untagged_filler': u'processing plants .', 'filler': u'processing/NN plants/NNS ./.', 'objsym': u'indonesia', 'objclass': 'GPE', 'objtext': u'Indonesia/NNP', 'subjsym': u'ctc', 'subjclass': 'ORGANIZATION', 'rcon': u'plans/VBZ to/TO diversify/VB its/PRP$ tea/NN', 'subjtext': u'CTC/NNP'})\n",
      "defaultdict(<type 'str'>, {'lcon': u\"been/VBN willing/JJ ,/, ''/'' the/DT\", 'untagged_filler': u'said , adding that if', 'filler': u'said/VBD ,/, adding/VBG that/IN if/IN', 'objsym': u'japan', 'objclass': 'GPE', 'objtext': u'Japan/NNP', 'subjsym': u'eic', 'subjclass': 'ORGANIZATION', 'rcon': u'was/VBD deterred/VBN from/IN buying/VBG', 'subjtext': u'EIC/NNP'})\n",
      "defaultdict(<type 'str'>, {'lcon': u\"been/VBN willing/JJ ,/, ''/'' the/DT\", 'untagged_filler': u'said , adding that if', 'filler': u'said/VBD ,/, adding/VBG that/IN if/IN', 'objsym': u'japan', 'objclass': 'GPE', 'objtext': u'Japan/NNP', 'subjsym': u'eic', 'subjclass': 'ORGANIZATION', 'rcon': u'was/VBD deterred/VBN from/IN buying/VBG', 'subjtext': u'EIC/NNP'})\n",
      "defaultdict(<type 'str'>, {'lcon': u'post-detente/NN embargoes/NNS have/VBP taught/VBN the/DT', 'untagged_filler': u'to limit its trading with the', 'filler': u'to/TO limit/VB its/PRP$ trading/NN with/IN the/DT', 'objsym': u'us', 'objclass': 'GPE', 'objtext': u'U.S./NNP', 'subjsym': u'ussr', 'subjclass': 'ORGANIZATION', 'rcon': u\",/, ''/'' he/PRP said/VBD ./.\", 'subjtext': u'USSR/NNP'})\n",
      "defaultdict(<type 'str'>, {'lcon': u'post-detente/NN embargoes/NNS have/VBP taught/VBN the/DT', 'untagged_filler': u'to limit its trading with the', 'filler': u'to/TO limit/VB its/PRP$ trading/NN with/IN the/DT', 'objsym': u'us', 'objclass': 'GPE', 'objtext': u'U.S./NNP', 'subjsym': u'ussr', 'subjclass': 'ORGANIZATION', 'rcon': u\",/, ''/'' he/PRP said/VBD ./.\", 'subjtext': u'USSR/NNP'})\n",
      "defaultdict(<type 'str'>, {'lcon': u'draft/NN legislation/NN under/IN consideration/NN by/IN', 'untagged_filler': u'would impose permanent quotas on products entering the', 'filler': u'would/MD impose/VB permanent/JJ quotas/NNS on/IN products/NNS entering/VBG the/DT', 'objsym': u'us', 'objclass': 'GPE', 'objtext': u'U.S./NNP', 'subjsym': u'congress', 'subjclass': 'ORGANIZATION', 'rcon': u'and/CC seek/VB to/TO limit/VB any/DT', 'subjtext': u'Congress/NNP'})\n",
      "defaultdict(<type 'str'>, {'lcon': u\"'s/POS\", 'untagged_filler': u'company was preparing proposals for further examination by the', 'filler': u'company/NN was/VBD preparing/VBG proposals/NNS for/IN further/JJ examination/NN by/IN the/DT', 'objsym': u'soviet_union', 'objclass': 'GPE', 'objtext': u'Soviet/NNP Union/NNP', 'subjsym': u'interagra', 'subjclass': 'ORGANIZATION', 'rcon': u'./.', 'subjtext': u'Interagra/NNP'})\n",
      "defaultdict(<type 'str'>, {'lcon': u'(/(', 'untagged_filler': u') talks in', 'filler': u')/) talks/NNS in/IN', 'objsym': u'london', 'objclass': 'GPE', 'objtext': u'London/NNP', 'subjsym': u'ico', 'subjclass': 'ORGANIZATION', 'rcon': u'./.', 'subjtext': u'ICO/NNP'})\n",
      "defaultdict(<type 'str'>, {'lcon': u',/, blocked/VBD the/DT proposal/NN ./.', 'untagged_filler': u'officials are now hoping', 'filler': u'officials/NNS are/VBP now/RB hoping/VBG', 'objsym': u'colombia', 'objclass': 'GPE', 'objtext': u'Colombia/NNP', 'subjsym': u'aice', 'subjclass': 'ORGANIZATION', 'rcon': u'can/MD use/VB its/PRP$ contacts/NNS with/IN', 'subjtext': u'AICE/NNP'})\n",
      "defaultdict(<type 'str'>, {'lcon': u'SETS/NNP OCTOBER/NNP DEADLINE/NNP FOR/NNP S.AFRICA/NNP', 'untagged_filler': u'announced its promised program of unilateral economic sanctions against', 'filler': u'announced/VBD its/PRP$ promised/JJ program/NN of/IN unilateral/JJ economic/JJ sanctions/NNS against/IN', 'objsym': u'south_africa', 'objclass': 'GPE', 'objtext': u'South/NNP Africa/NNP', 'subjsym': u'boycott_sweden', 'subjclass': 'ORGANIZATION', 'rcon': u'and/CC gave/VBD firms/NNS an/DT October/NNP', 'subjtext': u'BOYCOTT/NNP Sweden/NNP'})\n",
      "defaultdict(<type 'str'>, {'lcon': u'in/IN the/DT short/JJ term/NN ./.', 'untagged_filler': u'talks last month in', 'filler': u'talks/NNS last/JJ month/NN in/IN', 'objsym': u'london', 'objclass': 'GPE', 'objtext': u'London/NNP', 'subjsym': u'ico', 'subjclass': 'ORGANIZATION', 'rcon': u'failed/VBD to/TO break/VB a/DT deadlock/NN', 'subjtext': u'ICO/NNP'})\n",
      "defaultdict(<type 'str'>, {'lcon': u'too/RB ./. Sources/NNS at/IN the/DT', 'untagged_filler': u'Marketing Board in', 'filler': u'Marketing/NNP Board/NNP in/IN', 'objsym': u'kampala', 'objclass': 'GPE', 'objtext': u'Kampala/NNP', 'subjsym': u'coffee', 'subjclass': 'ORGANIZATION', 'rcon': u'reported/VBD delays/NNS in/IN coffee/NN export/NN', 'subjtext': u'Coffee/NNP'})\n",
      "defaultdict(<type 'str'>, {'lcon': u'which/WDT have/VBP emerged/VBN from/IN recent/JJ', 'untagged_filler': u'Organisation talks in', 'filler': u'Organisation/NNP talks/NNS in/IN', 'objsym': u'london', 'objclass': 'GPE', 'objtext': u'London/NNP', 'subjsym': u'international_coffee', 'subjclass': 'ORGANIZATION', 'rcon': u',/, where/WRB producers/NNS and/CC consumers/NNS', 'subjtext': u'International/NNP Coffee/NNP'})\n",
      "defaultdict(<type 'str'>, {'lcon': u'expected/VBN to/TO dominate/VB talks/NNS by/IN', 'untagged_filler': u'foreign ministers here tomorrow . EC diplomats said', 'filler': u'foreign/JJ ministers/NNS here/RB tomorrow/NN ./. EC/NNP diplomats/NNS said/VBD', 'objsym': u'britain', 'objclass': 'GPE', 'objtext': u'Britain/NNP', 'subjsym': u'ec', 'subjclass': 'ORGANIZATION', 'rcon': u'demanded/VBD the/DT early/JJ debate/NN on/IN', 'subjtext': u'EC/NNP'})\n",
      "defaultdict(<type 'str'>, {'lcon': u'expected/VBN to/TO strongly/VB back/RP a/DT', 'untagged_filler': u'warning to', 'filler': u'warning/NN to/TO', 'objsym': u'washington', 'objclass': 'GPE', 'objtext': u'Washington/NNP', 'subjsym': u'commission', 'subjclass': 'ORGANIZATION', 'rcon': u'that/IN such/PDT a/DT bill/NN ,/,', 'subjtext': u'Commission/NNP'})\n",
      "defaultdict(<type 'str'>, {'lcon': u'./. At/IN a/DT meeting/NN of/IN', 'untagged_filler': u'foreign ministers ,', 'filler': u'foreign/JJ ministers/NNS ,/,', 'objsym': u'britain', 'objclass': 'GPE', 'objtext': u'Britain/NNP', 'subjsym': u'ec', 'subjclass': 'ORGANIZATION', 'rcon': u'called/VBD for/IN a/DT full/JJ debate/NN', 'subjtext': u'EC/NNP'})\n",
      "defaultdict(<type 'str'>, {'lcon': u'also/RB slackened/VBD ./. Separately/RB ,/,', 'untagged_filler': u'AG said in a report that the focus of', 'filler': u'AG/NNP said/VBD in/IN a/DT report/NN that/IN the/DT focus/NN of/IN', 'objsym': u'west', 'objclass': 'GPE', 'objtext': u'West/JJ', 'subjsym': u'commerzbank', 'subjclass': 'ORGANIZATION', 'rcon': '', 'subjtext': u'Commerzbank/NNP'})\n",
      "defaultdict(<type 'str'>, {'lcon': u'of/IN', 'untagged_filler': u'in late April . In a move to toughen', 'filler': u'in/IN late/JJ April/NNP ./. In/IN a/DT move/NN to/TO toughen/VB', 'objsym': u'us', 'objclass': 'GPE', 'objtext': u'U.S./NNP', 'subjsym': u'representatives', 'subjclass': 'ORGANIZATION', 'rcon': u'enforcement/NN of/IN trade/NN laws/NNS ,/,', 'subjtext': u'Representatives/NNPS'})\n",
      "defaultdict(<type 'str'>, {'lcon': u\"''/'' he/PRP said/VBD ./. Recent/JJ\", 'untagged_filler': u'talks in', 'filler': u'talks/NNS in/IN', 'objsym': u'london', 'objclass': 'GPE', 'objtext': u'London/NNP', 'subjsym': u'ico', 'subjclass': 'ORGANIZATION', 'rcon': u'failed/VBD to/TO break/VB a/DT deadlock/NN', 'subjtext': u'ICO/NNP'})\n",
      "defaultdict(<type 'str'>, {'lcon': u'TRADE/NNP BAN/NNP AGAINST/NNP SOUTH/NNP', 'untagged_filler': u\"'s parliament has approved an extensive trade ban against\", 'filler': u\"'s/POS parliament/NN has/VBZ approved/VBN an/DT extensive/JJ trade/NN ban/NN against/IN\", 'objsym': u'south_africa', 'objclass': 'GPE', 'objtext': u'South/NNP Africa/NNP', 'subjsym': u'africa_norway', 'subjclass': 'ORGANIZATION', 'rcon': u'but/CC left/VBD shipowners/NNS a/DT key/JJ', 'subjtext': u'AFRICA/NNP Norway/NNP'})\n",
      "defaultdict(<type 'str'>, {'lcon': u'of/IN', 'untagged_filler': u'in late April . In a move to toughen', 'filler': u'in/IN late/JJ April/NNP ./. In/IN a/DT move/NN to/TO toughen/VB', 'objsym': u'us', 'objclass': 'GPE', 'objtext': u'U.S./NNP', 'subjsym': u'representatives', 'subjclass': 'ORGANIZATION', 'rcon': u'enforcement/NN of/IN trade/NN laws/NNS ,/,', 'subjtext': u'Representatives/NNPS'})\n",
      "defaultdict(<type 'str'>, {'lcon': u'is/VBZ a/DT member/NN of/IN the/DT', 'untagged_filler': u'agriculture committee , was in', 'filler': u'agriculture/NN committee/NN ,/, was/VBD in/IN', 'objsym': u'indiana', 'objclass': 'GPE', 'objtext': u'Indiana/NNP', 'subjsym': u'ec', 'subjclass': 'ORGANIZATION', 'rcon': u'to/TO visit/VB several/JJ farms/NNS prior/VBP', 'subjtext': u'EC/NNP'})\n",
      "defaultdict(<type 'str'>, {'lcon': u'JAPAN/NNP ON/NNP TRADE/NNP TENSIONS/NNP The/DT', 'untagged_filler': u'Community ( EC ) delivered warnings to both', 'filler': u'Community/NNP (/( EC/NNP )/) delivered/VBD warnings/NNS to/TO both/DT', 'objsym': u'japan', 'objclass': 'GPE', 'objtext': u'Japan/NNP', 'subjsym': u'european', 'subjclass': 'ORGANIZATION', 'rcon': u'and/CC the/DT', 'subjtext': u'European/NNP'})\n",
      "defaultdict(<type 'str'>, {'lcon': u'The/DT statement/NN added/VBD that/IN the/DT', 'untagged_filler': u'continued to insist that the', 'filler': u'continued/VBD to/TO insist/VB that/IN the/DT', 'objsym': u'japanese', 'objclass': 'GPE', 'objtext': u'Japanese/JJ', 'subjsym': u'ec', 'subjclass': 'ORGANIZATION', 'rcon': u'government/NN must/MD boost/VB imports/NNS and/CC', 'subjtext': u'EC/NNP'})\n",
      "defaultdict(<type 'str'>, {'lcon': u\"''/'' But/CC diplomats/NNS said/VBD the/DT\", 'untagged_filler': u'is keen to continue talking with', 'filler': u'is/VBZ keen/JJ to/TO continue/VB talking/VBG with/IN', 'objsym': u'tokyo', 'objclass': 'GPE', 'objtext': u'Tokyo/NNP', 'subjsym': u'community', 'subjclass': 'ORGANIZATION', 'rcon': u'to/TO try/VB and/CC solve/VB the/DT', 'subjtext': u'Community/NNP'})\n",
      "defaultdict(<type 'str'>, {'lcon': u\"''/'' The/DT statement/NN said/VBD the/DT\", 'untagged_filler': u'would continue to insist that', 'filler': u'would/MD continue/VB to/TO insist/VB that/IN', 'objsym': u'japan', 'objclass': 'GPE', 'objtext': u'Japan/NNP', 'subjsym': u'ec', 'subjclass': 'ORGANIZATION', 'rcon': u'boost/NN imports/NNS and/CC stimulate/JJ domestic/JJ', 'subjtext': u'EC/NNP'})\n",
      "defaultdict(<type 'str'>, {'lcon': u'a/DT growing/VBG impatience/NN within/IN the/DT', 'untagged_filler': u'concerning trade relations with', 'filler': u'concerning/VBG trade/NN relations/NNS with/IN', 'objsym': u'japan', 'objclass': 'GPE', 'objtext': u'Japan/NNP', 'subjsym': u'community', 'subjclass': 'ORGANIZATION', 'rcon': u\"./. ''/'' The/DT\", 'subjtext': u'Community/NNP'})\n",
      "defaultdict(<type 'str'>, {'lcon': u'SAYS/NNP U.S.-JAPAN/NNP', 'untagged_filler': u'PACT WORKING Japanese officials sought to convince the', 'filler': u'PACT/NNP WORKING/NNP Japanese/JJ officials/NNS sought/VBD to/TO convince/VB the/DT', 'objsym': u'us', 'objclass': 'GPE', 'objtext': u'U.S./NNP', 'subjsym': u'microchip', 'subjclass': 'ORGANIZATION', 'rcon': u'That/IN a/DT', 'subjtext': u'MICROCHIP/NNP'})\n",
      "defaultdict(<type 'str'>, {'lcon': u\"''/'' The/DT statement/NN said/VBD the/DT\", 'untagged_filler': u'would continue to insist that', 'filler': u'would/MD continue/VB to/TO insist/VB that/IN', 'objsym': u'japan', 'objclass': 'GPE', 'objtext': u'Japan/NNP', 'subjsym': u'ec', 'subjclass': 'ORGANIZATION', 'rcon': u'boost/NN imports/NNS and/CC stimulate/JJ domestic/JJ', 'subjtext': u'EC/NNP'})\n",
      "defaultdict(<type 'str'>, {'lcon': u'a/DT growing/VBG impatience/NN within/IN the/DT', 'untagged_filler': u'concerning trade relations with', 'filler': u'concerning/VBG trade/NN relations/NNS with/IN', 'objsym': u'japan', 'objclass': 'GPE', 'objtext': u'Japan/NNP', 'subjsym': u'community', 'subjclass': 'ORGANIZATION', 'rcon': u\"./. ''/'' But/CC diplomats/NNS said/VBD\", 'subjtext': u'Community/NNP'})\n",
      "defaultdict(<type 'str'>, {'lcon': u'trade/NN governing/VBG body/NN ,/, a/DT', 'untagged_filler': u'spokesman said . The notification came in', 'filler': u'spokesman/NN said/VBD ./. The/DT notification/NN came/VBD in/IN', 'objsym': u'japan', 'objclass': 'GPE', 'objtext': u'Japan/NNP', 'subjsym': u'foreign_ministry', 'subjclass': 'ORGANIZATION', 'rcon': u\"'s/POS answer/NN to/TO a/DT recent/JJ\", 'subjtext': u'Foreign/NNP Ministry/NNP'})\n",
      "defaultdict(<type 'str'>, {'lcon': u'OFFICIAL/NNP WARNS/NNP OF/NNP MORE/NNP TRADE/NNP', 'untagged_filler': u'strained relations between the', 'filler': u'strained/VBD relations/NNS between/IN the/DT', 'objsym': u'us', 'objclass': 'GPE', 'objtext': u'U.S./NNP', 'subjsym': u'conflicts_already', 'subjclass': 'ORGANIZATION', 'rcon': u'And/CC the/DT', 'subjtext': u'CONFLICTS/NNP Already/NNP'})\n",
      "defaultdict(<type 'str'>, {'lcon': u'Chamber/NNP of/IN', 'untagged_filler': u'lunch in The', 'filler': u'lunch/NN in/IN The/DT', 'objsym': u'hague', 'objclass': 'GPE', 'objtext': u'Hague/NNP', 'subjsym': u'commerce', 'subjclass': 'ORGANIZATION', 'rcon': u',/,', 'subjtext': u'Commerce/NNP'})\n",
      "defaultdict(<type 'str'>, {'lcon': u\"''/'' Not/RB only/RB is/VBZ the/DT\", 'untagged_filler': u'clearly very determined to get the', 'filler': u'clearly/RB very/RB determined/VBN to/TO get/VB the/DT', 'objsym': u'american', 'objclass': 'GPE', 'objtext': u'American/JJ', 'subjsym': u'us_congress', 'subjclass': 'ORGANIZATION', 'rcon': u'balance/NN of/IN payments/NNS into/IN better/JJR', 'subjtext': u'US/NNP Congress/NNP'})\n",
      "defaultdict(<type 'str'>, {'lcon': u'principle/NN to/TO cooperate/VB with/IN the/DT', 'untagged_filler': u'in', 'filler': u'in/IN', 'objsym': u'tokyo', 'objclass': 'GPE', 'objtext': u'Tokyo/NNP', 'subjsym': u'aomi_cargo_distribution_centre', 'subjclass': 'ORGANIZATION', 'rcon': u'./. Acting/NNP Mayor/NNP Roel/NNP den/NN', 'subjtext': u'AOMI/NNP Cargo/NNP Distribution/NNP Centre/NNP'})\n",
      "defaultdict(<type 'str'>, {'lcon': u'INSTITUTE/NNP LOWERS/NNP GROWTH/NNP FORECAST/NNP The/DT', 'untagged_filler': u'economic research institute said', 'filler': u'economic/JJ research/NN institute/NN said/VBD', 'objsym': u'west', 'objclass': 'GPE', 'objtext': u'West/JJ', 'subjsym': u'diw', 'subjclass': 'ORGANIZATION', 'rcon': '', 'subjtext': u'DIW/NNP'})\n",
      "defaultdict(<type 'str'>, {'lcon': u'In/IN a/DT separate/JJ report/NN the/DT', 'untagged_filler': u'economic research institute in', 'filler': u'economic/JJ research/NN institute/NN in/IN', 'objsym': u'hamburg', 'objclass': 'GPE', 'objtext': u'Hamburg/NNP', 'subjsym': u'hwwa', 'subjclass': 'ORGANIZATION', 'rcon': u'said/VBD', 'subjtext': u'HWWA/NNP'})\n",
      "defaultdict(<type 'str'>, {'lcon': u'traders/NNS and/CC analysts/NNS here/RB told/VBD', 'untagged_filler': u'Latin', 'filler': u'Latin/NNP', 'objsym': u'american', 'objclass': 'GPE', 'objtext': u'American/JJ', 'subjsym': u'reuters', 'subjclass': 'ORGANIZATION', 'rcon': u'coffee/NN producers/NNS will/MD meet/VB this/DT', 'subjtext': u'Reuters/NNP'})\n",
      "defaultdict(<type 'str'>, {'lcon': u',/, head/NN of/IN the/DT', 'untagged_filler': u'delegation in', 'filler': u'delegation/NN in/IN', 'objsym': u'washington', 'objclass': 'GPE', 'objtext': u'Washington/NNP', 'subjsym': u'ec', 'subjclass': 'ORGANIZATION', 'rcon': u',/, to/TO', 'subjtext': u'EC/NNP'})\n",
      "defaultdict(<type 'str'>, {'lcon': u'EXPORTS/NNP HELPING/NNP TO/NNP', 'untagged_filler': u'GDP The strong contribution of exports to the growth in', 'filler': u'GDP/NNP The/DT strong/JJ contribution/NN of/IN exports/NNS to/TO the/DT growth/NN in/IN', 'objsym': u'australia', 'objclass': 'GPE', 'objtext': u'Australia/NNP', 'subjsym': u'boost', 'subjclass': 'ORGANIZATION', 'rcon': u\"'s/POS gross/JJ domestic/JJ product/NN (/(\", 'subjtext': u'BOOST/NNP'})\n",
      "defaultdict(<type 'str'>, {'lcon': u\"prepared/JJ ,/, ''/'' he/PRP told/VBD\", 'untagged_filler': u'. He added the meeting could be postponed .', 'filler': u'./. He/PRP added/VBD the/DT meeting/NN could/MD be/VB postponed/VBN ./.', 'objsym': u'colombia', 'objclass': 'GPE', 'objtext': u'Colombia/NNP', 'subjsym': u'reuters', 'subjclass': 'ORGANIZATION', 'rcon': u',/,', 'subjtext': u'Reuters/NNPS'})\n",
      "defaultdict(<type 'str'>, {'lcon': u'from/IN continuous/JJ contacts/NNS ./. The/DT', 'untagged_filler': u'executive board is to meet in', 'filler': u'executive/NNP board/NN is/VBZ to/TO meet/VB in/IN', 'objsym': u'london', 'objclass': 'GPE', 'objtext': u'London/NNP', 'subjsym': u'international_coffee_organization', 'subjclass': 'ORGANIZATION', 'rcon': u'between/IN March/NNP 31/CD and/CC April/NNP', 'subjtext': u'International/NNP Coffee/NNP Organization/NNP'})\n",
      "defaultdict(<type 'str'>, {'lcon': u',/, the/DT', 'untagged_filler': u'administration has been stepping up the rhetoric against', 'filler': u'administration/NN has/VBZ been/VBN stepping/VBG up/RP the/DT rhetoric/NN against/IN', 'objsym': u'taiwan', 'objclass': 'GPE', 'objtext': u'Taiwan/NNP', 'subjsym': u'reagan', 'subjclass': 'ORGANIZATION', 'rcon': u'and/CC', 'subjtext': u'Reagan/NNP'})\n",
      "defaultdict(<type 'str'>, {'lcon': u'and/CC most/JJS', 'untagged_filler': u'nations -- previously the main focus of the', 'filler': u'nations/NNS --/: previously/RB the/DT main/JJ focus/NN of/IN the/DT', 'objsym': u'us', 'objclass': 'GPE', 'objtext': u'U.S./NNP', 'subjsym': u'ec', 'subjclass': 'ORGANIZATION', 'rcon': u'drive/NN to/TO cut/VB its/PRP$ trade/NN', 'subjtext': u'EC/NNP'})\n",
      "defaultdict(<type 'str'>, {'lcon': u'billion/CD ./. Concern/VB about/IN the/DT', 'untagged_filler': u'is not confined to the', 'filler': u'is/VBZ not/RB confined/VBN to/TO the/DT', 'objsym': u'us', 'objclass': 'GPE', 'objtext': u'U.S./NNP', 'subjsym': u'nics', 'subjclass': 'ORGANIZATION', 'rcon': u'``/`` A/DT lot/NN of/IN', 'subjtext': u'NICs/NNP'})\n",
      "defaultdict(<type 'str'>, {'lcon': '', 'untagged_filler': u\"SEEK ICO PRICE SUPPORT This weekend 's meeting of\", 'filler': u\"SEEK/NNP ICO/NNP PRICE/NNP SUPPORT/NNP This/DT weekend/NN 's/POS meeting/NN of/IN\", 'objsym': u'latin', 'objclass': 'GPE', 'objtext': u'Latin/JJ', 'subjsym': u'producers', 'subjclass': 'ORGANIZATION', 'rcon': '', 'subjtext': u'PRODUCERS/NNP'})\n",
      "defaultdict(<type 'str'>, {'lcon': u',/, Head/NNP of/IN the/DT', 'untagged_filler': u'in', 'filler': u'in/IN', 'objsym': u'washington', 'objclass': 'GPE', 'objtext': u'Washington/NNP', 'subjsym': u'ec_delegation', 'subjclass': 'ORGANIZATION', 'rcon': u',/, said/VBD pending/VBG', 'subjtext': u'EC/NNP Delegation/NNP'})\n",
      "defaultdict(<type 'str'>, {'lcon': u'told/VBD the/DT', 'untagged_filler': u'the measure was not aimed at retaliation but at correcting', 'filler': u'the/DT measure/NN was/VBD not/RB aimed/VBN at/IN retaliation/NN but/CC at/IN correcting/VBG', 'objsym': u'japan', 'objclass': 'GPE', 'objtext': u'Japan/NNP', 'subjsym': u'senate', 'subjclass': 'ORGANIZATION', 'rcon': u\"'s/POS unfair/JJ trade/NN practices/NNS ./.\", 'subjtext': u'Senate/NNP'})\n",
      "defaultdict(<type 'str'>, {'lcon': u'a/DT year/NN earlier/RB ,/, an/DT', 'untagged_filler': u'official said . He attributed the fall to the rising', 'filler': u'official/NN said/VBD ./. He/PRP attributed/VBD the/DT fall/NN to/TO the/DT rising/VBG', 'objsym': u'taiwan', 'objclass': 'GPE', 'objtext': u'Taiwan/NNP', 'subjsym': u'economic_ministry', 'subjclass': 'ORGANIZATION', 'rcon': u'dollar/NN ./. February/NNP orders/NNS for/IN', 'subjtext': u'Economic/NNP Ministry/NNP'})\n",
      "defaultdict(<type 'str'>, {'lcon': u'told/VBD the/DT', 'untagged_filler': u'the measure was not aimed at retaliation but at correcting', 'filler': u'the/DT measure/NN was/VBD not/RB aimed/VBN at/IN retaliation/NN but/CC at/IN correcting/VBG', 'objsym': u'japan', 'objclass': 'GPE', 'objtext': u'Japan/NNP', 'subjsym': u'senate', 'subjclass': 'ORGANIZATION', 'rcon': u\"'s/POS unfair/JJ trade/NN practices/NNS ./.\", 'subjtext': u'Senate/NNP'})\n",
      "defaultdict(<type 'str'>, {'lcon': u'(/(', 'untagged_filler': u') staff report that forecasts a continuing large', 'filler': u')/) staff/NN report/NN that/WDT forecasts/VBZ a/DT continuing/VBG large/JJ', 'objsym': u'japanese', 'objclass': 'GPE', 'objtext': u'Japanese/JJ', 'subjsym': u'oecd', 'subjclass': 'ORGANIZATION', 'rcon': u'trade/NN surplus/NN ,/, they/PRP said/VBD', 'subjtext': u'OECD/NNP'})\n",
      "defaultdict(<type 'str'>, {'lcon': u'measures/NNS if/IN ,/, after/IN a/DT', 'untagged_filler': u'decision against it ,', 'filler': u'decision/NN against/IN it/PRP ,/,', 'objsym': u'washington', 'objclass': 'GPE', 'objtext': u'Washington/NNP', 'subjsym': u'gatt', 'subjclass': 'ORGANIZATION', 'rcon': u'failed/VBD to/TO bring/VB the/DT disputed/JJ', 'subjtext': u'GATT/NNP'})\n",
      "defaultdict(<type 'str'>, {'lcon': u\"'s/POS decision/NN to/TO go/VB to/TO\", 'untagged_filler': u'follows a complaint to it by the', 'filler': u'follows/VBZ a/DT complaint/NN to/TO it/PRP by/IN the/DT', 'objsym': u'dutch', 'objclass': 'GPE', 'objtext': u'Dutch/JJ', 'subjsym': u'gatt', 'subjclass': 'ORGANIZATION', 'rcon': u'company/NN', 'subjtext': u'GATT/NNP'})\n",
      "defaultdict(<type 'str'>, {'lcon': u'for/IN defending/VBG themselves/PRP before/IN the/DT', 'untagged_filler': u'as they would have in a normal', 'filler': u'as/IN they/PRP would/MD have/VB in/IN a/DT normal/JJ', 'objsym': u'us', 'objclass': 'GPE', 'objtext': u'U.S./NNP', 'subjsym': u'itc', 'subjclass': 'ORGANIZATION', 'rcon': u'Court/NNP ./. ``/`` Consequently/RB the/DT', 'subjtext': u'ITC/NNP'})\n",
      "defaultdict(<type 'str'>, {'lcon': u'TRADE/NNP AS/IN', 'untagged_filler': u'URGENT PROBLEM Trade is the most urgent problem facing', 'filler': u'URGENT/NNP PROBLEM/NNP Trade/NNP is/VBZ the/DT most/RBS urgent/JJ problem/NN facing/VBG', 'objsym': u'us-canadian', 'objclass': 'GPE', 'objtext': u'U.S.-Canadian/JJ', 'subjsym': u'most', 'subjclass': 'ORGANIZATION', 'rcon': u'relations/NNS because/IN of/IN a/DT pressing/VBG', 'subjtext': u'MOST/NNP'})\n",
      "defaultdict(<type 'str'>, {'lcon': u'with/IN other/JJ countries/NNS ./. The/DT', 'untagged_filler': u'yesterday unanimously passed a resolution calling for action against', 'filler': u'yesterday/NN unanimously/RB passed/VBD a/DT resolution/NN calling/VBG for/IN action/NN against/IN', 'objsym': u'japan', 'objclass': 'GPE', 'objtext': u'Japan/NNP', 'subjsym': u'senate', 'subjclass': 'ORGANIZATION', 'rcon': u'for/IN violations/NNS of/IN the/DT pact/NN', 'subjtext': u'Senate/NNP'})\n",
      "defaultdict(<type 'str'>, {'lcon': u'(/(', 'untagged_filler': u') in', 'filler': u')/) in/IN', 'objsym': u'venice', 'objclass': 'GPE', 'objtext': u'Venice/NNP', 'subjsym': u'gatt', 'subjclass': 'ORGANIZATION', 'rcon': u'in/IN June/NNP ./. The/DT', 'subjtext': u'GATT/NNP'})\n",
      "defaultdict(<type 'str'>, {'lcon': u'and/CC the/DT', 'untagged_filler': u'. The delegates include', 'filler': u'./. The/DT delegates/NNS include/VBP', 'objsym': u'us', 'objclass': 'GPE', 'objtext': u'U.S./NNP', 'subjsym': u'economic_community', 'subjclass': 'ORGANIZATION', 'rcon': u'Trade/NNP Representative/NNP', 'subjtext': u'Economic/NNP Community/NNP'})\n",
      "defaultdict(<type 'str'>, {'lcon': u'gatherings/NNS ,/, which/WDT includes/VBZ the/DT', 'untagged_filler': u'ministerial meeting in May and the G-7 meeting in', 'filler': u'ministerial/JJ meeting/NN in/IN May/NNP and/CC the/DT G-7/NNP meeting/NN in/IN', 'objsym': u'venice', 'objclass': 'GPE', 'objtext': u'Venice/NNP', 'subjsym': u'oecd', 'subjclass': 'ORGANIZATION', 'rcon': u'in/IN June/NNP ,/, enabling/VBG ministers/NNS', 'subjtext': u'OECD/NNP'})\n",
      "defaultdict(<type 'str'>, {'lcon': u'TO/NNP', 'untagged_filler': u'TALKS A meeting of eight Latin', 'filler': u'TALKS/NNP A/NNP meeting/NN of/IN eight/CD Latin/JJ', 'objsym': u'american', 'objclass': 'GPE', 'objtext': u'American/JJ', 'subjsym': u'continue', 'subjclass': 'ORGANIZATION', 'rcon': u'coffee/NN producers/NNS ended/VBD with/IN a/DT', 'subjtext': u'CONTINUE/NNP'})\n",
      "defaultdict(<type 'str'>, {'lcon': u'for/IN the/DT talks/NNS is/VBZ the/DT', 'untagged_filler': u'ministerial declaration last September in', 'filler': u'ministerial/JJ declaration/NN last/JJ September/NNP in/IN', 'objsym': u'punta', 'objclass': 'GPE', 'objtext': u'Punta/NNP', 'subjsym': u'gatt', 'subjclass': 'ORGANIZATION', 'rcon': u'del/FW', 'subjtext': u'GATT/NNP'})\n",
      "defaultdict(<type 'str'>, {'lcon': u'after/IN the/DT', 'untagged_filler': u'declaration last September in', 'filler': u'declaration/NN last/JJ September/NNP in/IN', 'objsym': u'punta', 'objclass': 'GPE', 'objtext': u'Punta/NNP', 'subjsym': u'gatt', 'subjclass': 'ORGANIZATION', 'rcon': u'del/FW', 'subjtext': u'GATT/NNP'})\n",
      "defaultdict(<type 'str'>, {'lcon': u'(/(', 'untagged_filler': u') here , said ministers declared in', 'filler': u')/) here/RB ,/, said/VBD ministers/NNS declared/VBN in/IN', 'objsym': u'uruguay', 'objclass': 'GPE', 'objtext': u'Uruguay/NNP', 'subjsym': u'gatt', 'subjclass': 'ORGANIZATION', 'rcon': u'last/JJ September/NNP that/IN the/DT trade/NN', 'subjtext': u'GATT/NNP'})\n",
      "defaultdict(<type 'str'>, {'lcon': u\"'s/POS Inspectors/NNP (/(\", 'untagged_filler': u') reported . Western diplomats in', 'filler': u')/) reported/VBD ./. Western/JJ diplomats/NNS in/IN', 'objsym': u'rangoon', 'objclass': 'GPE', 'objtext': u'Rangoon/NNP', 'subjsym': u'cpi', 'subjclass': 'ORGANIZATION', 'rcon': u'estimate/VBP the/DT figure/NN at/IN above/IN', 'subjtext': u'CPI/NNP'})\n",
      "defaultdict(<type 'str'>, {'lcon': u'(/(', 'untagged_filler': u') in', 'filler': u')/) in/IN', 'objsym': u'venice', 'objclass': 'GPE', 'objtext': u'Venice/NNP', 'subjsym': u'gatt', 'subjclass': 'ORGANIZATION', 'rcon': u'./. The/DT', 'subjtext': u'GATT/NNP'})\n",
      "defaultdict(<type 'str'>, {'lcon': u'and/CC the/DT', 'untagged_filler': u'. The delegates include', 'filler': u'./. The/DT delegates/NNS include/VBP', 'objsym': u'us', 'objclass': 'GPE', 'objtext': u'U.S./NNP', 'subjsym': u'economic_community', 'subjclass': 'ORGANIZATION', 'rcon': u'Trade/NNP Representative/NNP', 'subjtext': u'Economic/NNP Community/NNP'})\n",
      "defaultdict(<type 'str'>, {'lcon': u'to/TO save/VB the/DT agreement/NN ,/,', 'untagged_filler': u'is asking', 'filler': u'is/VBZ asking/VBG', 'objsym': u'japanese', 'objclass': 'GPE', 'objtext': u'Japanese/JJ', 'subjsym': u'miti', 'subjclass': 'ORGANIZATION', 'rcon': u'chip/NN makers/NNS to/TO limit/VB production/NN', 'subjtext': u'MITI/NNP'})\n",
      "defaultdict(<type 'str'>, {'lcon': u'the/DT cutbacks/NNS are/VBP implemented/VBN ,/,', 'untagged_filler': u'called in the president of', 'filler': u'called/VBD in/IN the/DT president/NN of/IN', 'objsym': u'japan', 'objclass': 'GPE', 'objtext': u'Japan/NNP', 'subjsym': u'miti', 'subjclass': 'ORGANIZATION', 'rcon': u\"'s/POS largest/JJS semiconductor/NN maker/NN ,/,\", 'subjtext': u'MITI/NNP'})\n",
      "defaultdict(<type 'str'>, {'lcon': u'among/IN the/DT lowest/JJS in/IN the/DT', 'untagged_filler': u'area , the inflation differential between', 'filler': u'area/NN ,/, the/DT inflation/NN differential/NN between/IN', 'objsym': u'france', 'objclass': 'GPE', 'objtext': u'France/NNP', 'subjsym': u'oecd', 'subjclass': 'ORGANIZATION', 'rcon': u'and/CC its/PRP$ main/JJ trading/NN rival/NN', 'subjtext': u'OECD/NNP'})\n",
      "defaultdict(<type 'str'>, {'lcon': u'progress/NN made/VBN since/IN the/DT latest/JJS', 'untagged_filler': u'round was launched in', 'filler': u'round/NN was/VBD launched/VBN in/IN', 'objsym': u'punta', 'objclass': 'GPE', 'objtext': u'Punta/NNP', 'subjsym': u'gatt', 'subjclass': 'ORGANIZATION', 'rcon': u'del/FW', 'subjtext': u'GATT/NNP'})\n",
      "defaultdict(<type 'str'>, {'lcon': u'(/(', 'untagged_filler': u') here , said ministers declared in', 'filler': u')/) here/RB ,/, said/VBD ministers/NNS declared/VBN in/IN', 'objsym': u'uruguay', 'objclass': 'GPE', 'objtext': u'Uruguay/NNP', 'subjsym': u'gatt', 'subjclass': 'ORGANIZATION', 'rcon': u'last/JJ September/NNP that/IN the/DT trade/NN', 'subjtext': u'GATT/NNP'})\n",
      "defaultdict(<type 'str'>, {'lcon': u'of/IN negotiations/NNS was/VBD launched/VBN at/IN', 'untagged_filler': u'del Este in', 'filler': u'del/FW Este/NNP in/IN', 'objsym': u'uruguay', 'objclass': 'GPE', 'objtext': u'Uruguay/NNP', 'subjsym': u'punta', 'subjclass': 'ORGANIZATION', 'rcon': u'in/IN September/NNP 1986/CD ./. Agriculture/NN', 'subjtext': u'Punta/NNP'})\n",
      "defaultdict(<type 'str'>, {'lcon': u'producers/NNS were/VBD not/RB selling/VBG at/IN', 'untagged_filler': u'prices in', 'filler': u'prices/NNS in/IN', 'objsym': u'asian', 'objclass': 'GPE', 'objtext': u'Asian/JJ', 'subjsym': u'cut-rate', 'subjclass': 'ORGANIZATION', 'rcon': u'markets/NNS ./. In/IN a/DT separate/JJ', 'subjtext': u'cut-rate/JJ'})\n",
      "defaultdict(<type 'str'>, {'lcon': u'said/VBD ./.', 'untagged_filler': u'FEBRUARY IMPORT PRICES FALL Import prices in', 'filler': u'FEBRUARY/NNP IMPORT/NNP PRICES/NNP FALL/NNP Import/NNP prices/NNS in/IN', 'objsym': u'west_germany', 'objclass': 'GPE', 'objtext': u'West/NNP Germany/NNP', 'subjsym': u'german', 'subjclass': 'ORGANIZATION', 'rcon': u'fell/VBD 0.7/CD pct/NN in/IN February/NNP', 'subjtext': u'GERMAN/JJ'})\n",
      "defaultdict(<type 'str'>, {'lcon': u'TRADE/NNP SECRETARY/NNP PLEASED/NNP WITH/NNP', 'untagged_filler': u'TALKS Philippine Secretary of', 'filler': u'TALKS/NNP Philippine/NNP Secretary/NNP of/IN', 'objsym': u'trade', 'objclass': 'GPE', 'objtext': u'Trade/NNP', 'subjsym': u'gatt', 'subjclass': 'ORGANIZATION', 'rcon': u'and/CC', 'subjtext': u'GATT/NNP'})\n",
      "defaultdict(<type 'str'>, {'lcon': u'progress/NN made/VBN since/IN the/DT latest/JJS', 'untagged_filler': u'round was launched in', 'filler': u'round/NN was/VBD launched/VBN in/IN', 'objsym': u'punta', 'objclass': 'GPE', 'objtext': u'Punta/NNP', 'subjsym': u'gatt', 'subjclass': 'ORGANIZATION', 'rcon': u'del/FW', 'subjtext': u'GATT/NNP'})\n",
      "defaultdict(<type 'str'>, {'lcon': u'producers/NNS were/VBD not/RB selling/VBG at/IN', 'untagged_filler': u'prices in', 'filler': u'prices/NNS in/IN', 'objsym': u'asian', 'objclass': 'GPE', 'objtext': u'Asian/JJ', 'subjsym': u'cut-rate', 'subjclass': 'ORGANIZATION', 'rcon': u'markets/NNS ./. In/IN a/DT separate/JJ', 'subjtext': u'cut-rate/JJ'})\n",
      "defaultdict(<type 'str'>, {'lcon': u'of/IN negotiations/NNS was/VBD launched/VBN at/IN', 'untagged_filler': u'del Este in', 'filler': u'del/FW Este/NNP in/IN', 'objsym': u'uruguay', 'objclass': 'GPE', 'objtext': u'Uruguay/NNP', 'subjsym': u'punta', 'subjclass': 'ORGANIZATION', 'rcon': u'in/IN September/NNP 1986/CD ./. Agriculture/NN', 'subjtext': u'Punta/NNP'})\n",
      "defaultdict(<type 'str'>, {'lcon': u'told/VBD a/DT', 'untagged_filler': u'banking subcommittee . The', 'filler': u'banking/NN subcommittee/NN ./. The/DT', 'objsym': u'us', 'objclass': 'GPE', 'objtext': u'U.S./NNP', 'subjsym': u'house', 'subjclass': 'ORGANIZATION', 'rcon': u'dollar/NN has/VBZ declined/VBN in/IN value/NN', 'subjtext': u'House/NNP'})\n",
      "defaultdict(<type 'str'>, {'lcon': u',/, ``/`` I/PRP urge/VBP the/DT', 'untagged_filler': u'to take full and severe action immediately against', 'filler': u'to/TO take/VB full/JJ and/CC severe/JJ action/NN immediately/RB against/IN', 'objsym': u'japan', 'objclass': 'GPE', 'objtext': u'Japan/NNP', 'subjsym': u'reagan_administration', 'subjclass': 'ORGANIZATION', 'rcon': u'by/IN invoking/VBG the/DT retaliatory/NN steps/NNS', 'subjtext': u'Reagan/NNP Administration/NNP'})\n",
      "defaultdict(<type 'str'>, {'lcon': u'past/JJ 18/CD months/NNS ./. The/DT', 'untagged_filler': u'administration has objected to', 'filler': u'administration/NN has/VBZ objected/VBN to/TO', 'objsym': u'brazil', 'objclass': 'GPE', 'objtext': u'Brazil/NNP', 'subjsym': u'reagan', 'subjclass': 'ORGANIZATION', 'rcon': u'protecting/VBG its/PRP$ computer/NN industry/NN from/IN', 'subjtext': u'Reagan/NNP'})\n",
      "defaultdict(<type 'str'>, {'lcon': u'SEEK/NNP TO/NNP', 'untagged_filler': u'USDA EXPORT BONUS Leading', 'filler': u'USDA/NNP EXPORT/NNP BONUS/NNP Leading/NNP', 'objsym': u'us', 'objclass': 'GPE', 'objtext': u'U.S./NNP', 'subjsym': u'expand', 'subjclass': 'ORGANIZATION', 'rcon': u'farm/NN state/NN senators/NNS are/VBP seeking/VBG', 'subjtext': u'EXPAND/NNP'})\n",
      "defaultdict(<type 'str'>, {'lcon': u\"'s/POS export/NN enhancement/NN program/NN ,/,\", 'untagged_filler': u', to include traditional buyers of', 'filler': u',/, to/TO include/VB traditional/JJ buyers/NNS of/IN', 'objsym': u'us', 'objclass': 'GPE', 'objtext': u'U.S./NNP', 'subjsym': u'eep', 'subjclass': 'ORGANIZATION', 'rcon': u'farm/NN products/NNS ,/, including/VBG the/DT', 'subjtext': u'EEP/NNP'})\n",
      "defaultdict(<type 'str'>, {'lcon': u'(/(', 'untagged_filler': u') . `` Despite easing of curbs on', 'filler': u')/) ./. ``/`` Despite/IN easing/NN of/IN curbs/NNS on/IN', 'objsym': u'us', 'objclass': 'GPE', 'objtext': u'U.S./NNP', 'subjsym': u'gsp', 'subjclass': 'ORGANIZATION', 'rcon': u'Technology/NNP exports/NNS in/IN recent/JJ years/NNS', 'subjtext': u'GSP/NNP'})\n",
      "defaultdict(<type 'str'>, {'lcon': u'the/DT maximum/JJ benefit/NN from/IN its/PRP$', 'untagged_filler': u\"participation , '' he said . The problems facing\", 'filler': u\"participation/NN ,/, ''/'' he/PRP said/VBD ./. The/DT problems/NNS facing/VBG\", 'objsym': u'us-china', 'objclass': 'GPE', 'objtext': u'U.S.-China/NNP', 'subjsym': u'gatt', 'subjclass': 'ORGANIZATION', 'rcon': u'trade/NN and/CC', 'subjtext': u'GATT/NNP'})\n",
      "defaultdict(<type 'str'>, {'lcon': u'and/CC voted/VBD on/IN in/IN the/DT', 'untagged_filler': u'in April .', 'filler': u'in/IN April/NNP ./.', 'objsym': u'us', 'objclass': 'GPE', 'objtext': u'U.S./NNP', 'subjsym': u'house', 'subjclass': 'ORGANIZATION', 'rcon': '', 'subjtext': u'House/NNP'})\n",
      "defaultdict(<type 'str'>, {'lcon': u\"large/JJ agreement/NN ,/, ''/'' the/DT\", 'untagged_filler': u'said in a statement . `` I do not question', 'filler': u'said/VBD in/IN a/DT statement/NN ./. ``/`` I/PRP do/VBP not/RB question/VB', 'objsym': u'canada', 'objclass': 'GPE', 'objtext': u'Canada/NNP', 'subjsym': u'texas_democrat', 'subjclass': 'ORGANIZATION', 'rcon': u\"'s/POS right/NN to/TO protect/VB its/PRP$\", 'subjtext': u'Texas/NNP Democrat/NNP'})\n",
      "defaultdict(<type 'str'>, {'lcon': u'Economic/JJ', 'untagged_filler': u'is expected to discuss possible sanctions against', 'filler': u'is/VBZ expected/VBN to/TO discuss/VB possible/JJ sanctions/NNS against/IN', 'objsym': u'japan', 'objclass': 'GPE', 'objtext': u'Japan/NNP', 'subjsym': u'policy_council', 'subjclass': 'ORGANIZATION', 'rcon': u'at/IN a/DT meeting/NN scheduled/VBN for/IN', 'subjtext': u'Policy/NNP Council/NNP'})\n",
      "defaultdict(<type 'str'>, {'lcon': u'Economic/JJ', 'untagged_filler': u'is expected to discuss possible sanctions against', 'filler': u'is/VBZ expected/VBN to/TO discuss/VB possible/JJ sanctions/NNS against/IN', 'objsym': u'japan', 'objclass': 'GPE', 'objtext': u'Japan/NNP', 'subjsym': u'policy_council', 'subjclass': 'ORGANIZATION', 'rcon': u'at/IN a/DT meeting/NN scheduled/VBN for/IN', 'subjtext': u'Policy/NNP Council/NNP'})\n",
      "defaultdict(<type 'str'>, {'lcon': u'it/PRP held/VBD before/IN the/DT recent/JJ', 'untagged_filler': u'meeting . Earlier this month , talks in', 'filler': u'meeting/NN ./. Earlier/RBR this/DT month/NN ,/, talks/NNS in/IN', 'objsym': u'london', 'objclass': 'GPE', 'objtext': u'London/NNP', 'subjsym': u'international_coffee_organisation', 'subjclass': 'ORGANIZATION', 'rcon': u'to/TO set/VB new/JJ', 'subjtext': u'International/NNP Coffee/NNP Organisation/NNP'})\n",
      "defaultdict(<type 'str'>, {'lcon': u'(/(', 'untagged_filler': u') in', 'filler': u')/) in/IN', 'objsym': u'punta', 'objclass': 'GPE', 'objtext': u'Punta/NNP', 'subjsym': u'gatt', 'subjclass': 'ORGANIZATION', 'rcon': u'del/FW', 'subjtext': u'GATT/NNP'})\n",
      "defaultdict(<type 'str'>, {'lcon': u'a/DT two-day/JJ conference/NN for/IN 22/CD', 'untagged_filler': u'trade ministers held in', 'filler': u'trade/NN ministers/NNS held/VBD in/IN', 'objsym': u'new_zealand', 'objclass': 'GPE', 'objtext': u'New/NNP Zealand/NNP', 'subjsym': u'gatt', 'subjclass': 'ORGANIZATION', 'rcon': u'./. Several/NNP of/IN those/DT ministers/NNS', 'subjtext': u'GATT/NNP'})\n",
      "defaultdict(<type 'str'>, {'lcon': u'fuer/NN Gemeinwirtschaft/NNP (/(', 'untagged_filler': u') in', 'filler': u')/) in/IN', 'objsym': u'frankfurt', 'objclass': 'GPE', 'objtext': u'Frankfurt/NNP', 'subjsym': u'bfg', 'subjclass': 'ORGANIZATION', 'rcon': u'said/VBD a/DT two-month/JJ comparison/NN of/IN', 'subjtext': u'BfG/NNP'})\n",
      "defaultdict(<type 'str'>, {'lcon': u'said/VBD in/IN an/DT interview/NN on/IN', 'untagged_filler': u\"'s `` Moneyline '' television program . He said\", 'filler': u\"'s/POS ``/`` Moneyline/NNP ''/'' television/NN program/NN ./. He/PRP said/VBD\", 'objsym': u'us', 'objclass': 'GPE', 'objtext': u'U.S./NNP', 'subjsym': u'cable_news_network', 'subjclass': 'ORGANIZATION', 'rcon': u'taxpayers/NNS are/VBP taxed/VBN at/IN a/DT', 'subjtext': u'Cable/NNP News/NNP Network/NNP'})\n",
      "defaultdict(<type 'str'>, {'lcon': u\"'s/POS ruling/VBG\", 'untagged_filler': u'have signed a motion calling for trade sanctions against', 'filler': u'have/VBP signed/VBN a/DT motion/NN calling/VBG for/IN trade/NN sanctions/NNS against/IN', 'objsym': u'japan', 'objclass': 'GPE', 'objtext': u'Japan/NNP', 'subjsym': u'conservative_party', 'subjclass': 'ORGANIZATION', 'rcon': u'to/TO force/VB', 'subjtext': u'Conservative/NNP Party/NNP'})\n",
      "defaultdict(<type 'str'>, {'lcon': u'told/VBD a/DT', 'untagged_filler': u'banking subcommittee . He said that for the', 'filler': u'banking/NN subcommittee/NN ./. He/PRP said/VBD that/IN for/IN the/DT', 'objsym': u'us', 'objclass': 'GPE', 'objtext': u'U.S./NNP', 'subjsym': u'senate', 'subjclass': 'ORGANIZATION', 'rcon': u'trade/NN deficit/NN to/TO continue/VB improving/VBG', 'subjtext': u'Senate/NNP'})\n"
     ]
    }
   ],
   "source": [
    "for rel in v:\n",
    "    # print nltk.sem.show_raw_rtuple(rel)\n",
    "    print rel"
   ]
  },
  {
   "cell_type": "markdown",
   "metadata": {
    "nbpresent": {
     "id": "6f996d11-7e85-492e-b694-b3096c86fb97"
    }
   },
   "source": [
    "## X. Topic Modeling with LDA"
   ]
  },
  {
   "cell_type": "code",
   "execution_count": null,
   "metadata": {
    "collapsed": true,
    "nbpresent": {
     "id": "b5e557e6-af35-40f1-8b8a-100df01ee4d2"
    }
   },
   "outputs": [],
   "source": [
    "# LDA and such\n",
    "print reuters.words(categories='coffee')[:30]\n",
    "\n",
    "cfd = nltk.ConditionalFreqDist((category, word.lower())\n",
    "                                for category in ['coffee', 'corn', 'wheat']\n",
    "                                for word in reuters.words(categories=category))\n",
    "\n",
    "cfd.tabulate(samples=['barley','petroleum','brazil','nitrates','moisture','weather'])\n",
    "cfd.plot(samples=['barley','petroleum','brazil','nitrates','moisture','weather'])"
   ]
  }
 ],
 "metadata": {
  "anaconda-cloud": {},
  "celltoolbar": "Slideshow",
  "kernelspec": {
   "display_name": "Python [default]",
   "language": "python",
   "name": "python2"
  },
  "language_info": {
   "codemirror_mode": {
    "name": "ipython",
    "version": 2
   },
   "file_extension": ".py",
   "mimetype": "text/x-python",
   "name": "python",
   "nbconvert_exporter": "python",
   "pygments_lexer": "ipython2",
   "version": "2.7.12"
  },
  "nbpresent": {
   "slides": {
    "16df8b59-5bc2-4d5b-ba3f-a178744ac923": {
     "id": "16df8b59-5bc2-4d5b-ba3f-a178744ac923",
     "prev": "aa3ee3b4-556f-4ea8-b8a4-e51c983ca770",
     "regions": {
      "ab3fc3b2-a4b3-4943-9aa5-825ac7088ff5": {
       "attrs": {
        "height": 1,
        "width": 1,
        "x": 0,
        "y": 0
       },
       "content": {
        "cell": "1fd934b5-bc66-4e5d-b1f1-b761fd7c1b3b",
        "part": "source"
       },
       "id": "ab3fc3b2-a4b3-4943-9aa5-825ac7088ff5"
      }
     }
    },
    "30f3fb19-fbe3-4d69-abd5-7f8b7f40efd8": {
     "id": "30f3fb19-fbe3-4d69-abd5-7f8b7f40efd8",
     "prev": "16df8b59-5bc2-4d5b-ba3f-a178744ac923",
     "regions": {
      "4e25a3a0-2bae-441b-8b54-169061b9f3e3": {
       "attrs": {
        "height": 1,
        "width": 1,
        "x": 0,
        "y": 0
       },
       "content": {
        "cell": "695365a2-6432-4ccb-a0f7-102a4ada25a2",
        "part": "source"
       },
       "id": "4e25a3a0-2bae-441b-8b54-169061b9f3e3"
      }
     }
    },
    "7a2c2b31-a6ac-4207-9c14-d99373562671": {
     "id": "7a2c2b31-a6ac-4207-9c14-d99373562671",
     "prev": "b5748b9e-f422-4eb4-97d8-013656ea71ea",
     "regions": {
      "522b018f-71db-441b-acea-9bc6ac6e8fab": {
       "attrs": {
        "height": 0.8,
        "width": 0.45,
        "x": 0.05,
        "y": 0.1
       },
       "content": {
        "cell": "a3e854d4-afd1-407b-ad3b-3388adfa5c59",
        "part": "source"
       },
       "id": "522b018f-71db-441b-acea-9bc6ac6e8fab"
      },
      "75c3539a-d2df-44a7-9d7b-b782086041b6": {
       "attrs": {
        "height": 0.8,
        "width": 0.45,
        "x": 0.5,
        "y": 0.1
       },
       "content": {
        "cell": "39a062c0-53d9-4836-b7f2-d863557c3842",
        "part": "whole"
       },
       "id": "75c3539a-d2df-44a7-9d7b-b782086041b6"
      }
     }
    },
    "8ee2439b-8d0e-45af-a452-b807bd7d1cb0": {
     "id": "8ee2439b-8d0e-45af-a452-b807bd7d1cb0",
     "prev": null,
     "regions": {
      "ff2c3bf2-9512-4de8-a236-39de1db8813a": {
       "attrs": {
        "height": 0.8,
        "width": 0.45,
        "x": 0.05,
        "y": 0.1
       },
       "content": {
        "cell": "c8b3ec86-ac5d-44c9-a5c5-ea12c7ccb113",
        "part": "source"
       },
       "id": "ff2c3bf2-9512-4de8-a236-39de1db8813a"
      }
     }
    },
    "aa3ee3b4-556f-4ea8-b8a4-e51c983ca770": {
     "id": "aa3ee3b4-556f-4ea8-b8a4-e51c983ca770",
     "prev": "8ee2439b-8d0e-45af-a452-b807bd7d1cb0",
     "regions": {
      "18dde78c-c9d1-433b-b821-25954e65efc6": {
       "attrs": {
        "height": 1,
        "width": 1,
        "x": 0,
        "y": 0
       },
       "content": {
        "cell": "0c03e049-d629-440b-85bd-ef2883ca61ad",
        "part": "source"
       },
       "id": "18dde78c-c9d1-433b-b821-25954e65efc6"
      }
     }
    },
    "b5748b9e-f422-4eb4-97d8-013656ea71ea": {
     "id": "b5748b9e-f422-4eb4-97d8-013656ea71ea",
     "prev": "30f3fb19-fbe3-4d69-abd5-7f8b7f40efd8",
     "regions": {
      "cf8a6c53-278d-4d91-8131-8a73a4e6ef28": {
       "attrs": {
        "height": 1,
        "width": 1,
        "x": 0,
        "y": 0
       },
       "content": {
        "cell": "a3e854d4-afd1-407b-ad3b-3388adfa5c59",
        "part": "source"
       },
       "id": "cf8a6c53-278d-4d91-8131-8a73a4e6ef28"
      }
     }
    },
    "ffce2803-6b15-4098-9995-74f1fbbb9307": {
     "id": "ffce2803-6b15-4098-9995-74f1fbbb9307",
     "prev": "7a2c2b31-a6ac-4207-9c14-d99373562671",
     "regions": {
      "0f1c7dd4-d298-45cf-8c6a-57b877272ae8": {
       "attrs": {
        "height": 1,
        "width": 1,
        "x": 0,
        "y": 0
       },
       "content": {
        "cell": "39a062c0-53d9-4836-b7f2-d863557c3842",
        "part": "whole"
       },
       "id": "0f1c7dd4-d298-45cf-8c6a-57b877272ae8"
      }
     }
    }
   },
   "themes": {
    "default": "074f5102-975e-42ad-a86d-e888569a1bb0",
    "theme": {
     "074f5102-975e-42ad-a86d-e888569a1bb0": {
      "backgrounds": {
       "dc7afa04-bf90-40b1-82a5-726e3cff5267": {
        "background-color": "31af15d2-7e15-44c5-ab5e-e04b16a89eff",
        "id": "dc7afa04-bf90-40b1-82a5-726e3cff5267"
       }
      },
      "id": "074f5102-975e-42ad-a86d-e888569a1bb0",
      "palette": {
       "19cc588f-0593-49c9-9f4b-e4d7cc113b1c": {
        "id": "19cc588f-0593-49c9-9f4b-e4d7cc113b1c",
        "rgb": [
         252,
         252,
         252
        ]
       },
       "31af15d2-7e15-44c5-ab5e-e04b16a89eff": {
        "id": "31af15d2-7e15-44c5-ab5e-e04b16a89eff",
        "rgb": [
         68,
         68,
         68
        ]
       },
       "50f92c45-a630-455b-aec3-788680ec7410": {
        "id": "50f92c45-a630-455b-aec3-788680ec7410",
        "rgb": [
         197,
         226,
         245
        ]
       },
       "c5cc3653-2ee1-402a-aba2-7caae1da4f6c": {
        "id": "c5cc3653-2ee1-402a-aba2-7caae1da4f6c",
        "rgb": [
         43,
         126,
         184
        ]
       },
       "efa7f048-9acb-414c-8b04-a26811511a21": {
        "id": "efa7f048-9acb-414c-8b04-a26811511a21",
        "rgb": [
         25.118061674008803,
         73.60176211453744,
         107.4819383259912
        ]
       }
      },
      "rules": {
       "a": {
        "color": "19cc588f-0593-49c9-9f4b-e4d7cc113b1c"
       },
       "blockquote": {
        "color": "50f92c45-a630-455b-aec3-788680ec7410",
        "font-size": 3
       },
       "code": {
        "font-family": "Anonymous Pro"
       },
       "h1": {
        "color": "19cc588f-0593-49c9-9f4b-e4d7cc113b1c",
        "font-family": "Merriweather",
        "font-size": 8
       },
       "h2": {
        "color": "19cc588f-0593-49c9-9f4b-e4d7cc113b1c",
        "font-family": "Merriweather",
        "font-size": 6
       },
       "h3": {
        "color": "50f92c45-a630-455b-aec3-788680ec7410",
        "font-family": "Lato",
        "font-size": 5.5
       },
       "h4": {
        "color": "c5cc3653-2ee1-402a-aba2-7caae1da4f6c",
        "font-family": "Lato",
        "font-size": 5
       },
       "h5": {
        "font-family": "Lato"
       },
       "h6": {
        "font-family": "Lato"
       },
       "h7": {
        "font-family": "Lato"
       },
       "li": {
        "color": "50f92c45-a630-455b-aec3-788680ec7410",
        "font-size": 3.25
       },
       "pre": {
        "font-family": "Anonymous Pro",
        "font-size": 4
       }
      },
      "text-base": {
       "color": "19cc588f-0593-49c9-9f4b-e4d7cc113b1c",
       "font-family": "Lato",
       "font-size": 4
      }
     },
     "870622fb-0a9f-4a9f-9d04-a55735a537a8": {
      "id": "870622fb-0a9f-4a9f-9d04-a55735a537a8",
      "palette": {
       "19cc588f-0593-49c9-9f4b-e4d7cc113b1c": {
        "id": "19cc588f-0593-49c9-9f4b-e4d7cc113b1c",
        "rgb": [
         252,
         252,
         252
        ]
       },
       "31af15d2-7e15-44c5-ab5e-e04b16a89eff": {
        "id": "31af15d2-7e15-44c5-ab5e-e04b16a89eff",
        "rgb": [
         68,
         68,
         68
        ]
       },
       "50f92c45-a630-455b-aec3-788680ec7410": {
        "id": "50f92c45-a630-455b-aec3-788680ec7410",
        "rgb": [
         155,
         177,
         192
        ]
       },
       "c5cc3653-2ee1-402a-aba2-7caae1da4f6c": {
        "id": "c5cc3653-2ee1-402a-aba2-7caae1da4f6c",
        "rgb": [
         43,
         126,
         184
        ]
       },
       "efa7f048-9acb-414c-8b04-a26811511a21": {
        "id": "efa7f048-9acb-414c-8b04-a26811511a21",
        "rgb": [
         25.118061674008803,
         73.60176211453744,
         107.4819383259912
        ]
       }
      },
      "rules": {
       "blockquote": {
        "color": "50f92c45-a630-455b-aec3-788680ec7410"
       },
       "code": {
        "font-family": "Anonymous Pro"
       },
       "h1": {
        "color": "c5cc3653-2ee1-402a-aba2-7caae1da4f6c",
        "font-family": "Lato",
        "font-size": 8
       },
       "h2": {
        "color": "c5cc3653-2ee1-402a-aba2-7caae1da4f6c",
        "font-family": "Lato",
        "font-size": 6
       },
       "h3": {
        "color": "50f92c45-a630-455b-aec3-788680ec7410",
        "font-family": "Lato",
        "font-size": 5.5
       },
       "h4": {
        "color": "c5cc3653-2ee1-402a-aba2-7caae1da4f6c",
        "font-family": "Lato",
        "font-size": 5
       },
       "h5": {
        "font-family": "Lato"
       },
       "h6": {
        "font-family": "Lato"
       },
       "h7": {
        "font-family": "Lato"
       },
       "pre": {
        "font-family": "Anonymous Pro",
        "font-size": 4
       }
      },
      "text-base": {
       "font-family": "Merriweather",
       "font-size": 4
      }
     }
    }
   }
  }
 },
 "nbformat": 4,
 "nbformat_minor": 1
}
