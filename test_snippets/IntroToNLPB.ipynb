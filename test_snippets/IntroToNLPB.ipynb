{
 "cells": [
  {
   "cell_type": "markdown",
   "metadata": {
    "nbpresent": {
     "id": "c8b3ec86-ac5d-44c9-a5c5-ea12c7ccb113"
    },
    "slideshow": {
     "slide_type": "slide"
    }
   },
   "source": [
    "# Introduction to Natural Language Processing\n"
   ]
  },
  {
   "cell_type": "markdown",
   "metadata": {
    "nbpresent": {
     "id": "1fd934b5-bc66-4e5d-b1f1-b761fd7c1b3b"
    },
    "slideshow": {
     "slide_type": "slide"
    }
   },
   "source": [
    "### Outline\n",
    "\n",
    "TODO. The future\n",
    "1. IBM's Watson on Jeopardy and Question Answering Systems\n",
    "2. Spoken Dialogue Systems\n",
    "\n",
    "TODO. Challenges\n",
    "1. WSD - Word sense disambiguation for homonyms.\n",
    "    \"Serve\" has several senses: give food or drink; hold office; put ball into play\n",
    "    In clinical domain, \"pt\" may stand for patient; prothrombin time; physical therapist\n",
    "    \n",
    "2. Pronoun/Coreference Resolution\n",
    "    \n",
    "### References\n",
    "\n",
    "[1] Nature Reviews\n",
    "\n",
    "[2] Deep Patient\n",
    "\n",
    "[3] Bird, S., Klein, E., Loper, E. ``Natural Language Processing with Python'' O'Reilly"
   ]
  },
  {
   "cell_type": "code",
   "execution_count": 146,
   "metadata": {
    "collapsed": true
   },
   "outputs": [],
   "source": [
    "# Get the 20 newsgroups Corpus (just the train set for now)\n",
    "from sklearn.datasets import fetch_20newsgroups\n",
    "news = fetch_20newsgroups(subset='train',\n",
    "                          categories=('rec.autos',\n",
    "                             'rec.motorcycles',\n",
    "                             'rec.sport.baseball',\n",
    "                             'rec.sport.hockey'),\n",
    "                          remove=('headers', 'footers', 'quotes'))"
   ]
  },
  {
   "cell_type": "code",
   "execution_count": 202,
   "metadata": {
    "collapsed": false
   },
   "outputs": [
    {
     "name": "stdout",
     "output_type": "stream",
     "text": [
      "Stolen from Pasadena between 4:30 and 6:30 pm on 4/15.\n",
      "\n",
      "Blue and white Honda CBR900RR california plate KG CBR.   Serial number\n",
      "JH2SC281XPM100187, engine number 2101240.\n",
      "\n",
      "No turn signals or mirrors, lights taped over for track riders session\n",
      "at Willow Springs tomorrow.  Guess I'll miss it.  :-(((\n",
      "\n",
      "Help me find my baby!!!\n"
     ]
    }
   ],
   "source": [
    "print(news.data[50])"
   ]
  },
  {
   "cell_type": "markdown",
   "metadata": {
    "nbpresent": {
     "id": "c4b045f3-2bd5-402a-897c-6f31a92ca7e1"
    },
    "slideshow": {
     "slide_type": "slide"
    }
   },
   "source": [
    "### Sentence and Word Segmentation, Tokenization\n",
    "\n",
    "**DEF.** A *token* is the technical name for a sequence of characters, e.g. \"sugery\", \"hip\", \"ward\", that we want to treat as a group. "
   ]
  },
  {
   "cell_type": "code",
   "execution_count": 210,
   "metadata": {
    "collapsed": false
   },
   "outputs": [
    {
     "data": {
      "text/plain": [
       "u'No turn signals or mirrors, lights taped over for track riders session\\nat Willow Springs tomorrow.'"
      ]
     },
     "execution_count": 210,
     "metadata": {},
     "output_type": "execute_result"
    }
   ],
   "source": [
    "sent = sents[3]\n",
    "sent"
   ]
  },
  {
   "cell_type": "code",
   "execution_count": 211,
   "metadata": {
    "collapsed": false
   },
   "outputs": [
    {
     "data": {
      "text/plain": [
       "[u'No',\n",
       " u'turn',\n",
       " u'signals',\n",
       " u'or',\n",
       " u'mirrors',\n",
       " u',',\n",
       " u'lights',\n",
       " u'taped',\n",
       " u'over',\n",
       " u'for',\n",
       " u'track',\n",
       " u'riders',\n",
       " u'session',\n",
       " u'at',\n",
       " u'Willow',\n",
       " u'Springs',\n",
       " u'tomorrow',\n",
       " u'.']"
      ]
     },
     "execution_count": 211,
     "metadata": {},
     "output_type": "execute_result"
    }
   ],
   "source": [
    "# Segment the words in sentence with a \"tokenizer\"\n",
    "tokens = nltk.word_tokenize(sent)\n",
    "tokens"
   ]
  },
  {
   "cell_type": "code",
   "execution_count": 226,
   "metadata": {
    "collapsed": false,
    "nbpresent": {
     "id": "b1337ff5-9c90-4da6-8d7d-6de0fb6daf24"
    },
    "slideshow": {
     "slide_type": "subslide"
    }
   },
   "outputs": [
    {
     "name": "stdout",
     "output_type": "stream",
     "text": [
      "(u'No', 'DT')\n",
      "(u'turn', 'NN')\n",
      "(u'signals', 'NNS')\n",
      "(u'or', 'CC')\n",
      "(u'mirrors', 'NNS')\n",
      "(u',', ',')\n",
      "(u'lights', 'NNS')\n",
      "(u'taped', 'VBD')\n",
      "(u'over', 'IN')\n",
      "(u'for', 'IN')\n",
      "(u'track', 'NN')\n",
      "(u'riders', 'NNS')\n",
      "(u'session', 'NN')\n",
      "(u'at', 'IN')\n",
      "(u'Willow', 'NNP')\n",
      "(u'Springs', 'NNP')\n",
      "(u'tomorrow', 'NN')\n",
      "(u'.', '.')\n"
     ]
    }
   ],
   "source": [
    "post_tokens = nltk.pos_tag(tokens)\n",
    "for item in post_tokens:\n",
    "    print item"
   ]
  }
 ],
 "metadata": {
  "anaconda-cloud": {},
  "celltoolbar": "Slideshow",
  "kernelspec": {
   "display_name": "Python [default]",
   "language": "python",
   "name": "python2"
  },
  "language_info": {
   "codemirror_mode": {
    "name": "ipython",
    "version": 2
   },
   "file_extension": ".py",
   "mimetype": "text/x-python",
   "name": "python",
   "nbconvert_exporter": "python",
   "pygments_lexer": "ipython2",
   "version": "2.7.12"
  },
  "nbpresent": {
   "slides": {
    "16df8b59-5bc2-4d5b-ba3f-a178744ac923": {
     "id": "16df8b59-5bc2-4d5b-ba3f-a178744ac923",
     "prev": "aa3ee3b4-556f-4ea8-b8a4-e51c983ca770",
     "regions": {
      "ab3fc3b2-a4b3-4943-9aa5-825ac7088ff5": {
       "attrs": {
        "height": 1,
        "width": 1,
        "x": 0,
        "y": 0
       },
       "content": {
        "cell": "1fd934b5-bc66-4e5d-b1f1-b761fd7c1b3b",
        "part": "source"
       },
       "id": "ab3fc3b2-a4b3-4943-9aa5-825ac7088ff5"
      }
     }
    },
    "30f3fb19-fbe3-4d69-abd5-7f8b7f40efd8": {
     "id": "30f3fb19-fbe3-4d69-abd5-7f8b7f40efd8",
     "prev": "16df8b59-5bc2-4d5b-ba3f-a178744ac923",
     "regions": {
      "4e25a3a0-2bae-441b-8b54-169061b9f3e3": {
       "attrs": {
        "height": 1,
        "width": 1,
        "x": 0,
        "y": 0
       },
       "content": {
        "cell": "695365a2-6432-4ccb-a0f7-102a4ada25a2",
        "part": "source"
       },
       "id": "4e25a3a0-2bae-441b-8b54-169061b9f3e3"
      }
     }
    },
    "7a2c2b31-a6ac-4207-9c14-d99373562671": {
     "id": "7a2c2b31-a6ac-4207-9c14-d99373562671",
     "prev": "b5748b9e-f422-4eb4-97d8-013656ea71ea",
     "regions": {
      "522b018f-71db-441b-acea-9bc6ac6e8fab": {
       "attrs": {
        "height": 0.8,
        "width": 0.45,
        "x": 0.05,
        "y": 0.1
       },
       "content": {
        "cell": "a3e854d4-afd1-407b-ad3b-3388adfa5c59",
        "part": "source"
       },
       "id": "522b018f-71db-441b-acea-9bc6ac6e8fab"
      },
      "75c3539a-d2df-44a7-9d7b-b782086041b6": {
       "attrs": {
        "height": 0.8,
        "width": 0.45,
        "x": 0.5,
        "y": 0.1
       },
       "content": {
        "cell": "39a062c0-53d9-4836-b7f2-d863557c3842",
        "part": "whole"
       },
       "id": "75c3539a-d2df-44a7-9d7b-b782086041b6"
      }
     }
    },
    "8ee2439b-8d0e-45af-a452-b807bd7d1cb0": {
     "id": "8ee2439b-8d0e-45af-a452-b807bd7d1cb0",
     "prev": null,
     "regions": {
      "ff2c3bf2-9512-4de8-a236-39de1db8813a": {
       "attrs": {
        "height": 0.8,
        "width": 0.45,
        "x": 0.05,
        "y": 0.1
       },
       "content": {
        "cell": "c8b3ec86-ac5d-44c9-a5c5-ea12c7ccb113",
        "part": "source"
       },
       "id": "ff2c3bf2-9512-4de8-a236-39de1db8813a"
      }
     }
    },
    "aa3ee3b4-556f-4ea8-b8a4-e51c983ca770": {
     "id": "aa3ee3b4-556f-4ea8-b8a4-e51c983ca770",
     "prev": "8ee2439b-8d0e-45af-a452-b807bd7d1cb0",
     "regions": {
      "18dde78c-c9d1-433b-b821-25954e65efc6": {
       "attrs": {
        "height": 1,
        "width": 1,
        "x": 0,
        "y": 0
       },
       "content": {
        "cell": "0c03e049-d629-440b-85bd-ef2883ca61ad",
        "part": "source"
       },
       "id": "18dde78c-c9d1-433b-b821-25954e65efc6"
      }
     }
    },
    "b5748b9e-f422-4eb4-97d8-013656ea71ea": {
     "id": "b5748b9e-f422-4eb4-97d8-013656ea71ea",
     "prev": "30f3fb19-fbe3-4d69-abd5-7f8b7f40efd8",
     "regions": {
      "cf8a6c53-278d-4d91-8131-8a73a4e6ef28": {
       "attrs": {
        "height": 1,
        "width": 1,
        "x": 0,
        "y": 0
       },
       "content": {
        "cell": "a3e854d4-afd1-407b-ad3b-3388adfa5c59",
        "part": "source"
       },
       "id": "cf8a6c53-278d-4d91-8131-8a73a4e6ef28"
      }
     }
    },
    "ffce2803-6b15-4098-9995-74f1fbbb9307": {
     "id": "ffce2803-6b15-4098-9995-74f1fbbb9307",
     "prev": "7a2c2b31-a6ac-4207-9c14-d99373562671",
     "regions": {
      "0f1c7dd4-d298-45cf-8c6a-57b877272ae8": {
       "attrs": {
        "height": 1,
        "width": 1,
        "x": 0,
        "y": 0
       },
       "content": {
        "cell": "39a062c0-53d9-4836-b7f2-d863557c3842",
        "part": "whole"
       },
       "id": "0f1c7dd4-d298-45cf-8c6a-57b877272ae8"
      }
     }
    }
   },
   "themes": {
    "default": "074f5102-975e-42ad-a86d-e888569a1bb0",
    "theme": {
     "074f5102-975e-42ad-a86d-e888569a1bb0": {
      "backgrounds": {
       "dc7afa04-bf90-40b1-82a5-726e3cff5267": {
        "background-color": "31af15d2-7e15-44c5-ab5e-e04b16a89eff",
        "id": "dc7afa04-bf90-40b1-82a5-726e3cff5267"
       }
      },
      "id": "074f5102-975e-42ad-a86d-e888569a1bb0",
      "palette": {
       "19cc588f-0593-49c9-9f4b-e4d7cc113b1c": {
        "id": "19cc588f-0593-49c9-9f4b-e4d7cc113b1c",
        "rgb": [
         252,
         252,
         252
        ]
       },
       "31af15d2-7e15-44c5-ab5e-e04b16a89eff": {
        "id": "31af15d2-7e15-44c5-ab5e-e04b16a89eff",
        "rgb": [
         68,
         68,
         68
        ]
       },
       "50f92c45-a630-455b-aec3-788680ec7410": {
        "id": "50f92c45-a630-455b-aec3-788680ec7410",
        "rgb": [
         197,
         226,
         245
        ]
       },
       "c5cc3653-2ee1-402a-aba2-7caae1da4f6c": {
        "id": "c5cc3653-2ee1-402a-aba2-7caae1da4f6c",
        "rgb": [
         43,
         126,
         184
        ]
       },
       "efa7f048-9acb-414c-8b04-a26811511a21": {
        "id": "efa7f048-9acb-414c-8b04-a26811511a21",
        "rgb": [
         25.118061674008803,
         73.60176211453744,
         107.4819383259912
        ]
       }
      },
      "rules": {
       "a": {
        "color": "19cc588f-0593-49c9-9f4b-e4d7cc113b1c"
       },
       "blockquote": {
        "color": "50f92c45-a630-455b-aec3-788680ec7410",
        "font-size": 3
       },
       "code": {
        "font-family": "Anonymous Pro"
       },
       "h1": {
        "color": "19cc588f-0593-49c9-9f4b-e4d7cc113b1c",
        "font-family": "Merriweather",
        "font-size": 8
       },
       "h2": {
        "color": "19cc588f-0593-49c9-9f4b-e4d7cc113b1c",
        "font-family": "Merriweather",
        "font-size": 6
       },
       "h3": {
        "color": "50f92c45-a630-455b-aec3-788680ec7410",
        "font-family": "Lato",
        "font-size": 5.5
       },
       "h4": {
        "color": "c5cc3653-2ee1-402a-aba2-7caae1da4f6c",
        "font-family": "Lato",
        "font-size": 5
       },
       "h5": {
        "font-family": "Lato"
       },
       "h6": {
        "font-family": "Lato"
       },
       "h7": {
        "font-family": "Lato"
       },
       "li": {
        "color": "50f92c45-a630-455b-aec3-788680ec7410",
        "font-size": 3.25
       },
       "pre": {
        "font-family": "Anonymous Pro",
        "font-size": 4
       }
      },
      "text-base": {
       "color": "19cc588f-0593-49c9-9f4b-e4d7cc113b1c",
       "font-family": "Lato",
       "font-size": 4
      }
     },
     "870622fb-0a9f-4a9f-9d04-a55735a537a8": {
      "id": "870622fb-0a9f-4a9f-9d04-a55735a537a8",
      "palette": {
       "19cc588f-0593-49c9-9f4b-e4d7cc113b1c": {
        "id": "19cc588f-0593-49c9-9f4b-e4d7cc113b1c",
        "rgb": [
         252,
         252,
         252
        ]
       },
       "31af15d2-7e15-44c5-ab5e-e04b16a89eff": {
        "id": "31af15d2-7e15-44c5-ab5e-e04b16a89eff",
        "rgb": [
         68,
         68,
         68
        ]
       },
       "50f92c45-a630-455b-aec3-788680ec7410": {
        "id": "50f92c45-a630-455b-aec3-788680ec7410",
        "rgb": [
         155,
         177,
         192
        ]
       },
       "c5cc3653-2ee1-402a-aba2-7caae1da4f6c": {
        "id": "c5cc3653-2ee1-402a-aba2-7caae1da4f6c",
        "rgb": [
         43,
         126,
         184
        ]
       },
       "efa7f048-9acb-414c-8b04-a26811511a21": {
        "id": "efa7f048-9acb-414c-8b04-a26811511a21",
        "rgb": [
         25.118061674008803,
         73.60176211453744,
         107.4819383259912
        ]
       }
      },
      "rules": {
       "blockquote": {
        "color": "50f92c45-a630-455b-aec3-788680ec7410"
       },
       "code": {
        "font-family": "Anonymous Pro"
       },
       "h1": {
        "color": "c5cc3653-2ee1-402a-aba2-7caae1da4f6c",
        "font-family": "Lato",
        "font-size": 8
       },
       "h2": {
        "color": "c5cc3653-2ee1-402a-aba2-7caae1da4f6c",
        "font-family": "Lato",
        "font-size": 6
       },
       "h3": {
        "color": "50f92c45-a630-455b-aec3-788680ec7410",
        "font-family": "Lato",
        "font-size": 5.5
       },
       "h4": {
        "color": "c5cc3653-2ee1-402a-aba2-7caae1da4f6c",
        "font-family": "Lato",
        "font-size": 5
       },
       "h5": {
        "font-family": "Lato"
       },
       "h6": {
        "font-family": "Lato"
       },
       "h7": {
        "font-family": "Lato"
       },
       "pre": {
        "font-family": "Anonymous Pro",
        "font-size": 4
       }
      },
      "text-base": {
       "font-family": "Merriweather",
       "font-size": 4
      }
     }
    }
   }
  }
 },
 "nbformat": 4,
 "nbformat_minor": 1
}
